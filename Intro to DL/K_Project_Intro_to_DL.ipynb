{
 "cells": [
  {
   "cell_type": "markdown",
   "id": "4a408941",
   "metadata": {},
   "source": [
    "# Importing Libraries"
   ]
  },
  {
   "cell_type": "code",
   "execution_count": 349,
   "id": "c3b24d3b",
   "metadata": {},
   "outputs": [],
   "source": [
    "import numpy as np\n",
    "import pandas as pd\n",
    "import sklearn\n",
    "import tensorflow as tf\n",
    "from tensorflow.keras.utils import to_categorical\n",
    "from tensorflow.keras import backend\n",
    "from tensorflow.keras.models import Sequential\n",
    "from tensorflow.keras.layers import Dense\n",
    "from tensorflow.keras.layers import Dense, Input, Dropout,BatchNormalization\n",
    "from tensorflow.keras import losses\n",
    "from tensorflow.keras import optimizers\n",
    "from tensorflow.keras.callbacks import ModelCheckpoint, ReduceLROnPlateau\n",
    "from tensorflow.keras.wrappers.scikit_learn import KerasClassifier\n",
    "from tensorflow.keras.layers import Activation, Dense\n",
    "import matplotlib.pyplot as plt\n",
    "import seaborn as sns\n",
    "from sklearn.model_selection import train_test_split\n",
    "from sklearn.model_selection import RandomizedSearchCV\n",
    "from sklearn.preprocessing import LabelEncoder, OneHotEncoder\n",
    "from sklearn.preprocessing import StandardScaler\n",
    "from sklearn.metrics import classification_report\n",
    "from sklearn import model_selection\n",
    "import os\n",
    "import h5py"
   ]
  },
  {
   "cell_type": "code",
   "execution_count": 6,
   "id": "d7aa8bb4",
   "metadata": {},
   "outputs": [
    {
     "name": "stdout",
     "output_type": "stream",
     "text": [
      "TensorFlow has access to the following devices:\n",
      "[PhysicalDevice(name='/physical_device:CPU:0', device_type='CPU'), PhysicalDevice(name='/physical_device:GPU:0', device_type='GPU')]\n",
      "TensorFlow version: 2.12.0\n"
     ]
    }
   ],
   "source": [
    "# Check for TensorFlow GPU access\n",
    "print(f\"TensorFlow has access to the following devices:\\n{tf.config.list_physical_devices()}\")\n",
    "\n",
    "# See TensorFlow version\n",
    "print(f\"TensorFlow version: {tf.__version__}\")"
   ]
  },
  {
   "cell_type": "markdown",
   "id": "f812384b",
   "metadata": {},
   "source": [
    "# PART A"
   ]
  },
  {
   "cell_type": "markdown",
   "id": "0ddd2b65",
   "metadata": {},
   "source": [
    "## Q1. Data import and Understanding"
   ]
  },
  {
   "cell_type": "markdown",
   "id": "000daa88",
   "metadata": {},
   "source": [
    "### A. Read the ‘Signals.csv’ as DataFrame"
   ]
  },
  {
   "cell_type": "code",
   "execution_count": 55,
   "id": "ee320602",
   "metadata": {},
   "outputs": [],
   "source": [
    "PATH =  \"/Users/kashmkj/Documents/Learning Resources/GreatLearning/Intro to DL:NN/Projects\"\n",
    "\n",
    "# Checking filename\n",
    "os.listdir(PATH)"
   ]
  },
  {
   "cell_type": "code",
   "execution_count": 57,
   "id": "99244005",
   "metadata": {},
   "outputs": [],
   "source": [
    "df_signals = pd.read_csv(PATH + \"/Part-+1%2C2%263+-+Signal.csv\")"
   ]
  },
  {
   "cell_type": "code",
   "execution_count": 60,
   "id": "0d6579e4",
   "metadata": {},
   "outputs": [
    {
     "data": {
      "text/html": [
       "<div>\n",
       "<style scoped>\n",
       "    .dataframe tbody tr th:only-of-type {\n",
       "        vertical-align: middle;\n",
       "    }\n",
       "\n",
       "    .dataframe tbody tr th {\n",
       "        vertical-align: top;\n",
       "    }\n",
       "\n",
       "    .dataframe thead th {\n",
       "        text-align: right;\n",
       "    }\n",
       "</style>\n",
       "<table border=\"1\" class=\"dataframe\">\n",
       "  <thead>\n",
       "    <tr style=\"text-align: right;\">\n",
       "      <th></th>\n",
       "      <th>Parameter 1</th>\n",
       "      <th>Parameter 2</th>\n",
       "      <th>Parameter 3</th>\n",
       "      <th>Parameter 4</th>\n",
       "      <th>Parameter 5</th>\n",
       "      <th>Parameter 6</th>\n",
       "      <th>Parameter 7</th>\n",
       "      <th>Parameter 8</th>\n",
       "      <th>Parameter 9</th>\n",
       "      <th>Parameter 10</th>\n",
       "      <th>Parameter 11</th>\n",
       "      <th>Signal_Strength</th>\n",
       "    </tr>\n",
       "  </thead>\n",
       "  <tbody>\n",
       "    <tr>\n",
       "      <th>0</th>\n",
       "      <td>7.4</td>\n",
       "      <td>0.70</td>\n",
       "      <td>0.00</td>\n",
       "      <td>1.9</td>\n",
       "      <td>0.076</td>\n",
       "      <td>11.0</td>\n",
       "      <td>34.0</td>\n",
       "      <td>0.9978</td>\n",
       "      <td>3.51</td>\n",
       "      <td>0.56</td>\n",
       "      <td>9.4</td>\n",
       "      <td>5</td>\n",
       "    </tr>\n",
       "    <tr>\n",
       "      <th>1</th>\n",
       "      <td>7.8</td>\n",
       "      <td>0.88</td>\n",
       "      <td>0.00</td>\n",
       "      <td>2.6</td>\n",
       "      <td>0.098</td>\n",
       "      <td>25.0</td>\n",
       "      <td>67.0</td>\n",
       "      <td>0.9968</td>\n",
       "      <td>3.20</td>\n",
       "      <td>0.68</td>\n",
       "      <td>9.8</td>\n",
       "      <td>5</td>\n",
       "    </tr>\n",
       "    <tr>\n",
       "      <th>2</th>\n",
       "      <td>7.8</td>\n",
       "      <td>0.76</td>\n",
       "      <td>0.04</td>\n",
       "      <td>2.3</td>\n",
       "      <td>0.092</td>\n",
       "      <td>15.0</td>\n",
       "      <td>54.0</td>\n",
       "      <td>0.9970</td>\n",
       "      <td>3.26</td>\n",
       "      <td>0.65</td>\n",
       "      <td>9.8</td>\n",
       "      <td>5</td>\n",
       "    </tr>\n",
       "    <tr>\n",
       "      <th>3</th>\n",
       "      <td>11.2</td>\n",
       "      <td>0.28</td>\n",
       "      <td>0.56</td>\n",
       "      <td>1.9</td>\n",
       "      <td>0.075</td>\n",
       "      <td>17.0</td>\n",
       "      <td>60.0</td>\n",
       "      <td>0.9980</td>\n",
       "      <td>3.16</td>\n",
       "      <td>0.58</td>\n",
       "      <td>9.8</td>\n",
       "      <td>6</td>\n",
       "    </tr>\n",
       "    <tr>\n",
       "      <th>4</th>\n",
       "      <td>7.4</td>\n",
       "      <td>0.70</td>\n",
       "      <td>0.00</td>\n",
       "      <td>1.9</td>\n",
       "      <td>0.076</td>\n",
       "      <td>11.0</td>\n",
       "      <td>34.0</td>\n",
       "      <td>0.9978</td>\n",
       "      <td>3.51</td>\n",
       "      <td>0.56</td>\n",
       "      <td>9.4</td>\n",
       "      <td>5</td>\n",
       "    </tr>\n",
       "    <tr>\n",
       "      <th>5</th>\n",
       "      <td>7.4</td>\n",
       "      <td>0.66</td>\n",
       "      <td>0.00</td>\n",
       "      <td>1.8</td>\n",
       "      <td>0.075</td>\n",
       "      <td>13.0</td>\n",
       "      <td>40.0</td>\n",
       "      <td>0.9978</td>\n",
       "      <td>3.51</td>\n",
       "      <td>0.56</td>\n",
       "      <td>9.4</td>\n",
       "      <td>5</td>\n",
       "    </tr>\n",
       "    <tr>\n",
       "      <th>6</th>\n",
       "      <td>7.9</td>\n",
       "      <td>0.60</td>\n",
       "      <td>0.06</td>\n",
       "      <td>1.6</td>\n",
       "      <td>0.069</td>\n",
       "      <td>15.0</td>\n",
       "      <td>59.0</td>\n",
       "      <td>0.9964</td>\n",
       "      <td>3.30</td>\n",
       "      <td>0.46</td>\n",
       "      <td>9.4</td>\n",
       "      <td>5</td>\n",
       "    </tr>\n",
       "    <tr>\n",
       "      <th>7</th>\n",
       "      <td>7.3</td>\n",
       "      <td>0.65</td>\n",
       "      <td>0.00</td>\n",
       "      <td>1.2</td>\n",
       "      <td>0.065</td>\n",
       "      <td>15.0</td>\n",
       "      <td>21.0</td>\n",
       "      <td>0.9946</td>\n",
       "      <td>3.39</td>\n",
       "      <td>0.47</td>\n",
       "      <td>10.0</td>\n",
       "      <td>7</td>\n",
       "    </tr>\n",
       "    <tr>\n",
       "      <th>8</th>\n",
       "      <td>7.8</td>\n",
       "      <td>0.58</td>\n",
       "      <td>0.02</td>\n",
       "      <td>2.0</td>\n",
       "      <td>0.073</td>\n",
       "      <td>9.0</td>\n",
       "      <td>18.0</td>\n",
       "      <td>0.9968</td>\n",
       "      <td>3.36</td>\n",
       "      <td>0.57</td>\n",
       "      <td>9.5</td>\n",
       "      <td>7</td>\n",
       "    </tr>\n",
       "    <tr>\n",
       "      <th>9</th>\n",
       "      <td>7.5</td>\n",
       "      <td>0.50</td>\n",
       "      <td>0.36</td>\n",
       "      <td>6.1</td>\n",
       "      <td>0.071</td>\n",
       "      <td>17.0</td>\n",
       "      <td>102.0</td>\n",
       "      <td>0.9978</td>\n",
       "      <td>3.35</td>\n",
       "      <td>0.80</td>\n",
       "      <td>10.5</td>\n",
       "      <td>5</td>\n",
       "    </tr>\n",
       "  </tbody>\n",
       "</table>\n",
       "</div>"
      ],
      "text/plain": [
       "   Parameter 1  Parameter 2  Parameter 3  Parameter 4  Parameter 5   \n",
       "0          7.4         0.70         0.00          1.9        0.076  \\\n",
       "1          7.8         0.88         0.00          2.6        0.098   \n",
       "2          7.8         0.76         0.04          2.3        0.092   \n",
       "3         11.2         0.28         0.56          1.9        0.075   \n",
       "4          7.4         0.70         0.00          1.9        0.076   \n",
       "5          7.4         0.66         0.00          1.8        0.075   \n",
       "6          7.9         0.60         0.06          1.6        0.069   \n",
       "7          7.3         0.65         0.00          1.2        0.065   \n",
       "8          7.8         0.58         0.02          2.0        0.073   \n",
       "9          7.5         0.50         0.36          6.1        0.071   \n",
       "\n",
       "   Parameter 6  Parameter 7  Parameter 8  Parameter 9  Parameter 10   \n",
       "0         11.0         34.0       0.9978         3.51          0.56  \\\n",
       "1         25.0         67.0       0.9968         3.20          0.68   \n",
       "2         15.0         54.0       0.9970         3.26          0.65   \n",
       "3         17.0         60.0       0.9980         3.16          0.58   \n",
       "4         11.0         34.0       0.9978         3.51          0.56   \n",
       "5         13.0         40.0       0.9978         3.51          0.56   \n",
       "6         15.0         59.0       0.9964         3.30          0.46   \n",
       "7         15.0         21.0       0.9946         3.39          0.47   \n",
       "8          9.0         18.0       0.9968         3.36          0.57   \n",
       "9         17.0        102.0       0.9978         3.35          0.80   \n",
       "\n",
       "   Parameter 11  Signal_Strength  \n",
       "0           9.4                5  \n",
       "1           9.8                5  \n",
       "2           9.8                5  \n",
       "3           9.8                6  \n",
       "4           9.4                5  \n",
       "5           9.4                5  \n",
       "6           9.4                5  \n",
       "7          10.0                7  \n",
       "8           9.5                7  \n",
       "9          10.5                5  "
      ]
     },
     "execution_count": 60,
     "metadata": {},
     "output_type": "execute_result"
    }
   ],
   "source": [
    "df_signals.head(10)"
   ]
  },
  {
   "cell_type": "code",
   "execution_count": 70,
   "id": "cf8e3d2c",
   "metadata": {},
   "outputs": [
    {
     "data": {
      "text/plain": [
       "(1599, 12)"
      ]
     },
     "execution_count": 70,
     "metadata": {},
     "output_type": "execute_result"
    }
   ],
   "source": [
    "df_signals.shape"
   ]
  },
  {
   "cell_type": "markdown",
   "id": "27c6aecb",
   "metadata": {},
   "source": [
    "### B. Check for missing values and print percentage for each attribute"
   ]
  },
  {
   "cell_type": "code",
   "execution_count": 63,
   "id": "315cb6fd",
   "metadata": {
    "scrolled": true
   },
   "outputs": [
    {
     "data": {
      "text/plain": [
       "Parameter 1        0.0\n",
       "Parameter 2        0.0\n",
       "Parameter 3        0.0\n",
       "Parameter 4        0.0\n",
       "Parameter 5        0.0\n",
       "Parameter 6        0.0\n",
       "Parameter 7        0.0\n",
       "Parameter 8        0.0\n",
       "Parameter 9        0.0\n",
       "Parameter 10       0.0\n",
       "Parameter 11       0.0\n",
       "Signal_Strength    0.0\n",
       "dtype: float64"
      ]
     },
     "execution_count": 63,
     "metadata": {},
     "output_type": "execute_result"
    }
   ],
   "source": [
    "df_signals.isnull().sum()*100/len(df_signals)"
   ]
  },
  {
   "cell_type": "markdown",
   "id": "0c54b256",
   "metadata": {},
   "source": [
    "### C. Check for presence of duplicate records in the dataset and impute with appropriate method"
   ]
  },
  {
   "cell_type": "code",
   "execution_count": 67,
   "id": "3113429f",
   "metadata": {},
   "outputs": [
    {
     "data": {
      "text/html": [
       "<div>\n",
       "<style scoped>\n",
       "    .dataframe tbody tr th:only-of-type {\n",
       "        vertical-align: middle;\n",
       "    }\n",
       "\n",
       "    .dataframe tbody tr th {\n",
       "        vertical-align: top;\n",
       "    }\n",
       "\n",
       "    .dataframe thead th {\n",
       "        text-align: right;\n",
       "    }\n",
       "</style>\n",
       "<table border=\"1\" class=\"dataframe\">\n",
       "  <thead>\n",
       "    <tr style=\"text-align: right;\">\n",
       "      <th></th>\n",
       "      <th>Parameter 1</th>\n",
       "      <th>Parameter 2</th>\n",
       "      <th>Parameter 3</th>\n",
       "      <th>Parameter 4</th>\n",
       "      <th>Parameter 5</th>\n",
       "      <th>Parameter 6</th>\n",
       "      <th>Parameter 7</th>\n",
       "      <th>Parameter 8</th>\n",
       "      <th>Parameter 9</th>\n",
       "      <th>Parameter 10</th>\n",
       "      <th>Parameter 11</th>\n",
       "      <th>Signal_Strength</th>\n",
       "    </tr>\n",
       "  </thead>\n",
       "  <tbody>\n",
       "    <tr>\n",
       "      <th>4</th>\n",
       "      <td>7.4</td>\n",
       "      <td>0.700</td>\n",
       "      <td>0.00</td>\n",
       "      <td>1.90</td>\n",
       "      <td>0.076</td>\n",
       "      <td>11.0</td>\n",
       "      <td>34.0</td>\n",
       "      <td>0.99780</td>\n",
       "      <td>3.51</td>\n",
       "      <td>0.56</td>\n",
       "      <td>9.4</td>\n",
       "      <td>5</td>\n",
       "    </tr>\n",
       "    <tr>\n",
       "      <th>11</th>\n",
       "      <td>7.5</td>\n",
       "      <td>0.500</td>\n",
       "      <td>0.36</td>\n",
       "      <td>6.10</td>\n",
       "      <td>0.071</td>\n",
       "      <td>17.0</td>\n",
       "      <td>102.0</td>\n",
       "      <td>0.99780</td>\n",
       "      <td>3.35</td>\n",
       "      <td>0.80</td>\n",
       "      <td>10.5</td>\n",
       "      <td>5</td>\n",
       "    </tr>\n",
       "    <tr>\n",
       "      <th>27</th>\n",
       "      <td>7.9</td>\n",
       "      <td>0.430</td>\n",
       "      <td>0.21</td>\n",
       "      <td>1.60</td>\n",
       "      <td>0.106</td>\n",
       "      <td>10.0</td>\n",
       "      <td>37.0</td>\n",
       "      <td>0.99660</td>\n",
       "      <td>3.17</td>\n",
       "      <td>0.91</td>\n",
       "      <td>9.5</td>\n",
       "      <td>5</td>\n",
       "    </tr>\n",
       "    <tr>\n",
       "      <th>40</th>\n",
       "      <td>7.3</td>\n",
       "      <td>0.450</td>\n",
       "      <td>0.36</td>\n",
       "      <td>5.90</td>\n",
       "      <td>0.074</td>\n",
       "      <td>12.0</td>\n",
       "      <td>87.0</td>\n",
       "      <td>0.99780</td>\n",
       "      <td>3.33</td>\n",
       "      <td>0.83</td>\n",
       "      <td>10.5</td>\n",
       "      <td>5</td>\n",
       "    </tr>\n",
       "    <tr>\n",
       "      <th>65</th>\n",
       "      <td>7.2</td>\n",
       "      <td>0.725</td>\n",
       "      <td>0.05</td>\n",
       "      <td>4.65</td>\n",
       "      <td>0.086</td>\n",
       "      <td>4.0</td>\n",
       "      <td>11.0</td>\n",
       "      <td>0.99620</td>\n",
       "      <td>3.41</td>\n",
       "      <td>0.39</td>\n",
       "      <td>10.9</td>\n",
       "      <td>5</td>\n",
       "    </tr>\n",
       "    <tr>\n",
       "      <th>...</th>\n",
       "      <td>...</td>\n",
       "      <td>...</td>\n",
       "      <td>...</td>\n",
       "      <td>...</td>\n",
       "      <td>...</td>\n",
       "      <td>...</td>\n",
       "      <td>...</td>\n",
       "      <td>...</td>\n",
       "      <td>...</td>\n",
       "      <td>...</td>\n",
       "      <td>...</td>\n",
       "      <td>...</td>\n",
       "    </tr>\n",
       "    <tr>\n",
       "      <th>1563</th>\n",
       "      <td>7.2</td>\n",
       "      <td>0.695</td>\n",
       "      <td>0.13</td>\n",
       "      <td>2.00</td>\n",
       "      <td>0.076</td>\n",
       "      <td>12.0</td>\n",
       "      <td>20.0</td>\n",
       "      <td>0.99546</td>\n",
       "      <td>3.29</td>\n",
       "      <td>0.54</td>\n",
       "      <td>10.1</td>\n",
       "      <td>5</td>\n",
       "    </tr>\n",
       "    <tr>\n",
       "      <th>1564</th>\n",
       "      <td>7.2</td>\n",
       "      <td>0.695</td>\n",
       "      <td>0.13</td>\n",
       "      <td>2.00</td>\n",
       "      <td>0.076</td>\n",
       "      <td>12.0</td>\n",
       "      <td>20.0</td>\n",
       "      <td>0.99546</td>\n",
       "      <td>3.29</td>\n",
       "      <td>0.54</td>\n",
       "      <td>10.1</td>\n",
       "      <td>5</td>\n",
       "    </tr>\n",
       "    <tr>\n",
       "      <th>1567</th>\n",
       "      <td>7.2</td>\n",
       "      <td>0.695</td>\n",
       "      <td>0.13</td>\n",
       "      <td>2.00</td>\n",
       "      <td>0.076</td>\n",
       "      <td>12.0</td>\n",
       "      <td>20.0</td>\n",
       "      <td>0.99546</td>\n",
       "      <td>3.29</td>\n",
       "      <td>0.54</td>\n",
       "      <td>10.1</td>\n",
       "      <td>5</td>\n",
       "    </tr>\n",
       "    <tr>\n",
       "      <th>1581</th>\n",
       "      <td>6.2</td>\n",
       "      <td>0.560</td>\n",
       "      <td>0.09</td>\n",
       "      <td>1.70</td>\n",
       "      <td>0.053</td>\n",
       "      <td>24.0</td>\n",
       "      <td>32.0</td>\n",
       "      <td>0.99402</td>\n",
       "      <td>3.54</td>\n",
       "      <td>0.60</td>\n",
       "      <td>11.3</td>\n",
       "      <td>5</td>\n",
       "    </tr>\n",
       "    <tr>\n",
       "      <th>1596</th>\n",
       "      <td>6.3</td>\n",
       "      <td>0.510</td>\n",
       "      <td>0.13</td>\n",
       "      <td>2.30</td>\n",
       "      <td>0.076</td>\n",
       "      <td>29.0</td>\n",
       "      <td>40.0</td>\n",
       "      <td>0.99574</td>\n",
       "      <td>3.42</td>\n",
       "      <td>0.75</td>\n",
       "      <td>11.0</td>\n",
       "      <td>6</td>\n",
       "    </tr>\n",
       "  </tbody>\n",
       "</table>\n",
       "<p>240 rows × 12 columns</p>\n",
       "</div>"
      ],
      "text/plain": [
       "      Parameter 1  Parameter 2  Parameter 3  Parameter 4  Parameter 5   \n",
       "4             7.4        0.700         0.00         1.90        0.076  \\\n",
       "11            7.5        0.500         0.36         6.10        0.071   \n",
       "27            7.9        0.430         0.21         1.60        0.106   \n",
       "40            7.3        0.450         0.36         5.90        0.074   \n",
       "65            7.2        0.725         0.05         4.65        0.086   \n",
       "...           ...          ...          ...          ...          ...   \n",
       "1563          7.2        0.695         0.13         2.00        0.076   \n",
       "1564          7.2        0.695         0.13         2.00        0.076   \n",
       "1567          7.2        0.695         0.13         2.00        0.076   \n",
       "1581          6.2        0.560         0.09         1.70        0.053   \n",
       "1596          6.3        0.510         0.13         2.30        0.076   \n",
       "\n",
       "      Parameter 6  Parameter 7  Parameter 8  Parameter 9  Parameter 10   \n",
       "4            11.0         34.0      0.99780         3.51          0.56  \\\n",
       "11           17.0        102.0      0.99780         3.35          0.80   \n",
       "27           10.0         37.0      0.99660         3.17          0.91   \n",
       "40           12.0         87.0      0.99780         3.33          0.83   \n",
       "65            4.0         11.0      0.99620         3.41          0.39   \n",
       "...           ...          ...          ...          ...           ...   \n",
       "1563         12.0         20.0      0.99546         3.29          0.54   \n",
       "1564         12.0         20.0      0.99546         3.29          0.54   \n",
       "1567         12.0         20.0      0.99546         3.29          0.54   \n",
       "1581         24.0         32.0      0.99402         3.54          0.60   \n",
       "1596         29.0         40.0      0.99574         3.42          0.75   \n",
       "\n",
       "      Parameter 11  Signal_Strength  \n",
       "4              9.4                5  \n",
       "11            10.5                5  \n",
       "27             9.5                5  \n",
       "40            10.5                5  \n",
       "65            10.9                5  \n",
       "...            ...              ...  \n",
       "1563          10.1                5  \n",
       "1564          10.1                5  \n",
       "1567          10.1                5  \n",
       "1581          11.3                5  \n",
       "1596          11.0                6  \n",
       "\n",
       "[240 rows x 12 columns]"
      ]
     },
     "execution_count": 67,
     "metadata": {},
     "output_type": "execute_result"
    }
   ],
   "source": [
    "df_signals[df_signals.duplicated() == True]"
   ]
  },
  {
   "cell_type": "markdown",
   "id": "e19fab8d",
   "metadata": {},
   "source": [
    "- Hence, there are 240 duplicate records"
   ]
  },
  {
   "cell_type": "code",
   "execution_count": 72,
   "id": "27178574",
   "metadata": {},
   "outputs": [],
   "source": [
    "df_signals.drop_duplicates(inplace=True)"
   ]
  },
  {
   "cell_type": "code",
   "execution_count": 73,
   "id": "671dc6be",
   "metadata": {},
   "outputs": [
    {
     "data": {
      "text/plain": [
       "(1359, 12)"
      ]
     },
     "execution_count": 73,
     "metadata": {},
     "output_type": "execute_result"
    }
   ],
   "source": [
    "df_signals.shape"
   ]
  },
  {
   "cell_type": "markdown",
   "id": "05b5ab7b",
   "metadata": {},
   "source": [
    "### D. Visualise distribution of the target variable"
   ]
  },
  {
   "cell_type": "code",
   "execution_count": 85,
   "id": "27a8ce61",
   "metadata": {},
   "outputs": [
    {
     "data": {
      "text/plain": [
       "Signal_Strength\n",
       "5    577\n",
       "6    535\n",
       "7    167\n",
       "4     53\n",
       "8     17\n",
       "3     10\n",
       "Name: count, dtype: int64"
      ]
     },
     "execution_count": 85,
     "metadata": {},
     "output_type": "execute_result"
    }
   ],
   "source": [
    "# Checking number of Unique values of Signal_Strength\n",
    "df_signals['Signal_Strength'].value_counts()"
   ]
  },
  {
   "cell_type": "markdown",
   "id": "72166a01",
   "metadata": {},
   "source": [
    "- We can consider Signal_Strength as a categorical attribute. Although, we can experiment as regression too, but for the project, we will assume there are 6 classes of Signal_Strength"
   ]
  },
  {
   "cell_type": "code",
   "execution_count": 88,
   "id": "a7e85729",
   "metadata": {},
   "outputs": [
    {
     "data": {
      "text/plain": [
       "Parameter 1        float64\n",
       "Parameter 2        float64\n",
       "Parameter 3        float64\n",
       "Parameter 4        float64\n",
       "Parameter 5        float64\n",
       "Parameter 6        float64\n",
       "Parameter 7        float64\n",
       "Parameter 8        float64\n",
       "Parameter 9        float64\n",
       "Parameter 10       float64\n",
       "Parameter 11       float64\n",
       "Signal_Strength      int64\n",
       "dtype: object"
      ]
     },
     "execution_count": 88,
     "metadata": {},
     "output_type": "execute_result"
    }
   ],
   "source": [
    "df_signals.dtypes"
   ]
  },
  {
   "cell_type": "code",
   "execution_count": 79,
   "id": "0108bd55",
   "metadata": {},
   "outputs": [],
   "source": [
    "# Function to create labeled barplots\n",
    "\n",
    "\n",
    "def labeled_barplot(data, feature, perc=False, n=None):\n",
    "    \"\"\"\n",
    "    Barplot with percentage at the top\n",
    "\n",
    "    data: dataframe\n",
    "    feature: dataframe column\n",
    "    perc: whether to display percentages instead of count (default is False)\n",
    "    n: displays the top n category levels (default is None, i.e., display all levels)\n",
    "    \"\"\"\n",
    "\n",
    "    total = len(data[feature])  # length of the column\n",
    "    count = data[feature].nunique()\n",
    "    if n is None:\n",
    "        plt.figure(figsize=(count + 1, 5))\n",
    "    else:\n",
    "        plt.figure(figsize=(n + 1, 5))\n",
    "\n",
    "    plt.xticks(rotation=90, fontsize=15)\n",
    "    ax = sns.countplot(\n",
    "        data=data,\n",
    "        x=feature,\n",
    "        palette=\"Paired\",\n",
    "        order=data[feature].value_counts().index[:n].sort_values(),\n",
    "    )\n",
    "\n",
    "    for p in ax.patches:\n",
    "        if perc == True:\n",
    "            label = \"{:.1f}%\".format(\n",
    "                100 * p.get_height() / total\n",
    "            )  # percentage of each class of the category\n",
    "        else:\n",
    "            label = p.get_height()  # count of each level of the category\n",
    "\n",
    "        x = p.get_x() + p.get_width() / 2  # width of the plot\n",
    "        y = p.get_height()  # height of the plot\n",
    "\n",
    "        ax.annotate(\n",
    "            label,\n",
    "            (x, y),\n",
    "            ha=\"center\",\n",
    "            va=\"center\",\n",
    "            size=12,\n",
    "            xytext=(0, 5),\n",
    "            textcoords=\"offset points\",\n",
    "        )  # annotate the percentage\n",
    "\n",
    "    plt.show()  # show the plot"
   ]
  },
  {
   "cell_type": "code",
   "execution_count": 84,
   "id": "554cb81c",
   "metadata": {},
   "outputs": [
    {
     "data": {
      "image/png": "[encoded data removed]",
      "text/plain": [
       "<Figure size 700x500 with 1 Axes>"
      ]
     },
     "metadata": {},
     "output_type": "display_data"
    }
   ],
   "source": [
    "labeled_barplot(df_signals, \"Signal_Strength\",perc=True)"
   ]
  },
  {
   "cell_type": "markdown",
   "id": "fb2d3b4b",
   "metadata": {},
   "source": [
    "### E. Share insights from the initial data analysis\n",
    "\n",
    "1. Signal_Strength \"5\" covers the majority of the data with 42.5% values & \"6\" with 39.4% values\n",
    "2. Signal_Strength \"3\" has the least values with 0.7% only\n",
    "3. To create a robust model, oversampling like SMOTE is required to balance the data"
   ]
  },
  {
   "cell_type": "markdown",
   "id": "fa98b111",
   "metadata": {},
   "source": [
    "## Q2. Data preprocessing"
   ]
  },
  {
   "cell_type": "markdown",
   "id": "d495c7c8",
   "metadata": {},
   "source": [
    "### A. Split the data into X & Y"
   ]
  },
  {
   "cell_type": "code",
   "execution_count": 91,
   "id": "f7bf0588",
   "metadata": {},
   "outputs": [],
   "source": [
    "## Separating Independent and Dependent Columns\n",
    "X = df_signals.drop(['Signal_Strength'],axis=1)\n",
    "Y = df_signals[['Signal_Strength']]"
   ]
  },
  {
   "cell_type": "code",
   "execution_count": 92,
   "id": "b1a2a72e",
   "metadata": {},
   "outputs": [
    {
     "data": {
      "text/html": [
       "<div>\n",
       "<style scoped>\n",
       "    .dataframe tbody tr th:only-of-type {\n",
       "        vertical-align: middle;\n",
       "    }\n",
       "\n",
       "    .dataframe tbody tr th {\n",
       "        vertical-align: top;\n",
       "    }\n",
       "\n",
       "    .dataframe thead th {\n",
       "        text-align: right;\n",
       "    }\n",
       "</style>\n",
       "<table border=\"1\" class=\"dataframe\">\n",
       "  <thead>\n",
       "    <tr style=\"text-align: right;\">\n",
       "      <th></th>\n",
       "      <th>Signal_Strength</th>\n",
       "    </tr>\n",
       "  </thead>\n",
       "  <tbody>\n",
       "    <tr>\n",
       "      <th>0</th>\n",
       "      <td>5</td>\n",
       "    </tr>\n",
       "    <tr>\n",
       "      <th>1</th>\n",
       "      <td>5</td>\n",
       "    </tr>\n",
       "    <tr>\n",
       "      <th>2</th>\n",
       "      <td>5</td>\n",
       "    </tr>\n",
       "    <tr>\n",
       "      <th>3</th>\n",
       "      <td>6</td>\n",
       "    </tr>\n",
       "    <tr>\n",
       "      <th>5</th>\n",
       "      <td>5</td>\n",
       "    </tr>\n",
       "  </tbody>\n",
       "</table>\n",
       "</div>"
      ],
      "text/plain": [
       "   Signal_Strength\n",
       "0                5\n",
       "1                5\n",
       "2                5\n",
       "3                6\n",
       "5                5"
      ]
     },
     "execution_count": 92,
     "metadata": {},
     "output_type": "execute_result"
    }
   ],
   "source": [
    "Y.head()"
   ]
  },
  {
   "cell_type": "markdown",
   "id": "ba480df0",
   "metadata": {},
   "source": [
    "### B. Split the data into train & test with 70:30 proportion"
   ]
  },
  {
   "cell_type": "code",
   "execution_count": 94,
   "id": "5769b29a",
   "metadata": {},
   "outputs": [],
   "source": [
    "# Splitting the dataset into the Training and Testing set.\n",
    "\n",
    "X_train, X_test, y_train, y_test = train_test_split(X,Y, test_size = 0.3, random_state = 42,stratify = Y)"
   ]
  },
  {
   "cell_type": "markdown",
   "id": "d9710d5d",
   "metadata": {},
   "source": [
    "### C. Print shape of all the 4 variables and verify if train and test data is in sync"
   ]
  },
  {
   "cell_type": "code",
   "execution_count": 99,
   "id": "0da46195",
   "metadata": {},
   "outputs": [
    {
     "name": "stdout",
     "output_type": "stream",
     "text": [
      "Shape of X_train = (951, 11)\n",
      "Shape of X_test = (408, 11)\n",
      "Shape of y_train = (951, 1)\n",
      "Shape of y_test = (408, 1)\n"
     ]
    }
   ],
   "source": [
    "print(\"Shape of X_train = {}\".format(X_train.shape))\n",
    "print(\"Shape of X_test = {}\".format(X_test.shape))\n",
    "print(\"Shape of y_train = {}\".format(y_train.shape))\n",
    "print(\"Shape of y_test = {}\".format(y_test.shape))"
   ]
  },
  {
   "cell_type": "markdown",
   "id": "345b43dc",
   "metadata": {},
   "source": [
    "- Hence, rows of X_test is 30% of total data and X_train is 70% of total dataset"
   ]
  },
  {
   "cell_type": "markdown",
   "id": "43be4e84",
   "metadata": {},
   "source": [
    "### D. Normalise the train and test data with appropriate method"
   ]
  },
  {
   "cell_type": "code",
   "execution_count": 101,
   "id": "59391e5d",
   "metadata": {},
   "outputs": [],
   "source": [
    "scaler = StandardScaler()\n",
    "X_train_scaled = scaler.fit_transform(X_train)\n",
    "X_test_scaled = scaler.fit_transform(X_test)"
   ]
  },
  {
   "cell_type": "markdown",
   "id": "f54d4959",
   "metadata": {},
   "source": [
    "### E. Transform Labels into format acceptable by Neural Network"
   ]
  },
  {
   "cell_type": "code",
   "execution_count": 114,
   "id": "6ca78443",
   "metadata": {},
   "outputs": [
    {
     "data": {
      "text/plain": [
       "Signal_Strength    6\n",
       "dtype: int64"
      ]
     },
     "execution_count": 114,
     "metadata": {},
     "output_type": "execute_result"
    }
   ],
   "source": [
    "y_train.nunique()"
   ]
  },
  {
   "cell_type": "code",
   "execution_count": 115,
   "id": "10d9d87e",
   "metadata": {},
   "outputs": [
    {
     "data": {
      "text/plain": [
       "Signal_Strength\n",
       "5                  404\n",
       "6                  374\n",
       "7                  117\n",
       "4                   37\n",
       "8                   12\n",
       "3                    7\n",
       "Name: count, dtype: int64"
      ]
     },
     "execution_count": 115,
     "metadata": {},
     "output_type": "execute_result"
    }
   ],
   "source": [
    "y_train.value_counts()"
   ]
  },
  {
   "cell_type": "markdown",
   "id": "e8f4f13a",
   "metadata": {},
   "source": [
    "- Hence, there are 6 catgories with values [5,6,7,4,8,3] . We will convert these from 0 to 5, and then perform OHE"
   ]
  },
  {
   "cell_type": "code",
   "execution_count": 132,
   "id": "86519bbb",
   "metadata": {},
   "outputs": [],
   "source": [
    "# Convert to \"one-hot\" vectors using the to_categorical function\n",
    "\n",
    "num_classes=6\n",
    "y_train_cat = to_categorical(y_train-3,num_classes=num_classes)\n",
    "y_test_cat = to_categorical(y_test-3, num_classes=num_classes)"
   ]
  },
  {
   "cell_type": "code",
   "execution_count": 136,
   "id": "62d4b952",
   "metadata": {},
   "outputs": [
    {
     "data": {
      "text/plain": [
       "(     Signal_Strength\n",
       " 849                2\n",
       " 777                3\n",
       " 431                2\n",
       " 77                 3\n",
       " 330                3,\n",
       " array([[0., 0., 1., 0., 0., 0.],\n",
       "        [0., 0., 0., 1., 0., 0.],\n",
       "        [0., 0., 1., 0., 0., 0.],\n",
       "        [0., 0., 0., 1., 0., 0.],\n",
       "        [0., 0., 0., 1., 0., 0.]], dtype=float32))"
      ]
     },
     "execution_count": 136,
     "metadata": {},
     "output_type": "execute_result"
    }
   ],
   "source": [
    "y_train[:5]-3, y_train_cat[:5]"
   ]
  },
  {
   "cell_type": "markdown",
   "id": "de5d9c25",
   "metadata": {},
   "source": [
    "## Q3. Model Training & Evaluation using Neural Network"
   ]
  },
  {
   "cell_type": "code",
   "execution_count": 139,
   "id": "50b84dae",
   "metadata": {},
   "outputs": [],
   "source": [
    "backend.clear_session()\n",
    "#Fixing the seed for random number generators so that we can ensure we receive the same output everytime\n",
    "np.random.seed(42)\n",
    "import random\n",
    "random.seed(42)\n",
    "tf.random.set_seed(42)"
   ]
  },
  {
   "cell_type": "markdown",
   "id": "43a38156",
   "metadata": {},
   "source": [
    "### A. Design a Neural Network to train a classifier"
   ]
  },
  {
   "cell_type": "code",
   "execution_count": 141,
   "id": "d6f640d0",
   "metadata": {},
   "outputs": [
    {
     "data": {
      "text/plain": [
       "(951, 11)"
      ]
     },
     "execution_count": 141,
     "metadata": {},
     "output_type": "execute_result"
    }
   ],
   "source": [
    "X_train_scaled.shape"
   ]
  },
  {
   "cell_type": "markdown",
   "id": "1eafc3df",
   "metadata": {},
   "source": [
    "#### Model 1"
   ]
  },
  {
   "cell_type": "code",
   "execution_count": 159,
   "id": "0bee42fc",
   "metadata": {},
   "outputs": [],
   "source": [
    "model = Sequential()\n",
    "model.add(Dense(activation = 'relu', input_dim = 11, units=64))\n",
    "#Add 1st hidden layer\n",
    "model.add(Dense(32, activation='relu'))\n",
    "# Adding the output layer\n",
    "# Notice that we do not need to specify input dim. \n",
    "# we have an output of 1 node, which is the the desired dimensions of our output (stay with the bank or not)\n",
    "# We use the sigmoid because we want probability outcomes\n",
    "model.add(Dense(num_classes, activation = 'sigmoid'))"
   ]
  },
  {
   "cell_type": "code",
   "execution_count": 160,
   "id": "8e9fcd78",
   "metadata": {},
   "outputs": [],
   "source": [
    "# Compile model\n",
    "\n",
    "adam = optimizers.legacy.Adam(learning_rate=1e-3)\n",
    "model.compile(loss=losses.categorical_crossentropy, optimizer=adam, metrics=['accuracy']) ### Loss function = Categorical cross entropy"
   ]
  },
  {
   "cell_type": "code",
   "execution_count": 161,
   "id": "d67abede",
   "metadata": {},
   "outputs": [
    {
     "name": "stdout",
     "output_type": "stream",
     "text": [
      "Model: \"sequential_1\"\n",
      "_________________________________________________________________\n",
      " Layer (type)                Output Shape              Param #   \n",
      "=================================================================\n",
      " dense_3 (Dense)             (None, 64)                768       \n",
      "                                                                 \n",
      " dense_4 (Dense)             (None, 32)                2080      \n",
      "                                                                 \n",
      " dense_5 (Dense)             (None, 6)                 198       \n",
      "                                                                 \n",
      "=================================================================\n",
      "Total params: 3,046\n",
      "Trainable params: 3,046\n",
      "Non-trainable params: 0\n",
      "_________________________________________________________________\n"
     ]
    }
   ],
   "source": [
    "## Looking into our base model\n",
    "model.summary()"
   ]
  },
  {
   "cell_type": "code",
   "execution_count": 162,
   "id": "c5c97b99",
   "metadata": {},
   "outputs": [],
   "source": [
    "checkpoint = ModelCheckpoint(\"model_weights.h5\",monitor='val_accuracy',\n",
    "                            save_weights_only=True, mode='max',verbose=1)\n",
    "reduce_lr = ReduceLROnPlateau(monitor='val_loss',factor=0.1,patience=2,min_lr=0.00001,model='auto')\n",
    "\n",
    "callbacks = [checkpoint,reduce_lr]"
   ]
  },
  {
   "cell_type": "markdown",
   "id": "f13a76d9",
   "metadata": {},
   "source": [
    "### B. Train the classifier using previously designed Architecture"
   ]
  },
  {
   "cell_type": "code",
   "execution_count": 163,
   "id": "fffd9d7e",
   "metadata": {},
   "outputs": [
    {
     "data": {
      "text/plain": [
       "((951, 11), (951, 6))"
      ]
     },
     "execution_count": 163,
     "metadata": {},
     "output_type": "execute_result"
    }
   ],
   "source": [
    "X_train_scaled.shape, y_train_cat.shape"
   ]
  },
  {
   "cell_type": "code",
   "execution_count": 166,
   "id": "958bf4ae",
   "metadata": {
    "scrolled": true
   },
   "outputs": [
    {
     "name": "stdout",
     "output_type": "stream",
     "text": [
      "Epoch 1/50\n",
      "\n",
      "Epoch 1: saving model to model_weights.h5\n",
      "6/6 - 0s - loss: 1.0778 - accuracy: 0.5684 - val_loss: 1.0548 - val_accuracy: 0.5812 - lr: 0.0010 - 101ms/epoch - 17ms/step\n",
      "Epoch 2/50\n",
      "\n",
      "Epoch 2: saving model to model_weights.h5\n",
      "6/6 - 0s - loss: 1.0620 - accuracy: 0.5671 - val_loss: 1.0418 - val_accuracy: 0.5864 - lr: 0.0010 - 67ms/epoch - 11ms/step\n",
      "Epoch 3/50\n",
      "\n",
      "Epoch 3: saving model to model_weights.h5\n",
      "6/6 - 0s - loss: 1.0482 - accuracy: 0.5658 - val_loss: 1.0309 - val_accuracy: 0.5916 - lr: 0.0010 - 60ms/epoch - 10ms/step\n",
      "Epoch 4/50\n",
      "\n",
      "Epoch 4: saving model to model_weights.h5\n",
      "6/6 - 0s - loss: 1.0368 - accuracy: 0.5711 - val_loss: 1.0217 - val_accuracy: 0.5916 - lr: 0.0010 - 67ms/epoch - 11ms/step\n",
      "Epoch 5/50\n",
      "\n",
      "Epoch 5: saving model to model_weights.h5\n",
      "6/6 - 0s - loss: 1.0252 - accuracy: 0.5750 - val_loss: 1.0147 - val_accuracy: 0.5969 - lr: 0.0010 - 58ms/epoch - 10ms/step\n",
      "Epoch 6/50\n",
      "\n",
      "Epoch 6: saving model to model_weights.h5\n",
      "6/6 - 0s - loss: 1.0160 - accuracy: 0.5776 - val_loss: 1.0093 - val_accuracy: 0.5916 - lr: 0.0010 - 62ms/epoch - 10ms/step\n",
      "Epoch 7/50\n",
      "\n",
      "Epoch 7: saving model to model_weights.h5\n",
      "6/6 - 0s - loss: 1.0071 - accuracy: 0.5776 - val_loss: 1.0041 - val_accuracy: 0.6021 - lr: 0.0010 - 63ms/epoch - 11ms/step\n",
      "Epoch 8/50\n",
      "\n",
      "Epoch 8: saving model to model_weights.h5\n",
      "6/6 - 0s - loss: 0.9985 - accuracy: 0.5829 - val_loss: 0.9999 - val_accuracy: 0.5969 - lr: 0.0010 - 58ms/epoch - 10ms/step\n",
      "Epoch 9/50\n",
      "\n",
      "Epoch 9: saving model to model_weights.h5\n",
      "6/6 - 0s - loss: 0.9908 - accuracy: 0.5895 - val_loss: 0.9952 - val_accuracy: 0.6021 - lr: 0.0010 - 62ms/epoch - 10ms/step\n",
      "Epoch 10/50\n",
      "\n",
      "Epoch 10: saving model to model_weights.h5\n",
      "6/6 - 0s - loss: 0.9838 - accuracy: 0.5882 - val_loss: 0.9920 - val_accuracy: 0.6021 - lr: 0.0010 - 76ms/epoch - 13ms/step\n",
      "Epoch 11/50\n",
      "\n",
      "Epoch 11: saving model to model_weights.h5\n",
      "6/6 - 0s - loss: 0.9772 - accuracy: 0.5908 - val_loss: 0.9880 - val_accuracy: 0.6126 - lr: 0.0010 - 61ms/epoch - 10ms/step\n",
      "Epoch 12/50\n",
      "\n",
      "Epoch 12: saving model to model_weights.h5\n",
      "6/6 - 0s - loss: 0.9725 - accuracy: 0.5934 - val_loss: 0.9856 - val_accuracy: 0.6126 - lr: 0.0010 - 63ms/epoch - 11ms/step\n",
      "Epoch 13/50\n",
      "\n",
      "Epoch 13: saving model to model_weights.h5\n",
      "6/6 - 0s - loss: 0.9659 - accuracy: 0.5947 - val_loss: 0.9828 - val_accuracy: 0.6073 - lr: 0.0010 - 62ms/epoch - 10ms/step\n",
      "Epoch 14/50\n",
      "\n",
      "Epoch 14: saving model to model_weights.h5\n",
      "6/6 - 0s - loss: 0.9603 - accuracy: 0.5974 - val_loss: 0.9811 - val_accuracy: 0.6021 - lr: 0.0010 - 60ms/epoch - 10ms/step\n",
      "Epoch 15/50\n",
      "\n",
      "Epoch 15: saving model to model_weights.h5\n",
      "6/6 - 0s - loss: 0.9552 - accuracy: 0.5961 - val_loss: 0.9795 - val_accuracy: 0.6073 - lr: 0.0010 - 60ms/epoch - 10ms/step\n",
      "Epoch 16/50\n",
      "\n",
      "Epoch 16: saving model to model_weights.h5\n",
      "6/6 - 0s - loss: 0.9506 - accuracy: 0.6000 - val_loss: 0.9790 - val_accuracy: 0.5916 - lr: 0.0010 - 66ms/epoch - 11ms/step\n",
      "Epoch 17/50\n",
      "\n",
      "Epoch 17: saving model to model_weights.h5\n",
      "6/6 - 0s - loss: 0.9456 - accuracy: 0.6000 - val_loss: 0.9770 - val_accuracy: 0.5916 - lr: 0.0010 - 59ms/epoch - 10ms/step\n",
      "Epoch 18/50\n",
      "\n",
      "Epoch 18: saving model to model_weights.h5\n",
      "6/6 - 0s - loss: 0.9420 - accuracy: 0.6013 - val_loss: 0.9731 - val_accuracy: 0.5969 - lr: 0.0010 - 69ms/epoch - 11ms/step\n",
      "Epoch 19/50\n",
      "\n",
      "Epoch 19: saving model to model_weights.h5\n",
      "6/6 - 0s - loss: 0.9369 - accuracy: 0.6026 - val_loss: 0.9726 - val_accuracy: 0.5864 - lr: 0.0010 - 62ms/epoch - 10ms/step\n",
      "Epoch 20/50\n",
      "\n",
      "Epoch 20: saving model to model_weights.h5\n",
      "6/6 - 0s - loss: 0.9324 - accuracy: 0.6118 - val_loss: 0.9720 - val_accuracy: 0.5812 - lr: 0.0010 - 60ms/epoch - 10ms/step\n",
      "Epoch 21/50\n",
      "\n",
      "Epoch 21: saving model to model_weights.h5\n",
      "6/6 - 0s - loss: 0.9285 - accuracy: 0.6105 - val_loss: 0.9707 - val_accuracy: 0.5707 - lr: 0.0010 - 61ms/epoch - 10ms/step\n",
      "Epoch 22/50\n",
      "\n",
      "Epoch 22: saving model to model_weights.h5\n",
      "6/6 - 0s - loss: 0.9244 - accuracy: 0.6079 - val_loss: 0.9688 - val_accuracy: 0.5654 - lr: 0.0010 - 61ms/epoch - 10ms/step\n",
      "Epoch 23/50\n",
      "\n",
      "Epoch 23: saving model to model_weights.h5\n",
      "6/6 - 0s - loss: 0.9201 - accuracy: 0.6132 - val_loss: 0.9671 - val_accuracy: 0.5759 - lr: 0.0010 - 59ms/epoch - 10ms/step\n",
      "Epoch 24/50\n",
      "\n",
      "Epoch 24: saving model to model_weights.h5\n",
      "6/6 - 0s - loss: 0.9173 - accuracy: 0.6132 - val_loss: 0.9692 - val_accuracy: 0.5550 - lr: 0.0010 - 57ms/epoch - 10ms/step\n",
      "Epoch 25/50\n",
      "\n",
      "Epoch 25: saving model to model_weights.h5\n",
      "6/6 - 0s - loss: 0.9120 - accuracy: 0.6118 - val_loss: 0.9680 - val_accuracy: 0.5654 - lr: 0.0010 - 59ms/epoch - 10ms/step\n",
      "Epoch 26/50\n",
      "\n",
      "Epoch 26: saving model to model_weights.h5\n",
      "6/6 - 0s - loss: 0.9085 - accuracy: 0.6145 - val_loss: 0.9677 - val_accuracy: 0.5654 - lr: 1.0000e-04 - 58ms/epoch - 10ms/step\n",
      "Epoch 27/50\n",
      "\n",
      "Epoch 27: saving model to model_weights.h5\n",
      "6/6 - 0s - loss: 0.9081 - accuracy: 0.6158 - val_loss: 0.9676 - val_accuracy: 0.5654 - lr: 1.0000e-04 - 58ms/epoch - 10ms/step\n",
      "Epoch 28/50\n",
      "\n",
      "Epoch 28: saving model to model_weights.h5\n",
      "6/6 - 0s - loss: 0.9077 - accuracy: 0.6145 - val_loss: 0.9676 - val_accuracy: 0.5654 - lr: 1.0000e-05 - 58ms/epoch - 10ms/step\n",
      "Epoch 29/50\n",
      "\n",
      "Epoch 29: saving model to model_weights.h5\n",
      "6/6 - 0s - loss: 0.9076 - accuracy: 0.6145 - val_loss: 0.9675 - val_accuracy: 0.5654 - lr: 1.0000e-05 - 65ms/epoch - 11ms/step\n",
      "Epoch 30/50\n",
      "\n",
      "Epoch 30: saving model to model_weights.h5\n",
      "6/6 - 0s - loss: 0.9076 - accuracy: 0.6145 - val_loss: 0.9675 - val_accuracy: 0.5654 - lr: 1.0000e-05 - 60ms/epoch - 10ms/step\n",
      "Epoch 31/50\n",
      "\n",
      "Epoch 31: saving model to model_weights.h5\n",
      "6/6 - 0s - loss: 0.9075 - accuracy: 0.6145 - val_loss: 0.9675 - val_accuracy: 0.5654 - lr: 1.0000e-05 - 59ms/epoch - 10ms/step\n",
      "Epoch 32/50\n",
      "\n",
      "Epoch 32: saving model to model_weights.h5\n",
      "6/6 - 0s - loss: 0.9075 - accuracy: 0.6145 - val_loss: 0.9675 - val_accuracy: 0.5654 - lr: 1.0000e-05 - 59ms/epoch - 10ms/step\n",
      "Epoch 33/50\n",
      "\n",
      "Epoch 33: saving model to model_weights.h5\n",
      "6/6 - 0s - loss: 0.9075 - accuracy: 0.6145 - val_loss: 0.9675 - val_accuracy: 0.5654 - lr: 1.0000e-05 - 59ms/epoch - 10ms/step\n",
      "Epoch 34/50\n",
      "\n",
      "Epoch 34: saving model to model_weights.h5\n",
      "6/6 - 0s - loss: 0.9074 - accuracy: 0.6145 - val_loss: 0.9675 - val_accuracy: 0.5654 - lr: 1.0000e-05 - 60ms/epoch - 10ms/step\n",
      "Epoch 35/50\n",
      "\n",
      "Epoch 35: saving model to model_weights.h5\n",
      "6/6 - 0s - loss: 0.9074 - accuracy: 0.6145 - val_loss: 0.9674 - val_accuracy: 0.5654 - lr: 1.0000e-05 - 58ms/epoch - 10ms/step\n",
      "Epoch 36/50\n",
      "\n",
      "Epoch 36: saving model to model_weights.h5\n",
      "6/6 - 0s - loss: 0.9073 - accuracy: 0.6145 - val_loss: 0.9674 - val_accuracy: 0.5654 - lr: 1.0000e-05 - 57ms/epoch - 9ms/step\n",
      "Epoch 37/50\n",
      "\n",
      "Epoch 37: saving model to model_weights.h5\n",
      "6/6 - 0s - loss: 0.9073 - accuracy: 0.6145 - val_loss: 0.9674 - val_accuracy: 0.5654 - lr: 1.0000e-05 - 58ms/epoch - 10ms/step\n",
      "Epoch 38/50\n",
      "\n",
      "Epoch 38: saving model to model_weights.h5\n",
      "6/6 - 0s - loss: 0.9072 - accuracy: 0.6145 - val_loss: 0.9674 - val_accuracy: 0.5654 - lr: 1.0000e-05 - 57ms/epoch - 10ms/step\n",
      "Epoch 39/50\n",
      "\n",
      "Epoch 39: saving model to model_weights.h5\n",
      "6/6 - 0s - loss: 0.9072 - accuracy: 0.6145 - val_loss: 0.9674 - val_accuracy: 0.5654 - lr: 1.0000e-05 - 58ms/epoch - 10ms/step\n",
      "Epoch 40/50\n",
      "\n",
      "Epoch 40: saving model to model_weights.h5\n",
      "6/6 - 0s - loss: 0.9072 - accuracy: 0.6145 - val_loss: 0.9673 - val_accuracy: 0.5654 - lr: 1.0000e-05 - 58ms/epoch - 10ms/step\n",
      "Epoch 41/50\n",
      "\n",
      "Epoch 41: saving model to model_weights.h5\n",
      "6/6 - 0s - loss: 0.9071 - accuracy: 0.6145 - val_loss: 0.9673 - val_accuracy: 0.5654 - lr: 1.0000e-05 - 62ms/epoch - 10ms/step\n",
      "Epoch 42/50\n",
      "\n",
      "Epoch 42: saving model to model_weights.h5\n",
      "6/6 - 0s - loss: 0.9071 - accuracy: 0.6145 - val_loss: 0.9673 - val_accuracy: 0.5654 - lr: 1.0000e-05 - 63ms/epoch - 10ms/step\n",
      "Epoch 43/50\n",
      "\n",
      "Epoch 43: saving model to model_weights.h5\n",
      "6/6 - 0s - loss: 0.9070 - accuracy: 0.6145 - val_loss: 0.9673 - val_accuracy: 0.5654 - lr: 1.0000e-05 - 62ms/epoch - 10ms/step\n",
      "Epoch 44/50\n",
      "\n",
      "Epoch 44: saving model to model_weights.h5\n",
      "6/6 - 0s - loss: 0.9070 - accuracy: 0.6145 - val_loss: 0.9673 - val_accuracy: 0.5654 - lr: 1.0000e-05 - 64ms/epoch - 11ms/step\n",
      "Epoch 45/50\n",
      "\n",
      "Epoch 45: saving model to model_weights.h5\n",
      "6/6 - 0s - loss: 0.9069 - accuracy: 0.6145 - val_loss: 0.9673 - val_accuracy: 0.5654 - lr: 1.0000e-05 - 62ms/epoch - 10ms/step\n",
      "Epoch 46/50\n",
      "\n",
      "Epoch 46: saving model to model_weights.h5\n",
      "6/6 - 0s - loss: 0.9069 - accuracy: 0.6145 - val_loss: 0.9673 - val_accuracy: 0.5654 - lr: 1.0000e-05 - 62ms/epoch - 10ms/step\n",
      "Epoch 47/50\n",
      "\n",
      "Epoch 47: saving model to model_weights.h5\n",
      "6/6 - 0s - loss: 0.9069 - accuracy: 0.6145 - val_loss: 0.9673 - val_accuracy: 0.5654 - lr: 1.0000e-05 - 64ms/epoch - 11ms/step\n",
      "Epoch 48/50\n",
      "\n",
      "Epoch 48: saving model to model_weights.h5\n",
      "6/6 - 0s - loss: 0.9068 - accuracy: 0.6145 - val_loss: 0.9672 - val_accuracy: 0.5654 - lr: 1.0000e-05 - 60ms/epoch - 10ms/step\n",
      "Epoch 49/50\n",
      "\n",
      "Epoch 49: saving model to model_weights.h5\n",
      "6/6 - 0s - loss: 0.9068 - accuracy: 0.6145 - val_loss: 0.9672 - val_accuracy: 0.5654 - lr: 1.0000e-05 - 59ms/epoch - 10ms/step\n",
      "Epoch 50/50\n",
      "\n",
      "Epoch 50: saving model to model_weights.h5\n",
      "6/6 - 0s - loss: 0.9067 - accuracy: 0.6145 - val_loss: 0.9672 - val_accuracy: 0.5654 - lr: 1.0000e-05 - 58ms/epoch - 10ms/step\n"
     ]
    }
   ],
   "source": [
    "history=model.fit(X_train_scaled, y_train_cat, validation_split=0.2, epochs=50, batch_size=128, verbose=2,callbacks=callbacks)"
   ]
  },
  {
   "cell_type": "markdown",
   "id": "1c775cc6",
   "metadata": {},
   "source": [
    "### C. Plot 2 separate visuals"
   ]
  },
  {
   "cell_type": "markdown",
   "id": "f0e733c4",
   "metadata": {},
   "source": [
    "#### Training Loss and Validation Loss"
   ]
  },
  {
   "cell_type": "code",
   "execution_count": 168,
   "id": "a8ac08cc",
   "metadata": {
    "scrolled": true
   },
   "outputs": [
    {
     "name": "stdout",
     "output_type": "stream",
     "text": [
      "13/13 [==============================] - 0s 7ms/step - loss: 1.0327 - accuracy: 0.5662\n"
     ]
    },
    {
     "data": {
      "image/png": "[encoded data removed]",
      "text/plain": [
       "<Figure size 640x480 with 1 Axes>"
      ]
     },
     "metadata": {},
     "output_type": "display_data"
    }
   ],
   "source": [
    "# Capturing learning history per epoch\n",
    "hist  = pd.DataFrame(history.history)\n",
    "hist['epoch'] = history.epoch\n",
    "\n",
    "# Plotting accuracy at different epochs\n",
    "plt.plot(hist['loss'])\n",
    "plt.plot(hist['val_loss'])\n",
    "plt.ylabel('loss')\n",
    "plt.xlabel('epoch')\n",
    "plt.legend((\"train\" , \"valid\") , loc =0)\n",
    "\n",
    "#Printing results\n",
    "results = model.evaluate(X_test_scaled, y_test_cat)"
   ]
  },
  {
   "cell_type": "markdown",
   "id": "9aa869dd",
   "metadata": {},
   "source": [
    "#### Training Accuracy and Validation Accuracy"
   ]
  },
  {
   "cell_type": "code",
   "execution_count": 169,
   "id": "26faa4ef",
   "metadata": {},
   "outputs": [
    {
     "name": "stdout",
     "output_type": "stream",
     "text": [
      "13/13 [==============================] - 0s 6ms/step - loss: 1.0327 - accuracy: 0.5662\n"
     ]
    },
    {
     "data": {
      "image/png": "[encoded data removed]",
      "text/plain": [
       "<Figure size 640x480 with 1 Axes>"
      ]
     },
     "metadata": {},
     "output_type": "display_data"
    }
   ],
   "source": [
    "# Capturing learning history per epoch\n",
    "hist  = pd.DataFrame(history.history)\n",
    "hist['epoch'] = history.epoch\n",
    "\n",
    "# Plotting accuracy at different epochs\n",
    "plt.plot(hist['accuracy'])\n",
    "plt.plot(hist['val_accuracy'])\n",
    "plt.ylabel('accuracy')\n",
    "plt.xlabel('epoch')\n",
    "plt.legend((\"train\" , \"valid\") , loc =0)\n",
    "\n",
    "#Printing results\n",
    "results = model.evaluate(X_test_scaled, y_test_cat)"
   ]
  },
  {
   "cell_type": "markdown",
   "id": "e2e1a515",
   "metadata": {},
   "source": [
    "### D. Design new architecture/update existing architecture in attempt to improve the performance of the model"
   ]
  },
  {
   "cell_type": "code",
   "execution_count": 170,
   "id": "943b6326",
   "metadata": {},
   "outputs": [],
   "source": [
    "backend.clear_session()\n",
    "np.random.seed(42)\n",
    "import random\n",
    "random.seed(42)\n",
    "tf.random.set_seed(42)"
   ]
  },
  {
   "cell_type": "markdown",
   "id": "28ff4dd4",
   "metadata": {},
   "source": [
    "##### Model 2 - Adding more layers and Dropout"
   ]
  },
  {
   "cell_type": "code",
   "execution_count": 173,
   "id": "98ad5000",
   "metadata": {},
   "outputs": [],
   "source": [
    "model2 = Sequential()\n",
    "model2.add(Dense(256,activation='relu',input_dim = X_train_scaled.shape[1]))\n",
    "model2.add(Dropout(0.2))\n",
    "model2.add(Dense(128,activation='relu'))\n",
    "model2.add(Dropout(0.2))\n",
    "model2.add(Dense(64,activation='relu'))\n",
    "model2.add(Dropout(0.2))\n",
    "model2.add(Dense(32,activation='relu'))\n",
    "model2.add(Dense(num_classes, activation = 'softmax'))"
   ]
  },
  {
   "cell_type": "code",
   "execution_count": 174,
   "id": "1bf97402",
   "metadata": {},
   "outputs": [
    {
     "name": "stdout",
     "output_type": "stream",
     "text": [
      "Model: \"sequential_2\"\n",
      "_________________________________________________________________\n",
      " Layer (type)                Output Shape              Param #   \n",
      "=================================================================\n",
      " dense_10 (Dense)            (None, 256)               3072      \n",
      "                                                                 \n",
      " dropout_6 (Dropout)         (None, 256)               0         \n",
      "                                                                 \n",
      " dense_11 (Dense)            (None, 128)               32896     \n",
      "                                                                 \n",
      " dropout_7 (Dropout)         (None, 128)               0         \n",
      "                                                                 \n",
      " dense_12 (Dense)            (None, 64)                8256      \n",
      "                                                                 \n",
      " dropout_8 (Dropout)         (None, 64)                0         \n",
      "                                                                 \n",
      " dense_13 (Dense)            (None, 32)                2080      \n",
      "                                                                 \n",
      " dense_14 (Dense)            (None, 6)                 198       \n",
      "                                                                 \n",
      "=================================================================\n",
      "Total params: 46,502\n",
      "Trainable params: 46,502\n",
      "Non-trainable params: 0\n",
      "_________________________________________________________________\n"
     ]
    }
   ],
   "source": [
    "model2.summary()"
   ]
  },
  {
   "cell_type": "code",
   "execution_count": 175,
   "id": "5baca981",
   "metadata": {},
   "outputs": [
    {
     "name": "stderr",
     "output_type": "stream",
     "text": [
      "WARNING:absl:At this time, the v2.11+ optimizer `tf.keras.optimizers.Adam` runs slowly on M1/M2 Macs, please use the legacy Keras optimizer instead, located at `tf.keras.optimizers.legacy.Adam`.\n",
      "WARNING:absl:There is a known slowdown when using v2.11+ Keras optimizers on M1/M2 Macs. Falling back to the legacy Keras optimizer, i.e., `tf.keras.optimizers.legacy.Adam`.\n"
     ]
    }
   ],
   "source": [
    "optimizer = tf.keras.optimizers.Adam(0.001)\n",
    "model2.compile(loss='categorical_crossentropy',optimizer=optimizer,metrics=['accuracy'])"
   ]
  },
  {
   "cell_type": "code",
   "execution_count": 176,
   "id": "c936a99b",
   "metadata": {},
   "outputs": [
    {
     "name": "stdout",
     "output_type": "stream",
     "text": [
      "Epoch 1/50\n",
      "12/12 [==============================] - 1s 30ms/step - loss: 1.5955 - accuracy: 0.3395 - val_loss: 1.3646 - val_accuracy: 0.5340\n",
      "Epoch 2/50\n",
      "12/12 [==============================] - 0s 12ms/step - loss: 1.2660 - accuracy: 0.5368 - val_loss: 1.0793 - val_accuracy: 0.5812\n",
      "Epoch 3/50\n",
      "12/12 [==============================] - 0s 11ms/step - loss: 1.1119 - accuracy: 0.5671 - val_loss: 1.0347 - val_accuracy: 0.5864\n",
      "Epoch 4/50\n",
      "12/12 [==============================] - 0s 10ms/step - loss: 1.0554 - accuracy: 0.5816 - val_loss: 1.0104 - val_accuracy: 0.5812\n",
      "Epoch 5/50\n",
      "12/12 [==============================] - 0s 10ms/step - loss: 1.0310 - accuracy: 0.5776 - val_loss: 1.0026 - val_accuracy: 0.5864\n",
      "Epoch 6/50\n",
      "12/12 [==============================] - 0s 11ms/step - loss: 1.0076 - accuracy: 0.5658 - val_loss: 0.9886 - val_accuracy: 0.5969\n",
      "Epoch 7/50\n",
      "12/12 [==============================] - 0s 11ms/step - loss: 0.9800 - accuracy: 0.6066 - val_loss: 0.9814 - val_accuracy: 0.6073\n",
      "Epoch 8/50\n",
      "12/12 [==============================] - 0s 10ms/step - loss: 0.9804 - accuracy: 0.5934 - val_loss: 0.9768 - val_accuracy: 0.5969\n",
      "Epoch 9/50\n",
      "12/12 [==============================] - 0s 10ms/step - loss: 0.9679 - accuracy: 0.5842 - val_loss: 0.9610 - val_accuracy: 0.6073\n",
      "Epoch 10/50\n",
      "12/12 [==============================] - 0s 10ms/step - loss: 0.9500 - accuracy: 0.5934 - val_loss: 0.9639 - val_accuracy: 0.6283\n",
      "Epoch 11/50\n",
      "12/12 [==============================] - 0s 11ms/step - loss: 0.9459 - accuracy: 0.6079 - val_loss: 0.9697 - val_accuracy: 0.5969\n",
      "Epoch 12/50\n",
      "12/12 [==============================] - 0s 10ms/step - loss: 0.9315 - accuracy: 0.6132 - val_loss: 0.9711 - val_accuracy: 0.6126\n",
      "Epoch 13/50\n",
      "12/12 [==============================] - 0s 10ms/step - loss: 0.9332 - accuracy: 0.6105 - val_loss: 0.9648 - val_accuracy: 0.6178\n",
      "Epoch 14/50\n",
      "12/12 [==============================] - 0s 12ms/step - loss: 0.9046 - accuracy: 0.6197 - val_loss: 0.9628 - val_accuracy: 0.5864\n",
      "Epoch 15/50\n",
      "12/12 [==============================] - 0s 11ms/step - loss: 0.8986 - accuracy: 0.6184 - val_loss: 0.9601 - val_accuracy: 0.5707\n",
      "Epoch 16/50\n",
      "12/12 [==============================] - 0s 15ms/step - loss: 0.9060 - accuracy: 0.6197 - val_loss: 0.9829 - val_accuracy: 0.5916\n",
      "Epoch 17/50\n",
      "12/12 [==============================] - 0s 10ms/step - loss: 0.8963 - accuracy: 0.6211 - val_loss: 0.9640 - val_accuracy: 0.5759\n",
      "Epoch 18/50\n",
      "12/12 [==============================] - 0s 11ms/step - loss: 0.8783 - accuracy: 0.6355 - val_loss: 0.9543 - val_accuracy: 0.5602\n",
      "Epoch 19/50\n",
      "12/12 [==============================] - 0s 11ms/step - loss: 0.8697 - accuracy: 0.6474 - val_loss: 0.9618 - val_accuracy: 0.5707\n",
      "Epoch 20/50\n",
      "12/12 [==============================] - 0s 10ms/step - loss: 0.8735 - accuracy: 0.6579 - val_loss: 0.9641 - val_accuracy: 0.5864\n",
      "Epoch 21/50\n",
      "12/12 [==============================] - 0s 10ms/step - loss: 0.8584 - accuracy: 0.6553 - val_loss: 0.9627 - val_accuracy: 0.5864\n",
      "Epoch 22/50\n",
      "12/12 [==============================] - 0s 10ms/step - loss: 0.8642 - accuracy: 0.6421 - val_loss: 0.9563 - val_accuracy: 0.5916\n",
      "Epoch 23/50\n",
      "12/12 [==============================] - 0s 11ms/step - loss: 0.8513 - accuracy: 0.6461 - val_loss: 0.9394 - val_accuracy: 0.5864\n",
      "Epoch 24/50\n",
      "12/12 [==============================] - 0s 10ms/step - loss: 0.8443 - accuracy: 0.6553 - val_loss: 0.9570 - val_accuracy: 0.5864\n",
      "Epoch 25/50\n",
      "12/12 [==============================] - 0s 10ms/step - loss: 0.8336 - accuracy: 0.6605 - val_loss: 0.9550 - val_accuracy: 0.5812\n",
      "Epoch 26/50\n",
      "12/12 [==============================] - 0s 11ms/step - loss: 0.8382 - accuracy: 0.6263 - val_loss: 0.9573 - val_accuracy: 0.5969\n",
      "Epoch 27/50\n",
      "12/12 [==============================] - 0s 10ms/step - loss: 0.8181 - accuracy: 0.6566 - val_loss: 0.9629 - val_accuracy: 0.5969\n",
      "Epoch 28/50\n",
      "12/12 [==============================] - 0s 10ms/step - loss: 0.8154 - accuracy: 0.6658 - val_loss: 0.9842 - val_accuracy: 0.5812\n",
      "Epoch 29/50\n",
      "12/12 [==============================] - 0s 10ms/step - loss: 0.8060 - accuracy: 0.6711 - val_loss: 0.9660 - val_accuracy: 0.5812\n",
      "Epoch 30/50\n",
      "12/12 [==============================] - 0s 10ms/step - loss: 0.8111 - accuracy: 0.6711 - val_loss: 0.9660 - val_accuracy: 0.5759\n",
      "Epoch 31/50\n",
      "12/12 [==============================] - 0s 10ms/step - loss: 0.7917 - accuracy: 0.6789 - val_loss: 0.9520 - val_accuracy: 0.5812\n",
      "Epoch 32/50\n",
      "12/12 [==============================] - 0s 10ms/step - loss: 0.7772 - accuracy: 0.6724 - val_loss: 0.9677 - val_accuracy: 0.5864\n",
      "Epoch 33/50\n",
      "12/12 [==============================] - 0s 10ms/step - loss: 0.7806 - accuracy: 0.6737 - val_loss: 0.9822 - val_accuracy: 0.6021\n",
      "Epoch 34/50\n",
      "12/12 [==============================] - 0s 10ms/step - loss: 0.7670 - accuracy: 0.6868 - val_loss: 0.9755 - val_accuracy: 0.5916\n",
      "Epoch 35/50\n",
      "12/12 [==============================] - 0s 11ms/step - loss: 0.7675 - accuracy: 0.6961 - val_loss: 0.9828 - val_accuracy: 0.6126\n",
      "Epoch 36/50\n",
      "12/12 [==============================] - 0s 11ms/step - loss: 0.7467 - accuracy: 0.6908 - val_loss: 0.9722 - val_accuracy: 0.5969\n",
      "Epoch 37/50\n",
      "12/12 [==============================] - 0s 10ms/step - loss: 0.7753 - accuracy: 0.6724 - val_loss: 0.9936 - val_accuracy: 0.5864\n",
      "Epoch 38/50\n",
      "12/12 [==============================] - 0s 10ms/step - loss: 0.7519 - accuracy: 0.6974 - val_loss: 0.9728 - val_accuracy: 0.6021\n",
      "Epoch 39/50\n",
      "12/12 [==============================] - 0s 10ms/step - loss: 0.7434 - accuracy: 0.6737 - val_loss: 1.0082 - val_accuracy: 0.6178\n",
      "Epoch 40/50\n",
      "12/12 [==============================] - 0s 10ms/step - loss: 0.7341 - accuracy: 0.6947 - val_loss: 0.9973 - val_accuracy: 0.5864\n",
      "Epoch 41/50\n",
      "12/12 [==============================] - 0s 10ms/step - loss: 0.7229 - accuracy: 0.6961 - val_loss: 1.0035 - val_accuracy: 0.5654\n",
      "Epoch 42/50\n",
      "12/12 [==============================] - 0s 10ms/step - loss: 0.7169 - accuracy: 0.7013 - val_loss: 1.0219 - val_accuracy: 0.5445\n",
      "Epoch 43/50\n",
      "12/12 [==============================] - 0s 10ms/step - loss: 0.7059 - accuracy: 0.7197 - val_loss: 1.0251 - val_accuracy: 0.5916\n",
      "Epoch 44/50\n",
      "12/12 [==============================] - 0s 11ms/step - loss: 0.7105 - accuracy: 0.7066 - val_loss: 0.9998 - val_accuracy: 0.5497\n",
      "Epoch 45/50\n",
      "12/12 [==============================] - 0s 10ms/step - loss: 0.7026 - accuracy: 0.7118 - val_loss: 1.0063 - val_accuracy: 0.5550\n",
      "Epoch 46/50\n",
      "12/12 [==============================] - 0s 10ms/step - loss: 0.6855 - accuracy: 0.7145 - val_loss: 1.0148 - val_accuracy: 0.5550\n",
      "Epoch 47/50\n",
      "12/12 [==============================] - 0s 10ms/step - loss: 0.6794 - accuracy: 0.7079 - val_loss: 1.0290 - val_accuracy: 0.5812\n",
      "Epoch 48/50\n",
      "12/12 [==============================] - 0s 10ms/step - loss: 0.6790 - accuracy: 0.7079 - val_loss: 1.0488 - val_accuracy: 0.5497\n",
      "Epoch 49/50\n",
      "12/12 [==============================] - 0s 10ms/step - loss: 0.6952 - accuracy: 0.7211 - val_loss: 1.0136 - val_accuracy: 0.5969\n",
      "Epoch 50/50\n",
      "12/12 [==============================] - 0s 10ms/step - loss: 0.6506 - accuracy: 0.7171 - val_loss: 1.0559 - val_accuracy: 0.5864\n"
     ]
    }
   ],
   "source": [
    "history_2 = model2.fit(X_train_scaled,y_train_cat,batch_size=64,epochs=50,verbose=1,validation_split = 0.2)"
   ]
  },
  {
   "cell_type": "markdown",
   "id": "d93b0111",
   "metadata": {},
   "source": [
    "#### Model 3 - Adding more layer and RandomisedSearch"
   ]
  },
  {
   "cell_type": "code",
   "execution_count": 223,
   "id": "5f955f50",
   "metadata": {},
   "outputs": [],
   "source": [
    "backend.clear_session()\n",
    "np.random.seed(42)\n",
    "import random\n",
    "random.seed(42)\n",
    "tf.random.set_seed(42)"
   ]
  },
  {
   "cell_type": "code",
   "execution_count": 224,
   "id": "ce0e3f3e",
   "metadata": {},
   "outputs": [],
   "source": [
    "def create_model_v3(lr,batch_size):  \n",
    "    np.random.seed(1337)\n",
    "\n",
    "    model3 = Sequential()\n",
    "    model3.add(Dense(256,activation='relu',input_dim = X_train_scaled.shape[1], kernel_initializer='he_uniform'))\n",
    "    model3.add(Dropout(0.1))\n",
    "    model3.add(Dense(128,activation='relu', kernel_initializer='he_uniform'))\n",
    "    model3.add(Dropout(0.1))\n",
    "    model3.add(Dense(64,activation='relu',kernel_initializer='he_uniform'))\n",
    "    model3.add(Dropout(0.1))\n",
    "    model3.add(Dense(32,activation='relu', kernel_initializer='he_uniform'))\n",
    "    model3.add(Dense(num_classes, activation = 'softmax'))\n",
    "    \n",
    "    #compile model\n",
    "    optimizer = tf.keras.optimizers.Adam(learning_rate=lr)\n",
    "    model3.compile(optimizer = optimizer,loss = 'categorical_crossentropy', metrics = ['accuracy'])\n",
    "    return model3\n"
   ]
  },
  {
   "cell_type": "markdown",
   "id": "e4b8bcd8",
   "metadata": {},
   "source": [
    "- We are using Random search to optimize two hyperparameters - Batch size & Learning Rate."
   ]
  },
  {
   "cell_type": "code",
   "execution_count": 225,
   "id": "b7b2f88c",
   "metadata": {
    "scrolled": false
   },
   "outputs": [
    {
     "name": "stderr",
     "output_type": "stream",
     "text": [
      "/var/folders/y3/sj4jd8d52hgf1dwssqb4kb580000gn/T/ipykernel_40108/2429848441.py:1: DeprecationWarning: KerasClassifier is deprecated, use Sci-Keras (https://github.com/adriangb/scikeras) instead. See https://www.adriangb.com/scikeras/stable/migration.html for help migrating.\n",
      "  keras_estimator = KerasClassifier(build_fn=create_model_v3, verbose=1)\n"
     ]
    }
   ],
   "source": [
    "keras_estimator = KerasClassifier(build_fn=create_model_v3, verbose=1)\n",
    "# define the grid search parameters\n",
    "param_random = {\n",
    "    'batch_size':[32, 64, 128],\n",
    "    \"lr\":[0.01,0.1,0.001],}\n",
    "\n",
    "kfold_splits = 3\n",
    "random= RandomizedSearchCV(estimator=keras_estimator,  \n",
    "                    verbose=1,\n",
    "                    cv=kfold_splits,  \n",
    "                    param_distributions=param_random)\n"
   ]
  },
  {
   "cell_type": "code",
   "execution_count": 226,
   "id": "48444c21",
   "metadata": {
    "scrolled": true
   },
   "outputs": [
    {
     "name": "stdout",
     "output_type": "stream",
     "text": [
      "Fitting 3 folds for each of 9 candidates, totalling 27 fits\n"
     ]
    },
    {
     "name": "stderr",
     "output_type": "stream",
     "text": [
      "WARNING:absl:At this time, the v2.11+ optimizer `tf.keras.optimizers.Adam` runs slowly on M1/M2 Macs, please use the legacy Keras optimizer instead, located at `tf.keras.optimizers.legacy.Adam`.\n",
      "WARNING:absl:There is a known slowdown when using v2.11+ Keras optimizers on M1/M2 Macs. Falling back to the legacy Keras optimizer, i.e., `tf.keras.optimizers.legacy.Adam`.\n"
     ]
    },
    {
     "name": "stdout",
     "output_type": "stream",
     "text": [
      "16/16 [==============================] - 2s 73ms/step - loss: 1.4591 - accuracy: 0.5247 - val_loss: 1.2237 - val_accuracy: 0.4646\n",
      "10/10 [==============================] - 0s 25ms/step - loss: 1.1247 - accuracy: 0.5300\n"
     ]
    },
    {
     "name": "stderr",
     "output_type": "stream",
     "text": [
      "WARNING:absl:At this time, the v2.11+ optimizer `tf.keras.optimizers.Adam` runs slowly on M1/M2 Macs, please use the legacy Keras optimizer instead, located at `tf.keras.optimizers.legacy.Adam`.\n",
      "WARNING:absl:There is a known slowdown when using v2.11+ Keras optimizers on M1/M2 Macs. Falling back to the legacy Keras optimizer, i.e., `tf.keras.optimizers.legacy.Adam`.\n"
     ]
    },
    {
     "name": "stdout",
     "output_type": "stream",
     "text": [
      "16/16 [==============================] - 2s 66ms/step - loss: 1.3935 - accuracy: 0.5128 - val_loss: 1.2583 - val_accuracy: 0.5276\n",
      "10/10 [==============================] - 0s 23ms/step - loss: 1.1968 - accuracy: 0.4795\n"
     ]
    },
    {
     "name": "stderr",
     "output_type": "stream",
     "text": [
      "WARNING:absl:At this time, the v2.11+ optimizer `tf.keras.optimizers.Adam` runs slowly on M1/M2 Macs, please use the legacy Keras optimizer instead, located at `tf.keras.optimizers.legacy.Adam`.\n",
      "WARNING:absl:There is a known slowdown when using v2.11+ Keras optimizers on M1/M2 Macs. Falling back to the legacy Keras optimizer, i.e., `tf.keras.optimizers.legacy.Adam`.\n"
     ]
    },
    {
     "name": "stdout",
     "output_type": "stream",
     "text": [
      "16/16 [==============================] - 1s 60ms/step - loss: 1.5676 - accuracy: 0.4398 - val_loss: 1.2828 - val_accuracy: 0.5433\n",
      "10/10 [==============================] - 0s 22ms/step - loss: 1.2064 - accuracy: 0.5773\n"
     ]
    },
    {
     "name": "stderr",
     "output_type": "stream",
     "text": [
      "WARNING:absl:At this time, the v2.11+ optimizer `tf.keras.optimizers.Adam` runs slowly on M1/M2 Macs, please use the legacy Keras optimizer instead, located at `tf.keras.optimizers.legacy.Adam`.\n",
      "WARNING:absl:There is a known slowdown when using v2.11+ Keras optimizers on M1/M2 Macs. Falling back to the legacy Keras optimizer, i.e., `tf.keras.optimizers.legacy.Adam`.\n"
     ]
    },
    {
     "name": "stdout",
     "output_type": "stream",
     "text": [
      "16/16 [==============================] - 1s 64ms/step - loss: 8.7142 - accuracy: 0.3491 - val_loss: 1.3082 - val_accuracy: 0.4724\n",
      "10/10 [==============================] - 0s 24ms/step - loss: 1.3968 - accuracy: 0.3849\n"
     ]
    },
    {
     "name": "stderr",
     "output_type": "stream",
     "text": [
      "WARNING:absl:At this time, the v2.11+ optimizer `tf.keras.optimizers.Adam` runs slowly on M1/M2 Macs, please use the legacy Keras optimizer instead, located at `tf.keras.optimizers.legacy.Adam`.\n",
      "WARNING:absl:There is a known slowdown when using v2.11+ Keras optimizers on M1/M2 Macs. Falling back to the legacy Keras optimizer, i.e., `tf.keras.optimizers.legacy.Adam`.\n"
     ]
    },
    {
     "name": "stdout",
     "output_type": "stream",
     "text": [
      "16/16 [==============================] - 1s 63ms/step - loss: 8.4506 - accuracy: 0.3767 - val_loss: 1.2853 - val_accuracy: 0.4882\n",
      "10/10 [==============================] - 0s 25ms/step - loss: 1.3548 - accuracy: 0.3849\n"
     ]
    },
    {
     "name": "stderr",
     "output_type": "stream",
     "text": [
      "WARNING:absl:At this time, the v2.11+ optimizer `tf.keras.optimizers.Adam` runs slowly on M1/M2 Macs, please use the legacy Keras optimizer instead, located at `tf.keras.optimizers.legacy.Adam`.\n",
      "WARNING:absl:There is a known slowdown when using v2.11+ Keras optimizers on M1/M2 Macs. Falling back to the legacy Keras optimizer, i.e., `tf.keras.optimizers.legacy.Adam`.\n"
     ]
    },
    {
     "name": "stdout",
     "output_type": "stream",
     "text": [
      "16/16 [==============================] - 1s 67ms/step - loss: 10.2063 - accuracy: 0.3590 - val_loss: 1.3168 - val_accuracy: 0.4016\n",
      "10/10 [==============================] - 0s 25ms/step - loss: 1.3218 - accuracy: 0.4132\n"
     ]
    },
    {
     "name": "stderr",
     "output_type": "stream",
     "text": [
      "WARNING:absl:At this time, the v2.11+ optimizer `tf.keras.optimizers.Adam` runs slowly on M1/M2 Macs, please use the legacy Keras optimizer instead, located at `tf.keras.optimizers.legacy.Adam`.\n",
      "WARNING:absl:There is a known slowdown when using v2.11+ Keras optimizers on M1/M2 Macs. Falling back to the legacy Keras optimizer, i.e., `tf.keras.optimizers.legacy.Adam`.\n"
     ]
    },
    {
     "name": "stdout",
     "output_type": "stream",
     "text": [
      "16/16 [==============================] - 1s 65ms/step - loss: 1.4441 - accuracy: 0.4418 - val_loss: 1.1746 - val_accuracy: 0.5433\n",
      "10/10 [==============================] - 0s 22ms/step - loss: 1.1506 - accuracy: 0.5521\n"
     ]
    },
    {
     "name": "stderr",
     "output_type": "stream",
     "text": [
      "WARNING:absl:At this time, the v2.11+ optimizer `tf.keras.optimizers.Adam` runs slowly on M1/M2 Macs, please use the legacy Keras optimizer instead, located at `tf.keras.optimizers.legacy.Adam`.\n",
      "WARNING:absl:There is a known slowdown when using v2.11+ Keras optimizers on M1/M2 Macs. Falling back to the legacy Keras optimizer, i.e., `tf.keras.optimizers.legacy.Adam`.\n"
     ]
    },
    {
     "name": "stdout",
     "output_type": "stream",
     "text": [
      "16/16 [==============================] - 1s 64ms/step - loss: 1.3435 - accuracy: 0.4931 - val_loss: 1.1563 - val_accuracy: 0.5827\n",
      "10/10 [==============================] - 0s 26ms/step - loss: 1.1560 - accuracy: 0.5521\n"
     ]
    },
    {
     "name": "stderr",
     "output_type": "stream",
     "text": [
      "WARNING:absl:At this time, the v2.11+ optimizer `tf.keras.optimizers.Adam` runs slowly on M1/M2 Macs, please use the legacy Keras optimizer instead, located at `tf.keras.optimizers.legacy.Adam`.\n",
      "WARNING:absl:There is a known slowdown when using v2.11+ Keras optimizers on M1/M2 Macs. Falling back to the legacy Keras optimizer, i.e., `tf.keras.optimizers.legacy.Adam`.\n"
     ]
    },
    {
     "name": "stdout",
     "output_type": "stream",
     "text": [
      "16/16 [==============================] - 1s 65ms/step - loss: 1.9119 - accuracy: 0.3531 - val_loss: 1.1678 - val_accuracy: 0.5591\n",
      "10/10 [==============================] - 0s 23ms/step - loss: 1.0862 - accuracy: 0.5521\n"
     ]
    },
    {
     "name": "stderr",
     "output_type": "stream",
     "text": [
      "WARNING:absl:At this time, the v2.11+ optimizer `tf.keras.optimizers.Adam` runs slowly on M1/M2 Macs, please use the legacy Keras optimizer instead, located at `tf.keras.optimizers.legacy.Adam`.\n",
      "WARNING:absl:There is a known slowdown when using v2.11+ Keras optimizers on M1/M2 Macs. Falling back to the legacy Keras optimizer, i.e., `tf.keras.optimizers.legacy.Adam`.\n"
     ]
    },
    {
     "name": "stdout",
     "output_type": "stream",
     "text": [
      "8/8 [==============================] - 1s 103ms/step - loss: 1.5638 - accuracy: 0.4398 - val_loss: 1.1750 - val_accuracy: 0.4882\n",
      "5/5 [==============================] - 0s 38ms/step - loss: 1.1937 - accuracy: 0.4953\n"
     ]
    },
    {
     "name": "stderr",
     "output_type": "stream",
     "text": [
      "WARNING:absl:At this time, the v2.11+ optimizer `tf.keras.optimizers.Adam` runs slowly on M1/M2 Macs, please use the legacy Keras optimizer instead, located at `tf.keras.optimizers.legacy.Adam`.\n",
      "WARNING:absl:There is a known slowdown when using v2.11+ Keras optimizers on M1/M2 Macs. Falling back to the legacy Keras optimizer, i.e., `tf.keras.optimizers.legacy.Adam`.\n"
     ]
    },
    {
     "name": "stdout",
     "output_type": "stream",
     "text": [
      "8/8 [==============================] - 1s 105ms/step - loss: 1.6916 - accuracy: 0.4418 - val_loss: 1.1794 - val_accuracy: 0.5591\n",
      "5/5 [==============================] - 0s 34ms/step - loss: 1.1917 - accuracy: 0.5205\n"
     ]
    },
    {
     "name": "stderr",
     "output_type": "stream",
     "text": [
      "WARNING:absl:At this time, the v2.11+ optimizer `tf.keras.optimizers.Adam` runs slowly on M1/M2 Macs, please use the legacy Keras optimizer instead, located at `tf.keras.optimizers.legacy.Adam`.\n",
      "WARNING:absl:There is a known slowdown when using v2.11+ Keras optimizers on M1/M2 Macs. Falling back to the legacy Keras optimizer, i.e., `tf.keras.optimizers.legacy.Adam`.\n"
     ]
    },
    {
     "name": "stdout",
     "output_type": "stream",
     "text": [
      "8/8 [==============================] - 4s 101ms/step - loss: 1.6611 - accuracy: 0.4497 - val_loss: 1.2611 - val_accuracy: 0.5433\n",
      "5/5 [==============================] - 0s 35ms/step - loss: 1.1720 - accuracy: 0.6088\n"
     ]
    },
    {
     "name": "stderr",
     "output_type": "stream",
     "text": [
      "WARNING:absl:At this time, the v2.11+ optimizer `tf.keras.optimizers.Adam` runs slowly on M1/M2 Macs, please use the legacy Keras optimizer instead, located at `tf.keras.optimizers.legacy.Adam`.\n",
      "WARNING:absl:There is a known slowdown when using v2.11+ Keras optimizers on M1/M2 Macs. Falling back to the legacy Keras optimizer, i.e., `tf.keras.optimizers.legacy.Adam`.\n"
     ]
    },
    {
     "name": "stdout",
     "output_type": "stream",
     "text": [
      "8/8 [==============================] - 1s 108ms/step - loss: 29.8130 - accuracy: 0.3373 - val_loss: 1.4808 - val_accuracy: 0.3701\n",
      "5/5 [==============================] - 0s 31ms/step - loss: 1.4825 - accuracy: 0.4290\n"
     ]
    },
    {
     "name": "stderr",
     "output_type": "stream",
     "text": [
      "WARNING:absl:At this time, the v2.11+ optimizer `tf.keras.optimizers.Adam` runs slowly on M1/M2 Macs, please use the legacy Keras optimizer instead, located at `tf.keras.optimizers.legacy.Adam`.\n",
      "WARNING:absl:There is a known slowdown when using v2.11+ Keras optimizers on M1/M2 Macs. Falling back to the legacy Keras optimizer, i.e., `tf.keras.optimizers.legacy.Adam`.\n"
     ]
    },
    {
     "name": "stdout",
     "output_type": "stream",
     "text": [
      "8/8 [==============================] - 1s 103ms/step - loss: 9.3217 - accuracy: 0.3826 - val_loss: 1.3875 - val_accuracy: 0.5197\n",
      "5/5 [==============================] - 0s 36ms/step - loss: 1.3599 - accuracy: 0.4921\n"
     ]
    },
    {
     "name": "stderr",
     "output_type": "stream",
     "text": [
      "WARNING:absl:At this time, the v2.11+ optimizer `tf.keras.optimizers.Adam` runs slowly on M1/M2 Macs, please use the legacy Keras optimizer instead, located at `tf.keras.optimizers.legacy.Adam`.\n",
      "WARNING:absl:There is a known slowdown when using v2.11+ Keras optimizers on M1/M2 Macs. Falling back to the legacy Keras optimizer, i.e., `tf.keras.optimizers.legacy.Adam`.\n"
     ]
    },
    {
     "name": "stdout",
     "output_type": "stream",
     "text": [
      "8/8 [==============================] - 1s 113ms/step - loss: 36.8570 - accuracy: 0.2367 - val_loss: 1.5117 - val_accuracy: 0.4094\n",
      "5/5 [==============================] - 0s 40ms/step - loss: 1.5259 - accuracy: 0.4416\n"
     ]
    },
    {
     "name": "stderr",
     "output_type": "stream",
     "text": [
      "WARNING:absl:At this time, the v2.11+ optimizer `tf.keras.optimizers.Adam` runs slowly on M1/M2 Macs, please use the legacy Keras optimizer instead, located at `tf.keras.optimizers.legacy.Adam`.\n",
      "WARNING:absl:There is a known slowdown when using v2.11+ Keras optimizers on M1/M2 Macs. Falling back to the legacy Keras optimizer, i.e., `tf.keras.optimizers.legacy.Adam`.\n"
     ]
    },
    {
     "name": "stdout",
     "output_type": "stream",
     "text": [
      "8/8 [==============================] - 1s 106ms/step - loss: 1.4836 - accuracy: 0.4379 - val_loss: 1.0836 - val_accuracy: 0.6220\n",
      "5/5 [==============================] - 0s 37ms/step - loss: 1.1905 - accuracy: 0.5237\n"
     ]
    },
    {
     "name": "stderr",
     "output_type": "stream",
     "text": [
      "WARNING:absl:At this time, the v2.11+ optimizer `tf.keras.optimizers.Adam` runs slowly on M1/M2 Macs, please use the legacy Keras optimizer instead, located at `tf.keras.optimizers.legacy.Adam`.\n",
      "WARNING:absl:There is a known slowdown when using v2.11+ Keras optimizers on M1/M2 Macs. Falling back to the legacy Keras optimizer, i.e., `tf.keras.optimizers.legacy.Adam`.\n"
     ]
    },
    {
     "name": "stdout",
     "output_type": "stream",
     "text": [
      "8/8 [==============================] - 1s 102ms/step - loss: 2.5926 - accuracy: 0.1361 - val_loss: 1.5441 - val_accuracy: 0.4094\n",
      "5/5 [==============================] - 0s 38ms/step - loss: 1.6382 - accuracy: 0.3344\n"
     ]
    },
    {
     "name": "stderr",
     "output_type": "stream",
     "text": [
      "WARNING:absl:At this time, the v2.11+ optimizer `tf.keras.optimizers.Adam` runs slowly on M1/M2 Macs, please use the legacy Keras optimizer instead, located at `tf.keras.optimizers.legacy.Adam`.\n",
      "WARNING:absl:There is a known slowdown when using v2.11+ Keras optimizers on M1/M2 Macs. Falling back to the legacy Keras optimizer, i.e., `tf.keras.optimizers.legacy.Adam`.\n"
     ]
    },
    {
     "name": "stdout",
     "output_type": "stream",
     "text": [
      "8/8 [==============================] - 1s 115ms/step - loss: 1.9433 - accuracy: 0.2347 - val_loss: 1.4539 - val_accuracy: 0.4409\n",
      "5/5 [==============================] - 0s 38ms/step - loss: 1.3298 - accuracy: 0.5016\n"
     ]
    },
    {
     "name": "stderr",
     "output_type": "stream",
     "text": [
      "WARNING:absl:At this time, the v2.11+ optimizer `tf.keras.optimizers.Adam` runs slowly on M1/M2 Macs, please use the legacy Keras optimizer instead, located at `tf.keras.optimizers.legacy.Adam`.\n",
      "WARNING:absl:There is a known slowdown when using v2.11+ Keras optimizers on M1/M2 Macs. Falling back to the legacy Keras optimizer, i.e., `tf.keras.optimizers.legacy.Adam`.\n"
     ]
    },
    {
     "name": "stdout",
     "output_type": "stream",
     "text": [
      "4/4 [==============================] - 1s 178ms/step - loss: 1.9044 - accuracy: 0.3590 - val_loss: 1.2703 - val_accuracy: 0.5591\n",
      "3/3 [==============================] - 0s 40ms/step - loss: 1.2811 - accuracy: 0.5394\n"
     ]
    },
    {
     "name": "stderr",
     "output_type": "stream",
     "text": [
      "WARNING:absl:At this time, the v2.11+ optimizer `tf.keras.optimizers.Adam` runs slowly on M1/M2 Macs, please use the legacy Keras optimizer instead, located at `tf.keras.optimizers.legacy.Adam`.\n",
      "WARNING:absl:There is a known slowdown when using v2.11+ Keras optimizers on M1/M2 Macs. Falling back to the legacy Keras optimizer, i.e., `tf.keras.optimizers.legacy.Adam`.\n"
     ]
    },
    {
     "name": "stdout",
     "output_type": "stream",
     "text": [
      "4/4 [==============================] - 1s 186ms/step - loss: 1.6139 - accuracy: 0.4556 - val_loss: 1.1617 - val_accuracy: 0.5906\n",
      "3/3 [==============================] - 0s 50ms/step - loss: 1.2592 - accuracy: 0.5426\n"
     ]
    },
    {
     "name": "stderr",
     "output_type": "stream",
     "text": [
      "WARNING:absl:At this time, the v2.11+ optimizer `tf.keras.optimizers.Adam` runs slowly on M1/M2 Macs, please use the legacy Keras optimizer instead, located at `tf.keras.optimizers.legacy.Adam`.\n",
      "WARNING:absl:There is a known slowdown when using v2.11+ Keras optimizers on M1/M2 Macs. Falling back to the legacy Keras optimizer, i.e., `tf.keras.optimizers.legacy.Adam`.\n"
     ]
    },
    {
     "name": "stdout",
     "output_type": "stream",
     "text": [
      "4/4 [==============================] - 1s 176ms/step - loss: 1.5752 - accuracy: 0.4398 - val_loss: 1.2096 - val_accuracy: 0.4409\n",
      "3/3 [==============================] - 0s 56ms/step - loss: 1.2026 - accuracy: 0.5079\n"
     ]
    },
    {
     "name": "stderr",
     "output_type": "stream",
     "text": [
      "WARNING:absl:At this time, the v2.11+ optimizer `tf.keras.optimizers.Adam` runs slowly on M1/M2 Macs, please use the legacy Keras optimizer instead, located at `tf.keras.optimizers.legacy.Adam`.\n",
      "WARNING:absl:There is a known slowdown when using v2.11+ Keras optimizers on M1/M2 Macs. Falling back to the legacy Keras optimizer, i.e., `tf.keras.optimizers.legacy.Adam`.\n"
     ]
    },
    {
     "name": "stdout",
     "output_type": "stream",
     "text": [
      "4/4 [==============================] - 1s 182ms/step - loss: 47.4821 - accuracy: 0.3491 - val_loss: 1.5561 - val_accuracy: 0.3780\n",
      "3/3 [==============================] - 0s 48ms/step - loss: 1.4872 - accuracy: 0.3407\n"
     ]
    },
    {
     "name": "stderr",
     "output_type": "stream",
     "text": [
      "WARNING:absl:At this time, the v2.11+ optimizer `tf.keras.optimizers.Adam` runs slowly on M1/M2 Macs, please use the legacy Keras optimizer instead, located at `tf.keras.optimizers.legacy.Adam`.\n",
      "WARNING:absl:There is a known slowdown when using v2.11+ Keras optimizers on M1/M2 Macs. Falling back to the legacy Keras optimizer, i.e., `tf.keras.optimizers.legacy.Adam`.\n"
     ]
    },
    {
     "name": "stdout",
     "output_type": "stream",
     "text": [
      "4/4 [==============================] - 1s 179ms/step - loss: 29.0910 - accuracy: 0.3471 - val_loss: 1.2949 - val_accuracy: 0.3622\n",
      "3/3 [==============================] - 0s 52ms/step - loss: 1.3503 - accuracy: 0.4353\n"
     ]
    },
    {
     "name": "stderr",
     "output_type": "stream",
     "text": [
      "WARNING:absl:At this time, the v2.11+ optimizer `tf.keras.optimizers.Adam` runs slowly on M1/M2 Macs, please use the legacy Keras optimizer instead, located at `tf.keras.optimizers.legacy.Adam`.\n",
      "WARNING:absl:There is a known slowdown when using v2.11+ Keras optimizers on M1/M2 Macs. Falling back to the legacy Keras optimizer, i.e., `tf.keras.optimizers.legacy.Adam`.\n"
     ]
    },
    {
     "name": "stdout",
     "output_type": "stream",
     "text": [
      "4/4 [==============================] - 1s 163ms/step - loss: 54.9840 - accuracy: 0.3215 - val_loss: 1.4982 - val_accuracy: 0.4016\n",
      "3/3 [==============================] - 0s 48ms/step - loss: 1.4792 - accuracy: 0.3975\n"
     ]
    },
    {
     "name": "stderr",
     "output_type": "stream",
     "text": [
      "WARNING:absl:At this time, the v2.11+ optimizer `tf.keras.optimizers.Adam` runs slowly on M1/M2 Macs, please use the legacy Keras optimizer instead, located at `tf.keras.optimizers.legacy.Adam`.\n",
      "WARNING:absl:There is a known slowdown when using v2.11+ Keras optimizers on M1/M2 Macs. Falling back to the legacy Keras optimizer, i.e., `tf.keras.optimizers.legacy.Adam`.\n"
     ]
    },
    {
     "name": "stdout",
     "output_type": "stream",
     "text": [
      "4/4 [==============================] - 1s 164ms/step - loss: 1.8561 - accuracy: 0.3866 - val_loss: 1.2637 - val_accuracy: 0.4173\n",
      "3/3 [==============================] - 0s 44ms/step - loss: 1.3365 - accuracy: 0.3943\n"
     ]
    },
    {
     "name": "stderr",
     "output_type": "stream",
     "text": [
      "WARNING:absl:At this time, the v2.11+ optimizer `tf.keras.optimizers.Adam` runs slowly on M1/M2 Macs, please use the legacy Keras optimizer instead, located at `tf.keras.optimizers.legacy.Adam`.\n",
      "WARNING:absl:There is a known slowdown when using v2.11+ Keras optimizers on M1/M2 Macs. Falling back to the legacy Keras optimizer, i.e., `tf.keras.optimizers.legacy.Adam`.\n"
     ]
    },
    {
     "name": "stdout",
     "output_type": "stream",
     "text": [
      "4/4 [==============================] - 1s 159ms/step - loss: 1.8079 - accuracy: 0.2821 - val_loss: 1.5516 - val_accuracy: 0.5512\n",
      "3/3 [==============================] - 0s 51ms/step - loss: 1.4640 - accuracy: 0.4953\n"
     ]
    },
    {
     "name": "stderr",
     "output_type": "stream",
     "text": [
      "WARNING:absl:At this time, the v2.11+ optimizer `tf.keras.optimizers.Adam` runs slowly on M1/M2 Macs, please use the legacy Keras optimizer instead, located at `tf.keras.optimizers.legacy.Adam`.\n",
      "WARNING:absl:There is a known slowdown when using v2.11+ Keras optimizers on M1/M2 Macs. Falling back to the legacy Keras optimizer, i.e., `tf.keras.optimizers.legacy.Adam`.\n"
     ]
    },
    {
     "name": "stdout",
     "output_type": "stream",
     "text": [
      "4/4 [==============================] - 1s 177ms/step - loss: 1.9127 - accuracy: 0.3353 - val_loss: 1.5161 - val_accuracy: 0.4488\n",
      "3/3 [==============================] - 0s 51ms/step - loss: 1.4097 - accuracy: 0.4890\n"
     ]
    },
    {
     "name": "stderr",
     "output_type": "stream",
     "text": [
      "WARNING:absl:At this time, the v2.11+ optimizer `tf.keras.optimizers.Adam` runs slowly on M1/M2 Macs, please use the legacy Keras optimizer instead, located at `tf.keras.optimizers.legacy.Adam`.\n",
      "WARNING:absl:There is a known slowdown when using v2.11+ Keras optimizers on M1/M2 Macs. Falling back to the legacy Keras optimizer, i.e., `tf.keras.optimizers.legacy.Adam`.\n"
     ]
    },
    {
     "name": "stdout",
     "output_type": "stream",
     "text": [
      "24/24 [==============================] - 2s 49ms/step - loss: 1.5959 - accuracy: 0.4066 - val_loss: 1.1261 - val_accuracy: 0.5654\n"
     ]
    }
   ],
   "source": [
    "random_result = random.fit(X_train_scaled, y_train_cat,validation_split=0.2,verbose=1) "
   ]
  },
  {
   "cell_type": "code",
   "execution_count": 227,
   "id": "79df928b",
   "metadata": {},
   "outputs": [
    {
     "name": "stdout",
     "output_type": "stream",
     "text": [
      "Best: 0.552050 using {'lr': 0.001, 'batch_size': 32}\n"
     ]
    }
   ],
   "source": [
    "# Summarize results\n",
    "print(\"Best: %f using %s\" % (random_result.best_score_, random_result.best_params_))\n",
    "means = random_result.cv_results_['mean_test_score']\n",
    "stds = random_result.cv_results_['std_test_score']\n",
    "params = random_result.cv_results_['params']"
   ]
  },
  {
   "cell_type": "code",
   "execution_count": 228,
   "id": "0b8d012a",
   "metadata": {},
   "outputs": [
    {
     "name": "stderr",
     "output_type": "stream",
     "text": [
      "WARNING:absl:At this time, the v2.11+ optimizer `tf.keras.optimizers.Adam` runs slowly on M1/M2 Macs, please use the legacy Keras optimizer instead, located at `tf.keras.optimizers.legacy.Adam`.\n",
      "WARNING:absl:There is a known slowdown when using v2.11+ Keras optimizers on M1/M2 Macs. Falling back to the legacy Keras optimizer, i.e., `tf.keras.optimizers.legacy.Adam`.\n"
     ]
    },
    {
     "name": "stdout",
     "output_type": "stream",
     "text": [
      "Model: \"sequential_28\"\n",
      "_________________________________________________________________\n",
      " Layer (type)                Output Shape              Param #   \n",
      "=================================================================\n",
      " dense_140 (Dense)           (None, 256)               3072      \n",
      "                                                                 \n",
      " dropout_84 (Dropout)        (None, 256)               0         \n",
      "                                                                 \n",
      " dense_141 (Dense)           (None, 128)               32896     \n",
      "                                                                 \n",
      " dropout_85 (Dropout)        (None, 128)               0         \n",
      "                                                                 \n",
      " dense_142 (Dense)           (None, 64)                8256      \n",
      "                                                                 \n",
      " dropout_86 (Dropout)        (None, 64)                0         \n",
      "                                                                 \n",
      " dense_143 (Dense)           (None, 32)                2080      \n",
      "                                                                 \n",
      " dense_144 (Dense)           (None, 6)                 198       \n",
      "                                                                 \n",
      "=================================================================\n",
      "Total params: 46,502\n",
      "Trainable params: 46,502\n",
      "Non-trainable params: 0\n",
      "_________________________________________________________________\n"
     ]
    }
   ],
   "source": [
    "estimator_v3=create_model_v3(batch_size=random_result.best_params_['batch_size'],lr=random_result.best_params_['lr'])\n",
    "\n",
    "estimator_v3.summary()"
   ]
  },
  {
   "cell_type": "code",
   "execution_count": 229,
   "id": "7e0d4f9b",
   "metadata": {},
   "outputs": [
    {
     "name": "stderr",
     "output_type": "stream",
     "text": [
      "WARNING:absl:At this time, the v2.11+ optimizer `tf.keras.optimizers.Adam` runs slowly on M1/M2 Macs, please use the legacy Keras optimizer instead, located at `tf.keras.optimizers.legacy.Adam`.\n",
      "WARNING:absl:There is a known slowdown when using v2.11+ Keras optimizers on M1/M2 Macs. Falling back to the legacy Keras optimizer, i.e., `tf.keras.optimizers.legacy.Adam`.\n"
     ]
    },
    {
     "name": "stdout",
     "output_type": "stream",
     "text": [
      "Epoch 1/50\n",
      "12/12 [==============================] - 2s 82ms/step - loss: 1.4405 - accuracy: 0.4658 - val_loss: 1.1042 - val_accuracy: 0.5654\n",
      "Epoch 2/50\n",
      "12/12 [==============================] - 0s 36ms/step - loss: 1.1953 - accuracy: 0.5342 - val_loss: 1.0648 - val_accuracy: 0.5759\n",
      "Epoch 3/50\n",
      "12/12 [==============================] - 0s 22ms/step - loss: 1.0593 - accuracy: 0.5816 - val_loss: 1.0390 - val_accuracy: 0.5864\n",
      "Epoch 4/50\n",
      "12/12 [==============================] - 0s 21ms/step - loss: 1.0289 - accuracy: 0.5882 - val_loss: 1.0474 - val_accuracy: 0.5812\n",
      "Epoch 5/50\n",
      "12/12 [==============================] - 0s 18ms/step - loss: 0.9682 - accuracy: 0.6053 - val_loss: 1.0246 - val_accuracy: 0.5654\n",
      "Epoch 6/50\n",
      "12/12 [==============================] - 0s 19ms/step - loss: 0.9730 - accuracy: 0.5934 - val_loss: 1.0290 - val_accuracy: 0.5707\n",
      "Epoch 7/50\n",
      "12/12 [==============================] - 0s 22ms/step - loss: 0.9544 - accuracy: 0.6092 - val_loss: 1.0194 - val_accuracy: 0.5550\n",
      "Epoch 8/50\n",
      "12/12 [==============================] - 0s 18ms/step - loss: 0.9192 - accuracy: 0.6263 - val_loss: 1.0145 - val_accuracy: 0.5654\n",
      "Epoch 9/50\n",
      "12/12 [==============================] - 0s 20ms/step - loss: 0.9143 - accuracy: 0.6263 - val_loss: 1.0118 - val_accuracy: 0.5916\n",
      "Epoch 10/50\n",
      "12/12 [==============================] - 0s 17ms/step - loss: 0.8988 - accuracy: 0.6263 - val_loss: 0.9973 - val_accuracy: 0.5812\n",
      "Epoch 11/50\n",
      "12/12 [==============================] - 0s 17ms/step - loss: 0.8824 - accuracy: 0.6184 - val_loss: 0.9831 - val_accuracy: 0.5602\n",
      "Epoch 12/50\n",
      "12/12 [==============================] - 0s 16ms/step - loss: 0.8434 - accuracy: 0.6395 - val_loss: 0.9642 - val_accuracy: 0.5602\n",
      "Epoch 13/50\n",
      "12/12 [==============================] - 0s 17ms/step - loss: 0.8516 - accuracy: 0.6329 - val_loss: 0.9878 - val_accuracy: 0.5707\n",
      "Epoch 14/50\n",
      "12/12 [==============================] - 0s 16ms/step - loss: 0.8197 - accuracy: 0.6526 - val_loss: 1.0045 - val_accuracy: 0.5393\n",
      "Epoch 15/50\n",
      "12/12 [==============================] - 0s 16ms/step - loss: 0.8089 - accuracy: 0.6645 - val_loss: 1.0042 - val_accuracy: 0.5393\n",
      "Epoch 16/50\n",
      "12/12 [==============================] - 0s 16ms/step - loss: 0.8242 - accuracy: 0.6671 - val_loss: 1.0137 - val_accuracy: 0.5602\n",
      "Epoch 17/50\n",
      "12/12 [==============================] - 0s 16ms/step - loss: 0.8017 - accuracy: 0.6737 - val_loss: 1.0149 - val_accuracy: 0.5707\n",
      "Epoch 18/50\n",
      "12/12 [==============================] - 0s 16ms/step - loss: 0.7887 - accuracy: 0.6829 - val_loss: 0.9913 - val_accuracy: 0.5445\n",
      "Epoch 19/50\n",
      "12/12 [==============================] - 0s 16ms/step - loss: 0.7674 - accuracy: 0.6816 - val_loss: 0.9873 - val_accuracy: 0.5497\n",
      "Epoch 20/50\n",
      "12/12 [==============================] - 0s 16ms/step - loss: 0.7760 - accuracy: 0.6895 - val_loss: 1.0132 - val_accuracy: 0.5550\n",
      "Epoch 21/50\n",
      "12/12 [==============================] - 0s 16ms/step - loss: 0.7628 - accuracy: 0.6947 - val_loss: 0.9991 - val_accuracy: 0.5550\n",
      "Epoch 22/50\n",
      "12/12 [==============================] - 0s 16ms/step - loss: 0.7535 - accuracy: 0.6776 - val_loss: 0.9943 - val_accuracy: 0.5812\n",
      "Epoch 23/50\n",
      "12/12 [==============================] - 0s 16ms/step - loss: 0.7158 - accuracy: 0.7000 - val_loss: 1.0103 - val_accuracy: 0.5497\n",
      "Epoch 24/50\n",
      "12/12 [==============================] - 0s 18ms/step - loss: 0.7060 - accuracy: 0.6803 - val_loss: 1.0619 - val_accuracy: 0.5602\n",
      "Epoch 25/50\n",
      "12/12 [==============================] - 0s 17ms/step - loss: 0.7076 - accuracy: 0.7053 - val_loss: 1.0459 - val_accuracy: 0.5393\n",
      "Epoch 26/50\n",
      "12/12 [==============================] - 0s 16ms/step - loss: 0.6832 - accuracy: 0.7118 - val_loss: 1.0646 - val_accuracy: 0.5497\n",
      "Epoch 27/50\n",
      "12/12 [==============================] - 0s 16ms/step - loss: 0.6669 - accuracy: 0.7053 - val_loss: 1.0688 - val_accuracy: 0.5707\n",
      "Epoch 28/50\n",
      "12/12 [==============================] - 0s 19ms/step - loss: 0.6625 - accuracy: 0.7224 - val_loss: 1.0592 - val_accuracy: 0.5602\n",
      "Epoch 29/50\n",
      "12/12 [==============================] - 0s 16ms/step - loss: 0.6517 - accuracy: 0.7276 - val_loss: 1.0524 - val_accuracy: 0.5707\n",
      "Epoch 30/50\n",
      "12/12 [==============================] - 0s 16ms/step - loss: 0.6432 - accuracy: 0.7368 - val_loss: 1.0784 - val_accuracy: 0.5445\n",
      "Epoch 31/50\n",
      "12/12 [==============================] - 0s 16ms/step - loss: 0.6164 - accuracy: 0.7461 - val_loss: 1.0907 - val_accuracy: 0.5654\n",
      "Epoch 32/50\n",
      "12/12 [==============================] - 0s 16ms/step - loss: 0.6412 - accuracy: 0.7382 - val_loss: 1.1197 - val_accuracy: 0.5445\n",
      "Epoch 33/50\n",
      "12/12 [==============================] - 0s 16ms/step - loss: 0.6419 - accuracy: 0.7250 - val_loss: 1.0974 - val_accuracy: 0.5445\n",
      "Epoch 34/50\n",
      "12/12 [==============================] - 0s 16ms/step - loss: 0.6147 - accuracy: 0.7355 - val_loss: 1.1168 - val_accuracy: 0.5707\n",
      "Epoch 35/50\n",
      "12/12 [==============================] - 0s 16ms/step - loss: 0.5996 - accuracy: 0.7368 - val_loss: 1.0959 - val_accuracy: 0.5707\n",
      "Epoch 36/50\n",
      "12/12 [==============================] - 0s 16ms/step - loss: 0.5818 - accuracy: 0.7592 - val_loss: 1.1076 - val_accuracy: 0.5602\n",
      "Epoch 37/50\n",
      "12/12 [==============================] - 0s 16ms/step - loss: 0.5746 - accuracy: 0.7553 - val_loss: 1.1484 - val_accuracy: 0.5340\n",
      "Epoch 38/50\n",
      "12/12 [==============================] - 0s 16ms/step - loss: 0.5644 - accuracy: 0.7645 - val_loss: 1.1532 - val_accuracy: 0.5288\n",
      "Epoch 39/50\n",
      "12/12 [==============================] - 0s 16ms/step - loss: 0.5646 - accuracy: 0.7539 - val_loss: 1.1766 - val_accuracy: 0.5445\n",
      "Epoch 40/50\n",
      "12/12 [==============================] - 0s 16ms/step - loss: 0.5635 - accuracy: 0.7605 - val_loss: 1.1496 - val_accuracy: 0.5654\n",
      "Epoch 41/50\n",
      "12/12 [==============================] - 0s 17ms/step - loss: 0.5494 - accuracy: 0.7697 - val_loss: 1.1895 - val_accuracy: 0.5759\n",
      "Epoch 42/50\n",
      "12/12 [==============================] - 0s 17ms/step - loss: 0.5750 - accuracy: 0.7487 - val_loss: 1.1921 - val_accuracy: 0.5759\n",
      "Epoch 43/50\n",
      "12/12 [==============================] - 0s 17ms/step - loss: 0.5188 - accuracy: 0.7921 - val_loss: 1.2155 - val_accuracy: 0.5288\n",
      "Epoch 44/50\n",
      "12/12 [==============================] - 0s 17ms/step - loss: 0.5008 - accuracy: 0.7974 - val_loss: 1.2093 - val_accuracy: 0.5393\n",
      "Epoch 45/50\n",
      "12/12 [==============================] - 0s 16ms/step - loss: 0.5118 - accuracy: 0.8039 - val_loss: 1.2388 - val_accuracy: 0.5497\n",
      "Epoch 46/50\n",
      "12/12 [==============================] - 0s 16ms/step - loss: 0.4981 - accuracy: 0.8013 - val_loss: 1.2325 - val_accuracy: 0.5445\n",
      "Epoch 47/50\n",
      "12/12 [==============================] - 0s 17ms/step - loss: 0.5083 - accuracy: 0.7934 - val_loss: 1.2496 - val_accuracy: 0.5654\n",
      "Epoch 48/50\n",
      "12/12 [==============================] - 0s 16ms/step - loss: 0.5351 - accuracy: 0.7579 - val_loss: 1.2564 - val_accuracy: 0.5131\n",
      "Epoch 49/50\n",
      "12/12 [==============================] - 0s 16ms/step - loss: 0.5004 - accuracy: 0.7921 - val_loss: 1.2252 - val_accuracy: 0.5288\n",
      "Epoch 50/50\n",
      "12/12 [==============================] - 0s 17ms/step - loss: 0.4841 - accuracy: 0.7895 - val_loss: 1.3158 - val_accuracy: 0.5079\n"
     ]
    }
   ],
   "source": [
    "optimizer = tf.keras.optimizers.Adam(random_result.best_params_['lr'])\n",
    "estimator_v3.compile(loss='categorical_crossentropy',optimizer=optimizer,metrics=['accuracy'])\n",
    "history_3=estimator_v3.fit(X_train_scaled, y_train_cat, epochs=50, batch_size = 64, verbose=1,validation_split=0.2)\n"
   ]
  },
  {
   "cell_type": "markdown",
   "id": "f998c9ba",
   "metadata": {},
   "source": [
    "### E. Plot visuals as in Q3.C and share insights about difference observed in both the models"
   ]
  },
  {
   "cell_type": "markdown",
   "id": "2825af5e",
   "metadata": {},
   "source": [
    "- Hence observed, model 2 was better than model 3. Plotting model 2 visuals"
   ]
  },
  {
   "cell_type": "code",
   "execution_count": 230,
   "id": "d7aa5a29",
   "metadata": {},
   "outputs": [
    {
     "data": {
      "image/png": "[encoded data removed]",
      "text/plain": [
       "<Figure size 640x480 with 1 Axes>"
      ]
     },
     "metadata": {},
     "output_type": "display_data"
    }
   ],
   "source": [
    "#Plotting Train Loss vs Validation Loss\n",
    "plt.plot(history_2.history['loss'])\n",
    "plt.plot(history_2.history['val_loss'])\n",
    "plt.title('model loss')\n",
    "plt.ylabel('Loss')\n",
    "plt.xlabel('Epoch')\n",
    "plt.legend(['train', 'validation'], loc='upper left')\n",
    "plt.show()"
   ]
  },
  {
   "cell_type": "code",
   "execution_count": 231,
   "id": "042fa0bf",
   "metadata": {},
   "outputs": [
    {
     "data": {
      "image/png": "[encoded data removed]",
      "text/plain": [
       "<Figure size 640x480 with 1 Axes>"
      ]
     },
     "metadata": {},
     "output_type": "display_data"
    }
   ],
   "source": [
    "#Plotting Train accuracy vs Validation accuracy\n",
    "plt.plot(history_2.history['accuracy'])\n",
    "plt.plot(history_2.history['val_accuracy'])\n",
    "plt.title('model accuracy')\n",
    "plt.ylabel('accuracy')\n",
    "plt.xlabel('Epoch')\n",
    "plt.legend(['train', 'validation'], loc='upper left')\n",
    "plt.show()"
   ]
  },
  {
   "cell_type": "markdown",
   "id": "4e91eaa0",
   "metadata": {},
   "source": [
    "#### Insights\n",
    "\n",
    "1. Model 1 was a base model, while model 2 was an improved model with validation accuracy 0.5864 increased.\n",
    "2. Validation loss for Model 2 is better than validation loss for model 1.\n",
    "3. We still see validation loss > Training loss, which means there is still overfitting happening in the data. Further to improve the accuracy and loss, we can try using SMOTE to balance the categorical data"
   ]
  },
  {
   "cell_type": "markdown",
   "id": "47b3ff08",
   "metadata": {},
   "source": [
    "# PART B"
   ]
  },
  {
   "cell_type": "markdown",
   "id": "95ae2635",
   "metadata": {},
   "source": [
    "## Q1.  Data Import and Exploration"
   ]
  },
  {
   "cell_type": "markdown",
   "id": "1db10272",
   "metadata": {},
   "source": [
    "### A. Read the .h5 file and assign to a variable"
   ]
  },
  {
   "cell_type": "code",
   "execution_count": 232,
   "id": "587ff8ea",
   "metadata": {},
   "outputs": [
    {
     "data": {
      "text/plain": [
       "['.DS_Store',\n",
       " 'NN+-+Problem+-+Statement.pdf',\n",
       " 'Autonomous_Vehicles_SVHN_single_grey1.h5',\n",
       " 'NN-+Milestones.pdf',\n",
       " 'Part-+1%2C2%263+-+Signal.csv']"
      ]
     },
     "execution_count": 232,
     "metadata": {},
     "output_type": "execute_result"
    }
   ],
   "source": [
    "PATH_2 =  \"/Users/kashmkj/Documents/Learning Resources/GreatLearning/Intro to DL:NN/Projects\"\n",
    "\n",
    "# Checking filename\n",
    "os.listdir(PATH_2)"
   ]
  },
  {
   "cell_type": "code",
   "execution_count": 235,
   "id": "18904167",
   "metadata": {},
   "outputs": [],
   "source": [
    "hf = h5py.File(PATH_2 + '/Autonomous_Vehicles_SVHN_single_grey1.h5', 'r')"
   ]
  },
  {
   "cell_type": "markdown",
   "id": "533cf6e1",
   "metadata": {},
   "source": [
    "### B. Print all the keys from the .h5 file"
   ]
  },
  {
   "cell_type": "code",
   "execution_count": 240,
   "id": "34964fd8",
   "metadata": {},
   "outputs": [
    {
     "data": {
      "text/plain": [
       "['X_test', 'X_train', 'X_val', 'y_test', 'y_train', 'y_val']"
      ]
     },
     "execution_count": 240,
     "metadata": {},
     "output_type": "execute_result"
    }
   ],
   "source": [
    "list(hf.keys())"
   ]
  },
  {
   "cell_type": "markdown",
   "id": "f542e88f",
   "metadata": {},
   "source": [
    "### C. Split the data into X_train, X_test, Y_train, Y_test"
   ]
  },
  {
   "cell_type": "code",
   "execution_count": 247,
   "id": "6f40214e",
   "metadata": {},
   "outputs": [],
   "source": [
    "X_train = hf['X_train'][:]\n",
    "X_test = hf['X_test'][:]\n",
    "Y_train = hf['y_train'][:]\n",
    "Y_test = hf['y_test'][:]"
   ]
  },
  {
   "cell_type": "markdown",
   "id": "26e04e2b",
   "metadata": {},
   "source": [
    "## Q2.  Data Visualisation and preprocessing"
   ]
  },
  {
   "cell_type": "markdown",
   "id": "c2a4cdce",
   "metadata": {},
   "source": [
    "### A. Print shape of all the 4 data split into x, y, train, test to verify if x & y is in sync"
   ]
  },
  {
   "cell_type": "code",
   "execution_count": 267,
   "id": "eb1ae741",
   "metadata": {},
   "outputs": [
    {
     "data": {
      "text/plain": [
       "((42000, 32, 32), (18000, 32, 32))"
      ]
     },
     "execution_count": 267,
     "metadata": {},
     "output_type": "execute_result"
    }
   ],
   "source": [
    "X_train.shape, X_test.shape"
   ]
  },
  {
   "cell_type": "code",
   "execution_count": 268,
   "id": "949a6b28",
   "metadata": {},
   "outputs": [
    {
     "data": {
      "text/plain": [
       "((42000,), (18000,))"
      ]
     },
     "execution_count": 268,
     "metadata": {},
     "output_type": "execute_result"
    }
   ],
   "source": [
    "Y_train.shape, Y_test.shape"
   ]
  },
  {
   "cell_type": "code",
   "execution_count": 255,
   "id": "1dc33ae5",
   "metadata": {},
   "outputs": [],
   "source": [
    "X = np.concatenate((X_train,X_test), axis=0)\n",
    "\n",
    "Y = np.concatenate((Y_train, Y_test), axis=0)"
   ]
  },
  {
   "cell_type": "code",
   "execution_count": 257,
   "id": "f0788177",
   "metadata": {},
   "outputs": [
    {
     "data": {
      "text/plain": [
       "((60000, 32, 32), (60000,))"
      ]
     },
     "execution_count": 257,
     "metadata": {},
     "output_type": "execute_result"
    }
   ],
   "source": [
    "X.shape, Y.shape"
   ]
  },
  {
   "cell_type": "code",
   "execution_count": 260,
   "id": "2c330e88",
   "metadata": {},
   "outputs": [
    {
     "name": "stdout",
     "output_type": "stream",
     "text": [
      "X & Y are in sync\n"
     ]
    }
   ],
   "source": [
    "if X.shape[0]==Y.shape[0]:\n",
    "    print(\"X & Y are in sync\")\n",
    "else:\n",
    "    print(\"X & Y are not in sync\")"
   ]
  },
  {
   "cell_type": "markdown",
   "id": "7689d43d",
   "metadata": {},
   "source": [
    "### B. Visualise first 10 images in train data and print its corresponding labels"
   ]
  },
  {
   "cell_type": "code",
   "execution_count": 265,
   "id": "07785ec4",
   "metadata": {},
   "outputs": [
    {
     "data": {
      "image/png": "[encoded data removed]",
      "text/plain": [
       "<Figure size 1000x100 with 10 Axes>"
      ]
     },
     "metadata": {},
     "output_type": "display_data"
    },
    {
     "name": "stdout",
     "output_type": "stream",
     "text": [
      "label for each of the above image: [2 6 7 4 4 0 3 0 7 3]\n"
     ]
    }
   ],
   "source": [
    "# visualizing the first 10 images in the dataset and their labels\n",
    "%matplotlib inline\n",
    "import matplotlib.pyplot as plt\n",
    "plt.figure(figsize=(10, 1))\n",
    "for i in range(10):\n",
    "    plt.subplot(1, 10, i+1)\n",
    "    plt.imshow(X_train[i], cmap=\"gray\")\n",
    "    plt.axis('off')\n",
    "plt.show()\n",
    "print('label for each of the above image: %s' % (Y_train[0:10]))"
   ]
  },
  {
   "cell_type": "markdown",
   "id": "233fbfe8",
   "metadata": {},
   "source": [
    "### C. Reshape all the images with appropriate shape update the data in same variable"
   ]
  },
  {
   "cell_type": "code",
   "execution_count": 274,
   "id": "683f6a9b",
   "metadata": {},
   "outputs": [],
   "source": [
    "# (n, 32, 32) => (n, 1024)\n",
    "image_vector_size = 32*32\n",
    "X_train = X_train.reshape(X_train.shape[0], image_vector_size)\n",
    "X_test = X_test.reshape(X_test.shape[0], image_vector_size)"
   ]
  },
  {
   "cell_type": "markdown",
   "id": "b48a7632",
   "metadata": {},
   "source": [
    "### D. Normalise the images i.e. Normalise the pixel values"
   ]
  },
  {
   "cell_type": "code",
   "execution_count": 280,
   "id": "59b8bda6",
   "metadata": {},
   "outputs": [
    {
     "name": "stdout",
     "output_type": "stream",
     "text": [
      "Training set (42000, 1024) (42000,)\n",
      "Test set (18000, 1024) (18000,)\n"
     ]
    }
   ],
   "source": [
    "# # normalize inputs from 0-255 to 0-1\n",
    "X_train = X_train / 255.0\n",
    "X_test = X_test / 255.0\n",
    "\n",
    "print('Training set', X_train.shape, Y_train.shape)\n",
    "print('Test set', X_test.shape, Y_test.shape)"
   ]
  },
  {
   "cell_type": "markdown",
   "id": "7b5a7cf2",
   "metadata": {},
   "source": [
    "### E. Transform Labels into format acceptable by Neural Network"
   ]
  },
  {
   "cell_type": "code",
   "execution_count": 290,
   "id": "da8d9cb7",
   "metadata": {},
   "outputs": [
    {
     "data": {
      "text/plain": [
       "array([0, 1, 2, 3, 4, 5, 6, 7, 8, 9], dtype=uint8)"
      ]
     },
     "execution_count": 290,
     "metadata": {},
     "output_type": "execute_result"
    }
   ],
   "source": [
    "np.unique(Y_train)"
   ]
  },
  {
   "cell_type": "code",
   "execution_count": 291,
   "id": "935d4a73",
   "metadata": {},
   "outputs": [],
   "source": [
    "# Convert to \"one-hot\" vectors using the to_categorical function\n",
    "num_classes = 10\n",
    "Y_train = to_categorical(Y_train, num_classes)\n",
    "Y_test_cat=to_categorical(Y_test,num_classes)"
   ]
  },
  {
   "cell_type": "code",
   "execution_count": 293,
   "id": "c6c510ae",
   "metadata": {},
   "outputs": [
    {
     "name": "stdout",
     "output_type": "stream",
     "text": [
      "First 10 training lables as one-hot encoded vectors:\n",
      " [[0. 0. 1. 0. 0. 0. 0. 0. 0. 0.]\n",
      " [0. 0. 0. 0. 0. 0. 1. 0. 0. 0.]\n",
      " [0. 0. 0. 0. 0. 0. 0. 1. 0. 0.]\n",
      " [0. 0. 0. 0. 1. 0. 0. 0. 0. 0.]\n",
      " [0. 0. 0. 0. 1. 0. 0. 0. 0. 0.]\n",
      " [1. 0. 0. 0. 0. 0. 0. 0. 0. 0.]\n",
      " [0. 0. 0. 1. 0. 0. 0. 0. 0. 0.]\n",
      " [1. 0. 0. 0. 0. 0. 0. 0. 0. 0.]\n",
      " [0. 0. 0. 0. 0. 0. 0. 1. 0. 0.]\n",
      " [0. 0. 0. 1. 0. 0. 0. 0. 0. 0.]]\n"
     ]
    }
   ],
   "source": [
    "print(\"First 10 training lables as one-hot encoded vectors:\\n\", Y_train[:10])"
   ]
  },
  {
   "cell_type": "markdown",
   "id": "f5664141",
   "metadata": {},
   "source": [
    "### F. Print total Number of classes in the Dataset"
   ]
  },
  {
   "cell_type": "code",
   "execution_count": 298,
   "id": "ebd68c98",
   "metadata": {},
   "outputs": [
    {
     "data": {
      "text/plain": [
       "array([0, 1, 2, 3, 4, 5, 6, 7, 8, 9], dtype=uint8)"
      ]
     },
     "execution_count": 298,
     "metadata": {},
     "output_type": "execute_result"
    }
   ],
   "source": [
    "np.unique(Y_test)"
   ]
  },
  {
   "cell_type": "markdown",
   "id": "93bef168",
   "metadata": {},
   "source": [
    "- Hence, there are 10 labels/classes in the dataset"
   ]
  },
  {
   "cell_type": "markdown",
   "id": "e2199fcd",
   "metadata": {},
   "source": [
    "## Q3. Model Training & Evaluation using Neural Network"
   ]
  },
  {
   "cell_type": "markdown",
   "id": "7878f592",
   "metadata": {},
   "source": [
    "### A. Design a Neural Network to train a classifier\n",
    "### B. Train the classifier using previously designed Architecture\n",
    "\n",
    "I have developed 3 models, and used the final model with the most optimised and highest accuracy to plots visualisation and observations"
   ]
  },
  {
   "cell_type": "markdown",
   "id": "f2fe8b09",
   "metadata": {},
   "source": [
    "#### Model - 1"
   ]
  },
  {
   "cell_type": "code",
   "execution_count": 303,
   "id": "5e87e49b",
   "metadata": {},
   "outputs": [],
   "source": [
    "backend.clear_session()\n",
    "np.random.seed(42)\n",
    "random.seed(42)\n",
    "tf.random.set_seed(42)"
   ]
  },
  {
   "cell_type": "code",
   "execution_count": 304,
   "id": "bdc99923",
   "metadata": {},
   "outputs": [],
   "source": [
    "image_size=32*32\n",
    "\n",
    "model = Sequential()\n",
    "model.add(Dense(256, activation='relu',kernel_initializer='he_uniform',input_shape=(image_size,))) ###Multiple Dense units with Relu activation\n",
    "model.add(Dense(64, activation='relu',kernel_initializer='he_uniform'))\n",
    "model.add(Dense(64, activation='relu',kernel_initializer='he_uniform'))\n",
    "model.add(Dense(32, activation='relu',kernel_initializer='he_uniform'))\n",
    "\n",
    "model.add(Dense(num_classes, activation='softmax')) ### For multiclass classification Softmax is used \n"
   ]
  },
  {
   "cell_type": "code",
   "execution_count": 305,
   "id": "4e3a2816",
   "metadata": {
    "collapsed": true
   },
   "outputs": [
    {
     "name": "stderr",
     "output_type": "stream",
     "text": [
      "WARNING:absl:At this time, the v2.11+ optimizer `tf.keras.optimizers.Adam` runs slowly on M1/M2 Macs, please use the legacy Keras optimizer instead, located at `tf.keras.optimizers.legacy.Adam`.\n",
      "WARNING:absl:`lr` is deprecated in Keras optimizer, please use `learning_rate` or use the legacy optimizer, e.g.,tf.keras.optimizers.legacy.Adam.\n",
      "WARNING:absl:There is a known slowdown when using v2.11+ Keras optimizers on M1/M2 Macs. Falling back to the legacy Keras optimizer, i.e., `tf.keras.optimizers.legacy.Adam`.\n"
     ]
    }
   ],
   "source": [
    "# Compile model\n",
    "#RMS_prop=optimizers.RMSprop()   ## we can similarly use different optimizers like RMSprop, Adagrad and SGD \n",
    "adam = optimizers.Adam(lr=1e-3)\n",
    "model.compile(loss=losses.categorical_crossentropy, optimizer=adam, metrics=['accuracy']) ### Loss function = Categorical cross entropy"
   ]
  },
  {
   "cell_type": "code",
   "execution_count": 306,
   "id": "c387e70c",
   "metadata": {
    "collapsed": true
   },
   "outputs": [
    {
     "name": "stdout",
     "output_type": "stream",
     "text": [
      "Model: \"sequential\"\n",
      "_________________________________________________________________\n",
      " Layer (type)                Output Shape              Param #   \n",
      "=================================================================\n",
      " dense (Dense)               (None, 256)               262400    \n",
      "                                                                 \n",
      " dense_1 (Dense)             (None, 64)                16448     \n",
      "                                                                 \n",
      " dense_2 (Dense)             (None, 64)                4160      \n",
      "                                                                 \n",
      " dense_3 (Dense)             (None, 32)                2080      \n",
      "                                                                 \n",
      " dense_4 (Dense)             (None, 10)                330       \n",
      "                                                                 \n",
      "=================================================================\n",
      "Total params: 285,418\n",
      "Trainable params: 285,418\n",
      "Non-trainable params: 0\n",
      "_________________________________________________________________\n"
     ]
    }
   ],
   "source": [
    "## Looking into our base model\n",
    "model.summary()"
   ]
  },
  {
   "cell_type": "code",
   "execution_count": 307,
   "id": "09ef0ec6",
   "metadata": {},
   "outputs": [],
   "source": [
    "checkpoint = ModelCheckpoint(\"model_weights.h5\",monitor='val_accuracy',\n",
    "                            save_weights_only=True, mode='max',verbose=1)\n",
    "reduce_lr = ReduceLROnPlateau(monitor='val_loss',factor=0.1,patience=2,min_lr=0.00001,model='auto')\n",
    "callbacks = [checkpoint,reduce_lr]"
   ]
  },
  {
   "cell_type": "code",
   "execution_count": 309,
   "id": "b10d1618",
   "metadata": {},
   "outputs": [
    {
     "name": "stdout",
     "output_type": "stream",
     "text": [
      "Epoch 1/10\n",
      "\n",
      "Epoch 1: saving model to model_weights.h5\n",
      "263/263 - 8s - loss: 2.3088 - accuracy: 0.1025 - val_loss: 2.2995 - val_accuracy: 0.1282 - lr: 0.0010 - 8s/epoch - 32ms/step\n",
      "Epoch 2/10\n",
      "\n",
      "Epoch 2: saving model to model_weights.h5\n",
      "263/263 - 4s - loss: 2.1121 - accuracy: 0.2223 - val_loss: 1.9007 - val_accuracy: 0.3087 - lr: 0.0010 - 4s/epoch - 14ms/step\n",
      "Epoch 3/10\n",
      "\n",
      "Epoch 3: saving model to model_weights.h5\n",
      "263/263 - 4s - loss: 1.7009 - accuracy: 0.3912 - val_loss: 1.5994 - val_accuracy: 0.4585 - lr: 0.0010 - 4s/epoch - 14ms/step\n",
      "Epoch 4/10\n",
      "\n",
      "Epoch 4: saving model to model_weights.h5\n",
      "263/263 - 4s - loss: 1.4541 - accuracy: 0.5045 - val_loss: 1.3323 - val_accuracy: 0.5601 - lr: 0.0010 - 4s/epoch - 14ms/step\n",
      "Epoch 5/10\n",
      "\n",
      "Epoch 5: saving model to model_weights.h5\n",
      "263/263 - 4s - loss: 1.2788 - accuracy: 0.5815 - val_loss: 1.1894 - val_accuracy: 0.6150 - lr: 0.0010 - 4s/epoch - 14ms/step\n",
      "Epoch 6/10\n",
      "\n",
      "Epoch 6: saving model to model_weights.h5\n",
      "263/263 - 4s - loss: 1.1957 - accuracy: 0.6155 - val_loss: 1.1718 - val_accuracy: 0.6264 - lr: 0.0010 - 4s/epoch - 14ms/step\n",
      "Epoch 7/10\n",
      "\n",
      "Epoch 7: saving model to model_weights.h5\n",
      "263/263 - 4s - loss: 1.1463 - accuracy: 0.6340 - val_loss: 1.1154 - val_accuracy: 0.6456 - lr: 0.0010 - 4s/epoch - 14ms/step\n",
      "Epoch 8/10\n",
      "\n",
      "Epoch 8: saving model to model_weights.h5\n",
      "263/263 - 4s - loss: 1.0942 - accuracy: 0.6507 - val_loss: 1.0610 - val_accuracy: 0.6644 - lr: 0.0010 - 4s/epoch - 14ms/step\n",
      "Epoch 9/10\n",
      "\n",
      "Epoch 9: saving model to model_weights.h5\n",
      "263/263 - 4s - loss: 1.0646 - accuracy: 0.6618 - val_loss: 1.0932 - val_accuracy: 0.6498 - lr: 0.0010 - 4s/epoch - 14ms/step\n",
      "Epoch 10/10\n",
      "\n",
      "Epoch 10: saving model to model_weights.h5\n",
      "263/263 - 4s - loss: 1.0288 - accuracy: 0.6769 - val_loss: 1.0238 - val_accuracy: 0.6821 - lr: 0.0010 - 4s/epoch - 13ms/step\n"
     ]
    }
   ],
   "source": [
    "# Fit the model\n",
    "history=model.fit(X_train, Y_train, validation_split=0.2, epochs=10, batch_size=128, verbose=2,callbacks=callbacks)"
   ]
  },
  {
   "cell_type": "markdown",
   "id": "2a7ea5b8",
   "metadata": {},
   "source": [
    "#### Model - 2"
   ]
  },
  {
   "cell_type": "code",
   "execution_count": 310,
   "id": "a1ca5445",
   "metadata": {},
   "outputs": [],
   "source": [
    "backend.clear_session()\n",
    "np.random.seed(42)\n",
    "random.seed(42)\n",
    "tf.random.set_seed(42)"
   ]
  },
  {
   "cell_type": "code",
   "execution_count": 315,
   "id": "de72b63d",
   "metadata": {},
   "outputs": [],
   "source": [
    "image_size=32*32\n",
    "\n",
    "model2 = Sequential()\n",
    "model2.add(Dense(256, activation='relu',kernel_initializer='he_uniform',input_shape=(image_size,))) ###Multiple Dense units with Relu activation\n",
    "model2.add(Dense(128, activation='relu',kernel_initializer='he_uniform'))\n",
    "model2.add(Dense(64, activation='relu',kernel_initializer='he_uniform'))\n",
    "model2.add(Dense(32, activation='relu',kernel_initializer='he_uniform'))\n",
    "\n",
    "model2.add(Dense(num_classes, activation='softmax')) ### For multiclass classification Softmax is used "
   ]
  },
  {
   "cell_type": "code",
   "execution_count": 316,
   "id": "5b22e1e7",
   "metadata": {
    "collapsed": true
   },
   "outputs": [
    {
     "name": "stderr",
     "output_type": "stream",
     "text": [
      "WARNING:absl:At this time, the v2.11+ optimizer `tf.keras.optimizers.RMSprop` runs slowly on M1/M2 Macs, please use the legacy Keras optimizer instead, located at `tf.keras.optimizers.legacy.RMSprop`.\n",
      "WARNING:absl:There is a known slowdown when using v2.11+ Keras optimizers on M1/M2 Macs. Falling back to the legacy Keras optimizer, i.e., `tf.keras.optimizers.legacy.RMSprop`.\n"
     ]
    }
   ],
   "source": [
    "# Compile model\n",
    "RMS_prop=optimizers.RMSprop()   ## we can similarly use different optimizers like RMSprop, Adagrad and SGD \n",
    "# adam = optimizers.Adam(lr=1e-3)\n",
    "model2.compile(loss=losses.categorical_crossentropy, optimizer=RMS_prop, metrics=['accuracy']) ### Loss function = Categorical cross entropy"
   ]
  },
  {
   "cell_type": "code",
   "execution_count": 317,
   "id": "03947c6c",
   "metadata": {
    "collapsed": true
   },
   "outputs": [
    {
     "name": "stdout",
     "output_type": "stream",
     "text": [
      "Model: \"sequential_3\"\n",
      "_________________________________________________________________\n",
      " Layer (type)                Output Shape              Param #   \n",
      "=================================================================\n",
      " dense_15 (Dense)            (None, 256)               262400    \n",
      "                                                                 \n",
      " dense_16 (Dense)            (None, 128)               32896     \n",
      "                                                                 \n",
      " dense_17 (Dense)            (None, 64)                8256      \n",
      "                                                                 \n",
      " dense_18 (Dense)            (None, 32)                2080      \n",
      "                                                                 \n",
      " dense_19 (Dense)            (None, 10)                330       \n",
      "                                                                 \n",
      "=================================================================\n",
      "Total params: 305,962\n",
      "Trainable params: 305,962\n",
      "Non-trainable params: 0\n",
      "_________________________________________________________________\n"
     ]
    }
   ],
   "source": [
    "## Looking into our base model\n",
    "model2.summary()"
   ]
  },
  {
   "cell_type": "code",
   "execution_count": 318,
   "id": "069d13f9",
   "metadata": {
    "collapsed": true
   },
   "outputs": [
    {
     "name": "stdout",
     "output_type": "stream",
     "text": [
      "Epoch 1/50\n",
      "\n",
      "Epoch 1: saving model to model_weights.h5\n",
      "263/263 - 8s - loss: 2.3090 - accuracy: 0.0994 - val_loss: 2.3028 - val_accuracy: 0.0974 - lr: 0.0010 - 8s/epoch - 32ms/step\n",
      "Epoch 2/50\n",
      "\n",
      "Epoch 2: saving model to model_weights.h5\n",
      "263/263 - 4s - loss: 2.3041 - accuracy: 0.0999 - val_loss: 2.3028 - val_accuracy: 0.1014 - lr: 0.0010 - 4s/epoch - 16ms/step\n",
      "Epoch 3/50\n",
      "\n",
      "Epoch 3: saving model to model_weights.h5\n",
      "263/263 - 4s - loss: 2.3038 - accuracy: 0.1009 - val_loss: 2.3028 - val_accuracy: 0.0974 - lr: 0.0010 - 4s/epoch - 15ms/step\n",
      "Epoch 4/50\n",
      "\n",
      "Epoch 4: saving model to model_weights.h5\n",
      "263/263 - 4s - loss: 2.3022 - accuracy: 0.1029 - val_loss: 2.3015 - val_accuracy: 0.0992 - lr: 1.0000e-04 - 4s/epoch - 15ms/step\n",
      "Epoch 5/50\n",
      "\n",
      "Epoch 5: saving model to model_weights.h5\n",
      "263/263 - 4s - loss: 2.2999 - accuracy: 0.1118 - val_loss: 2.2990 - val_accuracy: 0.1113 - lr: 1.0000e-04 - 4s/epoch - 15ms/step\n",
      "Epoch 6/50\n",
      "\n",
      "Epoch 6: saving model to model_weights.h5\n",
      "263/263 - 4s - loss: 2.2963 - accuracy: 0.1183 - val_loss: 2.2945 - val_accuracy: 0.1111 - lr: 1.0000e-04 - 4s/epoch - 15ms/step\n",
      "Epoch 7/50\n",
      "\n",
      "Epoch 7: saving model to model_weights.h5\n",
      "263/263 - 4s - loss: 2.2926 - accuracy: 0.1192 - val_loss: 2.2902 - val_accuracy: 0.1136 - lr: 1.0000e-04 - 4s/epoch - 15ms/step\n",
      "Epoch 8/50\n",
      "\n",
      "Epoch 8: saving model to model_weights.h5\n",
      "263/263 - 4s - loss: 2.2871 - accuracy: 0.1193 - val_loss: 2.2824 - val_accuracy: 0.1196 - lr: 1.0000e-04 - 4s/epoch - 15ms/step\n",
      "Epoch 9/50\n",
      "\n",
      "Epoch 9: saving model to model_weights.h5\n",
      "263/263 - 4s - loss: 2.2784 - accuracy: 0.1228 - val_loss: 2.2737 - val_accuracy: 0.1237 - lr: 1.0000e-04 - 4s/epoch - 15ms/step\n",
      "Epoch 10/50\n",
      "\n",
      "Epoch 10: saving model to model_weights.h5\n",
      "263/263 - 4s - loss: 2.2677 - accuracy: 0.1353 - val_loss: 2.2599 - val_accuracy: 0.1556 - lr: 1.0000e-04 - 4s/epoch - 15ms/step\n",
      "Epoch 11/50\n",
      "\n",
      "Epoch 11: saving model to model_weights.h5\n",
      "263/263 - 4s - loss: 2.2538 - accuracy: 0.1613 - val_loss: 2.2470 - val_accuracy: 0.1610 - lr: 1.0000e-04 - 4s/epoch - 15ms/step\n",
      "Epoch 12/50\n",
      "\n",
      "Epoch 12: saving model to model_weights.h5\n",
      "263/263 - 4s - loss: 2.2383 - accuracy: 0.1676 - val_loss: 2.2339 - val_accuracy: 0.1673 - lr: 1.0000e-04 - 4s/epoch - 15ms/step\n",
      "Epoch 13/50\n",
      "\n",
      "Epoch 13: saving model to model_weights.h5\n",
      "263/263 - 4s - loss: 2.2237 - accuracy: 0.1690 - val_loss: 2.2187 - val_accuracy: 0.1712 - lr: 1.0000e-04 - 4s/epoch - 15ms/step\n",
      "Epoch 14/50\n",
      "\n",
      "Epoch 14: saving model to model_weights.h5\n",
      "263/263 - 4s - loss: 2.2093 - accuracy: 0.1747 - val_loss: 2.1975 - val_accuracy: 0.1750 - lr: 1.0000e-04 - 4s/epoch - 15ms/step\n",
      "Epoch 15/50\n",
      "\n",
      "Epoch 15: saving model to model_weights.h5\n",
      "263/263 - 4s - loss: 2.1874 - accuracy: 0.1829 - val_loss: 2.1906 - val_accuracy: 0.1839 - lr: 1.0000e-04 - 4s/epoch - 16ms/step\n",
      "Epoch 16/50\n",
      "\n",
      "Epoch 16: saving model to model_weights.h5\n",
      "263/263 - 4s - loss: 2.1615 - accuracy: 0.1949 - val_loss: 2.1661 - val_accuracy: 0.1929 - lr: 1.0000e-04 - 4s/epoch - 15ms/step\n",
      "Epoch 17/50\n",
      "\n",
      "Epoch 17: saving model to model_weights.h5\n",
      "263/263 - 4s - loss: 2.1316 - accuracy: 0.2112 - val_loss: 2.1341 - val_accuracy: 0.2089 - lr: 1.0000e-04 - 4s/epoch - 16ms/step\n",
      "Epoch 18/50\n",
      "\n",
      "Epoch 18: saving model to model_weights.h5\n",
      "263/263 - 4s - loss: 2.0991 - accuracy: 0.2269 - val_loss: 2.1008 - val_accuracy: 0.2254 - lr: 1.0000e-04 - 4s/epoch - 15ms/step\n",
      "Epoch 19/50\n",
      "\n",
      "Epoch 19: saving model to model_weights.h5\n",
      "263/263 - 4s - loss: 2.0628 - accuracy: 0.2492 - val_loss: 2.0385 - val_accuracy: 0.2679 - lr: 1.0000e-04 - 4s/epoch - 16ms/step\n",
      "Epoch 20/50\n",
      "\n",
      "Epoch 20: saving model to model_weights.h5\n",
      "263/263 - 4s - loss: 2.0234 - accuracy: 0.2683 - val_loss: 1.9996 - val_accuracy: 0.2671 - lr: 1.0000e-04 - 4s/epoch - 16ms/step\n",
      "Epoch 21/50\n",
      "\n",
      "Epoch 21: saving model to model_weights.h5\n",
      "263/263 - 4s - loss: 1.9806 - accuracy: 0.2776 - val_loss: 1.9635 - val_accuracy: 0.2811 - lr: 1.0000e-04 - 4s/epoch - 16ms/step\n",
      "Epoch 22/50\n",
      "\n",
      "Epoch 22: saving model to model_weights.h5\n",
      "263/263 - 4s - loss: 1.9402 - accuracy: 0.2951 - val_loss: 1.9247 - val_accuracy: 0.3013 - lr: 1.0000e-04 - 4s/epoch - 16ms/step\n",
      "Epoch 23/50\n",
      "\n",
      "Epoch 23: saving model to model_weights.h5\n",
      "263/263 - 4s - loss: 1.8991 - accuracy: 0.3181 - val_loss: 1.8761 - val_accuracy: 0.3221 - lr: 1.0000e-04 - 4s/epoch - 16ms/step\n",
      "Epoch 24/50\n",
      "\n",
      "Epoch 24: saving model to model_weights.h5\n",
      "263/263 - 4s - loss: 1.8572 - accuracy: 0.3433 - val_loss: 1.8454 - val_accuracy: 0.3437 - lr: 1.0000e-04 - 4s/epoch - 17ms/step\n",
      "Epoch 25/50\n",
      "\n",
      "Epoch 25: saving model to model_weights.h5\n",
      "263/263 - 4s - loss: 1.8138 - accuracy: 0.3672 - val_loss: 1.8072 - val_accuracy: 0.3612 - lr: 1.0000e-04 - 4s/epoch - 15ms/step\n",
      "Epoch 26/50\n",
      "\n",
      "Epoch 26: saving model to model_weights.h5\n",
      "263/263 - 4s - loss: 1.7736 - accuracy: 0.3894 - val_loss: 1.7762 - val_accuracy: 0.3861 - lr: 1.0000e-04 - 4s/epoch - 15ms/step\n",
      "Epoch 27/50\n",
      "\n",
      "Epoch 27: saving model to model_weights.h5\n",
      "263/263 - 4s - loss: 1.7330 - accuracy: 0.4015 - val_loss: 1.7444 - val_accuracy: 0.4023 - lr: 1.0000e-04 - 4s/epoch - 16ms/step\n",
      "Epoch 28/50\n",
      "\n",
      "Epoch 28: saving model to model_weights.h5\n",
      "263/263 - 4s - loss: 1.6935 - accuracy: 0.4201 - val_loss: 1.6769 - val_accuracy: 0.4237 - lr: 1.0000e-04 - 4s/epoch - 15ms/step\n",
      "Epoch 29/50\n",
      "\n",
      "Epoch 29: saving model to model_weights.h5\n",
      "263/263 - 4s - loss: 1.6571 - accuracy: 0.4388 - val_loss: 1.6864 - val_accuracy: 0.4375 - lr: 1.0000e-04 - 4s/epoch - 15ms/step\n",
      "Epoch 30/50\n",
      "\n",
      "Epoch 30: saving model to model_weights.h5\n",
      "263/263 - 4s - loss: 1.6263 - accuracy: 0.4517 - val_loss: 1.6186 - val_accuracy: 0.4579 - lr: 1.0000e-04 - 4s/epoch - 16ms/step\n",
      "Epoch 31/50\n",
      "\n",
      "Epoch 31: saving model to model_weights.h5\n",
      "263/263 - 4s - loss: 1.5991 - accuracy: 0.4642 - val_loss: 1.6026 - val_accuracy: 0.4614 - lr: 1.0000e-04 - 4s/epoch - 16ms/step\n",
      "Epoch 32/50\n",
      "\n",
      "Epoch 32: saving model to model_weights.h5\n",
      "263/263 - 4s - loss: 1.5751 - accuracy: 0.4747 - val_loss: 1.5950 - val_accuracy: 0.4736 - lr: 1.0000e-04 - 4s/epoch - 16ms/step\n",
      "Epoch 33/50\n",
      "\n",
      "Epoch 33: saving model to model_weights.h5\n",
      "263/263 - 4s - loss: 1.5510 - accuracy: 0.4861 - val_loss: 1.5724 - val_accuracy: 0.4725 - lr: 1.0000e-04 - 4s/epoch - 15ms/step\n",
      "Epoch 34/50\n",
      "\n",
      "Epoch 34: saving model to model_weights.h5\n",
      "263/263 - 4s - loss: 1.5311 - accuracy: 0.4921 - val_loss: 1.5278 - val_accuracy: 0.4965 - lr: 1.0000e-04 - 4s/epoch - 15ms/step\n",
      "Epoch 35/50\n",
      "\n",
      "Epoch 35: saving model to model_weights.h5\n",
      "263/263 - 4s - loss: 1.5110 - accuracy: 0.5022 - val_loss: 1.5255 - val_accuracy: 0.4812 - lr: 1.0000e-04 - 4s/epoch - 16ms/step\n",
      "Epoch 36/50\n",
      "\n",
      "Epoch 36: saving model to model_weights.h5\n",
      "263/263 - 4s - loss: 1.4837 - accuracy: 0.5143 - val_loss: 1.5146 - val_accuracy: 0.5054 - lr: 1.0000e-04 - 4s/epoch - 16ms/step\n",
      "Epoch 37/50\n",
      "\n",
      "Epoch 37: saving model to model_weights.h5\n",
      "263/263 - 4s - loss: 1.4600 - accuracy: 0.5239 - val_loss: 1.4878 - val_accuracy: 0.5131 - lr: 1.0000e-04 - 4s/epoch - 15ms/step\n",
      "Epoch 38/50\n",
      "\n",
      "Epoch 38: saving model to model_weights.h5\n",
      "263/263 - 4s - loss: 1.4402 - accuracy: 0.5319 - val_loss: 1.4403 - val_accuracy: 0.5352 - lr: 1.0000e-04 - 4s/epoch - 15ms/step\n",
      "Epoch 39/50\n",
      "\n",
      "Epoch 39: saving model to model_weights.h5\n",
      "263/263 - 4s - loss: 1.4222 - accuracy: 0.5386 - val_loss: 1.4468 - val_accuracy: 0.5294 - lr: 1.0000e-04 - 4s/epoch - 16ms/step\n",
      "Epoch 40/50\n",
      "\n",
      "Epoch 40: saving model to model_weights.h5\n",
      "263/263 - 4s - loss: 1.4060 - accuracy: 0.5457 - val_loss: 1.4318 - val_accuracy: 0.5424 - lr: 1.0000e-04 - 4s/epoch - 16ms/step\n",
      "Epoch 41/50\n",
      "\n",
      "Epoch 41: saving model to model_weights.h5\n",
      "263/263 - 4s - loss: 1.3898 - accuracy: 0.5516 - val_loss: 1.4371 - val_accuracy: 0.5423 - lr: 1.0000e-04 - 4s/epoch - 16ms/step\n",
      "Epoch 42/50\n",
      "\n",
      "Epoch 42: saving model to model_weights.h5\n",
      "263/263 - 4s - loss: 1.3760 - accuracy: 0.5564 - val_loss: 1.3875 - val_accuracy: 0.5571 - lr: 1.0000e-04 - 4s/epoch - 16ms/step\n",
      "Epoch 43/50\n",
      "\n",
      "Epoch 43: saving model to model_weights.h5\n",
      "263/263 - 4s - loss: 1.3577 - accuracy: 0.5643 - val_loss: 1.3846 - val_accuracy: 0.5590 - lr: 1.0000e-04 - 4s/epoch - 16ms/step\n",
      "Epoch 44/50\n",
      "\n",
      "Epoch 44: saving model to model_weights.h5\n",
      "263/263 - 4s - loss: 1.3398 - accuracy: 0.5727 - val_loss: 1.4447 - val_accuracy: 0.5473 - lr: 1.0000e-04 - 4s/epoch - 15ms/step\n",
      "Epoch 45/50\n",
      "\n",
      "Epoch 45: saving model to model_weights.h5\n",
      "263/263 - 4s - loss: 1.3223 - accuracy: 0.5791 - val_loss: 1.3630 - val_accuracy: 0.5760 - lr: 1.0000e-04 - 4s/epoch - 16ms/step\n",
      "Epoch 46/50\n",
      "\n",
      "Epoch 46: saving model to model_weights.h5\n",
      "263/263 - 4s - loss: 1.3071 - accuracy: 0.5827 - val_loss: 1.3561 - val_accuracy: 0.5674 - lr: 1.0000e-04 - 4s/epoch - 16ms/step\n",
      "Epoch 47/50\n",
      "\n",
      "Epoch 47: saving model to model_weights.h5\n",
      "263/263 - 4s - loss: 1.2921 - accuracy: 0.5919 - val_loss: 1.3376 - val_accuracy: 0.5780 - lr: 1.0000e-04 - 4s/epoch - 16ms/step\n",
      "Epoch 48/50\n",
      "\n",
      "Epoch 48: saving model to model_weights.h5\n",
      "263/263 - 4s - loss: 1.2760 - accuracy: 0.5975 - val_loss: 1.3136 - val_accuracy: 0.5851 - lr: 1.0000e-04 - 4s/epoch - 16ms/step\n",
      "Epoch 49/50\n",
      "\n",
      "Epoch 49: saving model to model_weights.h5\n",
      "263/263 - 4s - loss: 1.2651 - accuracy: 0.6024 - val_loss: 1.3260 - val_accuracy: 0.5738 - lr: 1.0000e-04 - 4s/epoch - 16ms/step\n",
      "Epoch 50/50\n",
      "\n",
      "Epoch 50: saving model to model_weights.h5\n",
      "263/263 - 4s - loss: 1.2505 - accuracy: 0.6090 - val_loss: 1.2772 - val_accuracy: 0.6098 - lr: 1.0000e-04 - 4s/epoch - 16ms/step\n"
     ]
    }
   ],
   "source": [
    "history2 = model2.fit(X_train, Y_train, validation_split=0.2, epochs=50, batch_size=128, verbose=2,callbacks=callbacks)"
   ]
  },
  {
   "cell_type": "markdown",
   "id": "79ea10af",
   "metadata": {},
   "source": [
    "- Model with RMSProp and 50 epochs didn't perform better. Model-1 had 68% accuracy, whereas this model had 0.60% validation accuracy.\n",
    "\n",
    "Let's try another model with dropout."
   ]
  },
  {
   "cell_type": "markdown",
   "id": "c58da972",
   "metadata": {},
   "source": [
    "#### Model - 3"
   ]
  },
  {
   "cell_type": "code",
   "execution_count": 376,
   "id": "121471b2",
   "metadata": {},
   "outputs": [],
   "source": [
    "backend.clear_session()\n",
    "np.random.seed(42)\n",
    "random.seed(42)\n",
    "tf.random.set_seed(42)"
   ]
  },
  {
   "cell_type": "code",
   "execution_count": 377,
   "id": "76f1771c",
   "metadata": {},
   "outputs": [],
   "source": [
    "def adam_model_batch_normalisation(activation_func_hidden, activation_func_output, metrics, lr =0.001, loss = losses.categorical_crossentropy):\n",
    "    model = Sequential()\n",
    "    \n",
    "    model.add(Dense(256, input_shape = (image_size, ), kernel_initializer='he_uniform'))\n",
    "    model.add(BatchNormalization())\n",
    "    model.add(Activation(activation_func_hidden))    \n",
    "    model.add(Dense(128, kernel_initializer='he_uniform'))\n",
    "    model.add(BatchNormalization())\n",
    "    model.add(Activation(activation_func_hidden))  \n",
    "    model.add(Dense(64,kernel_initializer='he_uniform'))\n",
    "    model.add(BatchNormalization())\n",
    "    model.add(Activation(activation_func_hidden))    \n",
    "    model.add(Dense(32,kernel_initializer='he_uniform'))\n",
    "    model.add(BatchNormalization())\n",
    "    model.add(Activation(activation_func_hidden))    \n",
    "    model.add(Dense(10))\n",
    "    model.add(Activation(activation_func_output))\n",
    "    \n",
    "    adam = optimizers.legacy.Adam(learning_rate = lr)\n",
    "    model.compile(optimizer = adam, loss = loss, metrics = metrics)\n",
    "    \n",
    "    return model"
   ]
  },
  {
   "cell_type": "code",
   "execution_count": 378,
   "id": "708495f8",
   "metadata": {},
   "outputs": [],
   "source": [
    "checkpoint = ModelCheckpoint(\"model_weights.h5\",monitor='val_accuracy',\n",
    "                            save_weights_only=True, mode='max',verbose=1)\n",
    "reduce_lr = ReduceLROnPlateau(monitor='val_loss',factor=0.1,patience=2,min_lr=0.00001,model='auto')\n",
    "\n",
    "callbacks = [checkpoint,reduce_lr]"
   ]
  },
  {
   "cell_type": "code",
   "execution_count": 379,
   "id": "e92c4318",
   "metadata": {
    "scrolled": true
   },
   "outputs": [
    {
     "name": "stdout",
     "output_type": "stream",
     "text": [
      "Epoch 1/10\n",
      "\n",
      "Epoch 1: saving model to model_weights.h5\n",
      "1050/1050 - 24s - loss: 1.5392 - accuracy: 0.4928 - val_loss: 2.0323 - val_accuracy: 0.3599 - lr: 0.0010 - 24s/epoch - 23ms/step\n",
      "Epoch 2/10\n",
      "\n",
      "Epoch 2: saving model to model_weights.h5\n",
      "1050/1050 - 19s - loss: 1.0941 - accuracy: 0.6482 - val_loss: 1.4336 - val_accuracy: 0.5288 - lr: 0.0010 - 19s/epoch - 18ms/step\n",
      "Epoch 3/10\n",
      "\n",
      "Epoch 3: saving model to model_weights.h5\n",
      "1050/1050 - 19s - loss: 0.9675 - accuracy: 0.6931 - val_loss: 1.2725 - val_accuracy: 0.5743 - lr: 0.0010 - 19s/epoch - 18ms/step\n",
      "Epoch 4/10\n",
      "\n",
      "Epoch 4: saving model to model_weights.h5\n",
      "1050/1050 - 19s - loss: 0.8868 - accuracy: 0.7181 - val_loss: 1.0187 - val_accuracy: 0.6783 - lr: 0.0010 - 19s/epoch - 18ms/step\n",
      "Epoch 5/10\n",
      "\n",
      "Epoch 5: saving model to model_weights.h5\n",
      "1050/1050 - 18s - loss: 0.8186 - accuracy: 0.7379 - val_loss: 1.1731 - val_accuracy: 0.6249 - lr: 0.0010 - 18s/epoch - 17ms/step\n",
      "Epoch 6/10\n",
      "\n",
      "Epoch 6: saving model to model_weights.h5\n",
      "1050/1050 - 18s - loss: 0.7695 - accuracy: 0.7555 - val_loss: 1.3180 - val_accuracy: 0.5657 - lr: 0.0010 - 18s/epoch - 18ms/step\n",
      "Epoch 7/10\n",
      "\n",
      "Epoch 7: saving model to model_weights.h5\n",
      "1050/1050 - 18s - loss: 0.6372 - accuracy: 0.7992 - val_loss: 0.5909 - val_accuracy: 0.8192 - lr: 1.0000e-04 - 18s/epoch - 17ms/step\n",
      "Epoch 8/10\n",
      "\n",
      "Epoch 8: saving model to model_weights.h5\n",
      "1050/1050 - 18s - loss: 0.6026 - accuracy: 0.8117 - val_loss: 0.5902 - val_accuracy: 0.8167 - lr: 1.0000e-04 - 18s/epoch - 17ms/step\n",
      "Epoch 9/10\n",
      "\n",
      "Epoch 9: saving model to model_weights.h5\n",
      "1050/1050 - 18s - loss: 0.5878 - accuracy: 0.8160 - val_loss: 0.5802 - val_accuracy: 0.8250 - lr: 1.0000e-04 - 18s/epoch - 17ms/step\n",
      "Epoch 10/10\n",
      "\n",
      "Epoch 10: saving model to model_weights.h5\n",
      "1050/1050 - 18s - loss: 0.5739 - accuracy: 0.8191 - val_loss: 0.6066 - val_accuracy: 0.8193 - lr: 1.0000e-04 - 18s/epoch - 17ms/step\n"
     ]
    }
   ],
   "source": [
    "model = adam_model_batch_normalisation('relu', 'softmax', ['accuracy'])\n",
    "history_3 = model.fit(X_train, Y_train, validation_split=0.2, epochs = 10, verbose = 2, callbacks=callbacks)"
   ]
  },
  {
   "cell_type": "markdown",
   "id": "b7fd494e",
   "metadata": {},
   "source": [
    "### C. Evaluate performance of the model with appropriate metrics"
   ]
  },
  {
   "cell_type": "code",
   "execution_count": 380,
   "id": "19f52b5a",
   "metadata": {},
   "outputs": [
    {
     "name": "stdout",
     "output_type": "stream",
     "text": [
      "563/563 [==============================] - 6s 11ms/step - loss: 0.6303 - accuracy: 0.8062\n",
      "Result for Test Set Accuracy = 0.8062222599983215\n"
     ]
    }
   ],
   "source": [
    "tf.debugging.disable_traceback_filtering()\n",
    "results = model.evaluate(X_test, Y_test_cat)\n",
    "\n",
    "print(\"Result for Test Set Accuracy = {}\".format(results[1]))"
   ]
  },
  {
   "cell_type": "code",
   "execution_count": 381,
   "id": "e338e9b3",
   "metadata": {
    "scrolled": true
   },
   "outputs": [
    {
     "name": "stdout",
     "output_type": "stream",
     "text": [
      "563/563 [==============================] - 2s 3ms/step\n"
     ]
    }
   ],
   "source": [
    "Y_pred=model.predict(X_test)\n",
    "\n",
    "# As our outputs are probabilities so we will try to get the output class from these probablities by getting the maximum value\n",
    "Y_pred_final=[]\n",
    "for i in Y_pred:\n",
    "    Y_pred_final.append(np.argmax(i))"
   ]
  },
  {
   "cell_type": "code",
   "execution_count": 382,
   "id": "6307f7c5",
   "metadata": {},
   "outputs": [
    {
     "name": "stdout",
     "output_type": "stream",
     "text": [
      "              precision    recall  f1-score   support\n",
      "\n",
      "           0       0.77      0.88      0.82      1814\n",
      "           1       0.86      0.80      0.83      1828\n",
      "           2       0.91      0.77      0.83      1803\n",
      "           3       0.72      0.79      0.75      1719\n",
      "           4       0.89      0.83      0.86      1812\n",
      "           5       0.76      0.81      0.78      1768\n",
      "           6       0.77      0.79      0.78      1832\n",
      "           7       0.81      0.88      0.84      1808\n",
      "           8       0.81      0.73      0.77      1812\n",
      "           9       0.81      0.78      0.80      1804\n",
      "\n",
      "    accuracy                           0.81     18000\n",
      "   macro avg       0.81      0.81      0.81     18000\n",
      "weighted avg       0.81      0.81      0.81     18000\n",
      "\n"
     ]
    }
   ],
   "source": [
    "print(classification_report(Y_test, Y_pred_final))"
   ]
  },
  {
   "cell_type": "markdown",
   "id": "91b1aba2",
   "metadata": {},
   "source": [
    "- Hence, With Model 3, we got an test set accuracy for 81%."
   ]
  },
  {
   "cell_type": "markdown",
   "id": "788898fc",
   "metadata": {},
   "source": [
    "### D. Plot the training loss, validation loss vs number of epochs and training accuracy, validation accuracy vs number of epochs plot and write your observations on the same"
   ]
  },
  {
   "cell_type": "code",
   "execution_count": 384,
   "id": "c6b606ba",
   "metadata": {},
   "outputs": [
    {
     "data": {
      "image/png": "[encoded data removed]",
      "text/plain": [
       "<Figure size 640x480 with 1 Axes>"
      ]
     },
     "metadata": {},
     "output_type": "display_data"
    }
   ],
   "source": [
    "#Plotting Train accuracy vs Validation accuracy\n",
    "plt.plot(history_3.history['accuracy'])\n",
    "plt.plot(history_3.history['val_accuracy'])\n",
    "plt.title('model accuracy')\n",
    "plt.ylabel('accuracy')\n",
    "plt.xlabel('Epoch')\n",
    "plt.legend(['train', 'validation'], loc='upper left')\n",
    "plt.show()"
   ]
  },
  {
   "cell_type": "code",
   "execution_count": 385,
   "id": "c7ab3b1e",
   "metadata": {},
   "outputs": [
    {
     "data": {
      "image/png": "[encoded data removed]",
      "text/plain": [
       "<Figure size 640x480 with 1 Axes>"
      ]
     },
     "metadata": {},
     "output_type": "display_data"
    }
   ],
   "source": [
    "#Plotting Train Loss vs Validation Loss\n",
    "plt.plot(history_3.history['loss'])\n",
    "plt.plot(history_3.history['val_loss'])\n",
    "plt.title('model loss')\n",
    "plt.ylabel('loss')\n",
    "plt.xlabel('Epoch')\n",
    "plt.legend(['train', 'validation'], loc='upper left')\n",
    "plt.show()"
   ]
  },
  {
   "cell_type": "markdown",
   "id": "13f6847b",
   "metadata": {},
   "source": [
    "#### Observations:\n",
    "1. As observed above, with model-3 (which involves Adam optimiser, batchnormalisation, 5 layers), we got a test accuracy of 81%, with just 10 epochs. To put model on production, we can train on 50/100 epochs and get the accuracy to more by a minute amount.\n",
    "2. Training loss and Validation loss, converges to neighbouting place. There's not much difference between the final training and validation loss.\n",
    "3. The model's training accuracy and validation accuracy , test accuracy are very similar (~0.81) after 10 epochs. Hence, the model didn't overfit."
   ]
  },
  {
   "cell_type": "markdown",
   "id": "ae6d72d1",
   "metadata": {},
   "source": [
    "# The End"
   ]
  },
  {
   "cell_type": "code",
   "execution_count": null,
   "id": "42df4830",
   "metadata": {},
   "outputs": [],
   "source": []
  }
 ],
 "metadata": {
  "kernelspec": {
   "display_name": "Python 3 (ipykernel)",
   "language": "python",
   "name": "python3"
  },
  "language_info": {
   "codemirror_mode": {
    "name": "ipython",
    "version": 3
   },
   "file_extension": ".py",
   "mimetype": "text/x-python",
   "name": "python",
   "nbconvert_exporter": "python",
   "pygments_lexer": "ipython3",
   "version": "3.8.16"
  }
 },
 "nbformat": 4,
 "nbformat_minor": 5
}
