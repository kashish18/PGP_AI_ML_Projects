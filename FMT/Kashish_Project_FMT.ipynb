{
 "cells": [
  {
   "cell_type": "code",
   "execution_count": 1,
   "id": "3b070d26-de27-4704-b7ef-c82edb2f6124",
   "metadata": {},
   "outputs": [],
   "source": [
    "%matplotlib inline"
   ]
  },
  {
   "cell_type": "code",
   "execution_count": 2,
   "id": "53fbc216-33ba-4e9a-8619-4b4d2d65b189",
   "metadata": {
    "tags": []
   },
   "outputs": [
    {
     "name": "stdout",
     "output_type": "stream",
     "text": [
      "Collecting seaborn\n",
      "  Downloading seaborn-0.12.2-py3-none-any.whl (293 kB)\n",
      "\u001b[2K     \u001b[90m━━━━━━━━━━━━━━━━━━━━━━━━━━━━━━━━━━━━━━━\u001b[0m \u001b[32m293.3/293.3 kB\u001b[0m \u001b[31m5.5 MB/s\u001b[0m eta \u001b[36m0:00:00\u001b[0ma \u001b[36m0:00:01\u001b[0m\n",
      "\u001b[?25hRequirement already satisfied: matplotlib!=3.6.1,>=3.1 in /root/mambaforge/lib/python3.9/site-packages (from seaborn) (3.5.2)\n",
      "Requirement already satisfied: numpy!=1.24.0,>=1.17 in /root/mambaforge/lib/python3.9/site-packages (from seaborn) (1.23.0)\n",
      "Requirement already satisfied: pandas>=0.25 in /root/mambaforge/lib/python3.9/site-packages (from seaborn) (1.4.3)\n",
      "Requirement already satisfied: packaging>=20.0 in /root/mambaforge/lib/python3.9/site-packages (from matplotlib!=3.6.1,>=3.1->seaborn) (21.3)\n",
      "Requirement already satisfied: cycler>=0.10 in /root/mambaforge/lib/python3.9/site-packages (from matplotlib!=3.6.1,>=3.1->seaborn) (0.11.0)\n",
      "Requirement already satisfied: fonttools>=4.22.0 in /root/mambaforge/lib/python3.9/site-packages (from matplotlib!=3.6.1,>=3.1->seaborn) (4.33.3)\n",
      "Requirement already satisfied: python-dateutil>=2.7 in /root/mambaforge/lib/python3.9/site-packages (from matplotlib!=3.6.1,>=3.1->seaborn) (2.8.2)\n",
      "Requirement already satisfied: pillow>=6.2.0 in /root/mambaforge/lib/python3.9/site-packages (from matplotlib!=3.6.1,>=3.1->seaborn) (9.1.1)\n",
      "Requirement already satisfied: kiwisolver>=1.0.1 in /root/mambaforge/lib/python3.9/site-packages (from matplotlib!=3.6.1,>=3.1->seaborn) (1.4.3)\n",
      "Requirement already satisfied: pyparsing>=2.2.1 in /root/mambaforge/lib/python3.9/site-packages (from matplotlib!=3.6.1,>=3.1->seaborn) (3.0.9)\n",
      "Requirement already satisfied: pytz>=2020.1 in /root/mambaforge/lib/python3.9/site-packages (from pandas>=0.25->seaborn) (2022.1)\n",
      "Requirement already satisfied: six>=1.5 in /root/mambaforge/lib/python3.9/site-packages (from python-dateutil>=2.7->matplotlib!=3.6.1,>=3.1->seaborn) (1.16.0)\n",
      "Installing collected packages: seaborn\n",
      "Successfully installed seaborn-0.12.2\n",
      "\u001b[33mWARNING: Running pip as the 'root' user can result in broken permissions and conflicting behaviour with the system package manager. It is recommended to use a virtual environment instead: https://pip.pypa.io/warnings/venv\u001b[0m\u001b[33m\n",
      "\u001b[0mCollecting imblearn\n",
      "  Downloading imblearn-0.0-py2.py3-none-any.whl (1.9 kB)\n",
      "Collecting imbalanced-learn\n",
      "  Downloading imbalanced_learn-0.10.1-py3-none-any.whl (226 kB)\n",
      "\u001b[2K     \u001b[90m━━━━━━━━━━━━━━━━━━━━━━━━━━━━━━━━━━━━━━\u001b[0m \u001b[32m226.0/226.0 kB\u001b[0m \u001b[31m11.2 MB/s\u001b[0m eta \u001b[36m0:00:00\u001b[0m\n",
      "\u001b[?25hRequirement already satisfied: scipy>=1.3.2 in /root/mambaforge/lib/python3.9/site-packages (from imbalanced-learn->imblearn) (1.8.1)\n",
      "Requirement already satisfied: scikit-learn>=1.0.2 in /root/mambaforge/lib/python3.9/site-packages (from imbalanced-learn->imblearn) (1.1.1)\n",
      "Requirement already satisfied: threadpoolctl>=2.0.0 in /root/mambaforge/lib/python3.9/site-packages (from imbalanced-learn->imblearn) (3.1.0)\n",
      "Collecting joblib>=1.1.1\n",
      "  Downloading joblib-1.2.0-py3-none-any.whl (297 kB)\n",
      "\u001b[2K     \u001b[90m━━━━━━━━━━━━━━━━━━━━━━━━━━━━━━━━━━━━━━\u001b[0m \u001b[32m298.0/298.0 kB\u001b[0m \u001b[31m38.3 MB/s\u001b[0m eta \u001b[36m0:00:00\u001b[0m\n",
      "\u001b[?25hRequirement already satisfied: numpy>=1.17.3 in /root/mambaforge/lib/python3.9/site-packages (from imbalanced-learn->imblearn) (1.23.0)\n",
      "Installing collected packages: joblib, imbalanced-learn, imblearn\n",
      "  Attempting uninstall: joblib\n",
      "    Found existing installation: joblib 1.1.0\n",
      "    Uninstalling joblib-1.1.0:\n",
      "      Successfully uninstalled joblib-1.1.0\n",
      "Successfully installed imbalanced-learn-0.10.1 imblearn-0.0 joblib-1.2.0\n",
      "\u001b[33mWARNING: Running pip as the 'root' user can result in broken permissions and conflicting behaviour with the system package manager. It is recommended to use a virtual environment instead: https://pip.pypa.io/warnings/venv\u001b[0m\u001b[33m\n",
      "\u001b[0mCollecting statsmodels\n",
      "  Downloading statsmodels-0.13.5-cp39-cp39-manylinux_2_17_x86_64.manylinux2014_x86_64.whl (9.9 MB)\n",
      "\u001b[2K     \u001b[90m━━━━━━━━━━━━━━━━━━━━━━━━━━━━━━━━━━━━━━━━\u001b[0m \u001b[32m9.9/9.9 MB\u001b[0m \u001b[31m39.1 MB/s\u001b[0m eta \u001b[36m0:00:00\u001b[0m00:01\u001b[0m:00:01\u001b[0m\n",
      "\u001b[?25hRequirement already satisfied: scipy>=1.3 in /root/mambaforge/lib/python3.9/site-packages (from statsmodels) (1.8.1)\n",
      "Requirement already satisfied: packaging>=21.3 in /root/mambaforge/lib/python3.9/site-packages (from statsmodels) (21.3)\n",
      "Requirement already satisfied: pandas>=0.25 in /root/mambaforge/lib/python3.9/site-packages (from statsmodels) (1.4.3)\n",
      "Requirement already satisfied: numpy>=1.17 in /root/mambaforge/lib/python3.9/site-packages (from statsmodels) (1.23.0)\n",
      "Collecting patsy>=0.5.2\n",
      "  Downloading patsy-0.5.3-py2.py3-none-any.whl (233 kB)\n",
      "\u001b[2K     \u001b[90m━━━━━━━━━━━━━━━━━━━━━━━━━━━━━━━━━━━━━━\u001b[0m \u001b[32m233.8/233.8 kB\u001b[0m \u001b[31m28.7 MB/s\u001b[0m eta \u001b[36m0:00:00\u001b[0m\n",
      "\u001b[?25hRequirement already satisfied: pyparsing!=3.0.5,>=2.0.2 in /root/mambaforge/lib/python3.9/site-packages (from packaging>=21.3->statsmodels) (3.0.9)\n",
      "Requirement already satisfied: pytz>=2020.1 in /root/mambaforge/lib/python3.9/site-packages (from pandas>=0.25->statsmodels) (2022.1)\n",
      "Requirement already satisfied: python-dateutil>=2.8.1 in /root/mambaforge/lib/python3.9/site-packages (from pandas>=0.25->statsmodels) (2.8.2)\n",
      "Requirement already satisfied: six in /root/mambaforge/lib/python3.9/site-packages (from patsy>=0.5.2->statsmodels) (1.16.0)\n",
      "Installing collected packages: patsy, statsmodels\n",
      "Successfully installed patsy-0.5.3 statsmodels-0.13.5\n",
      "\u001b[33mWARNING: Running pip as the 'root' user can result in broken permissions and conflicting behaviour with the system package manager. It is recommended to use a virtual environment instead: https://pip.pypa.io/warnings/venv\u001b[0m\u001b[33m\n",
      "\u001b[0mCollecting xgboost\n",
      "  Downloading xgboost-1.7.4-py3-none-manylinux2014_x86_64.whl (193.6 MB)\n",
      "\u001b[2K     \u001b[90m━━━━━━━━━━━━━━━━━━━━━━━━━━━━━━━━━━━━━━━\u001b[0m \u001b[32m193.6/193.6 MB\u001b[0m \u001b[31m4.8 MB/s\u001b[0m eta \u001b[36m0:00:00\u001b[0m00:01\u001b[0m00:01\u001b[0m\n",
      "\u001b[?25hRequirement already satisfied: numpy in /root/mambaforge/lib/python3.9/site-packages (from xgboost) (1.23.0)\n",
      "Requirement already satisfied: scipy in /root/mambaforge/lib/python3.9/site-packages (from xgboost) (1.8.1)\n",
      "Installing collected packages: xgboost\n",
      "Successfully installed xgboost-1.7.4\n",
      "\u001b[33mWARNING: Running pip as the 'root' user can result in broken permissions and conflicting behaviour with the system package manager. It is recommended to use a virtual environment instead: https://pip.pypa.io/warnings/venv\u001b[0m\u001b[33m\n",
      "\u001b[0m"
     ]
    }
   ],
   "source": [
    "!pip3 install seaborn\n",
    "!pip3 install imblearn\n",
    "!pip3 install statsmodels\n",
    "!pip3 install xgboost"
   ]
  },
  {
   "cell_type": "code",
   "execution_count": 3,
   "id": "13014b4d-a958-4cd3-83c2-2593da698b82",
   "metadata": {},
   "outputs": [],
   "source": [
    "# Importing libraries\n",
    "\n",
    "import numpy as np\n",
    "import pandas as pd\n",
    "import matplotlib.pyplot as plt\n",
    "import seaborn as sns\n",
    "from time import time\n",
    "from scipy.stats import randint as sp_randint\n",
    "from sklearn import metrics\n",
    "from sklearn.model_selection import GridSearchCV\n",
    "from sklearn.model_selection import RandomizedSearchCV\n",
    "from sklearn.ensemble import RandomForestClassifier"
   ]
  },
  {
   "cell_type": "markdown",
   "id": "8b03581e-19ce-48a0-8dd4-4fd56f38f315",
   "metadata": {},
   "source": [
    "# Q1. Import and understand the data"
   ]
  },
  {
   "cell_type": "markdown",
   "id": "a66e1834-0aff-4253-92d5-52b252bf972b",
   "metadata": {},
   "source": [
    "## A. Import ‘signal-data.csv’ as DataFrame"
   ]
  },
  {
   "cell_type": "code",
   "execution_count": 84,
   "id": "e6df4d61-0b2f-4e2d-9ef7-aec0b27a3f9a",
   "metadata": {},
   "outputs": [],
   "source": [
    "df_signal = pd.read_csv('signal-data.csv')"
   ]
  },
  {
   "cell_type": "code",
   "execution_count": 85,
   "id": "96c1efb4-3ad8-4668-8af3-2fe544898dfb",
   "metadata": {},
   "outputs": [
    {
     "data": {
      "text/html": [
       "<div>\n",
       "<style scoped>\n",
       "    .dataframe tbody tr th:only-of-type {\n",
       "        vertical-align: middle;\n",
       "    }\n",
       "\n",
       "    .dataframe tbody tr th {\n",
       "        vertical-align: top;\n",
       "    }\n",
       "\n",
       "    .dataframe thead th {\n",
       "        text-align: right;\n",
       "    }\n",
       "</style>\n",
       "<table border=\"1\" class=\"dataframe\">\n",
       "  <thead>\n",
       "    <tr style=\"text-align: right;\">\n",
       "      <th></th>\n",
       "      <th>Time</th>\n",
       "      <th>0</th>\n",
       "      <th>1</th>\n",
       "      <th>2</th>\n",
       "      <th>3</th>\n",
       "      <th>4</th>\n",
       "      <th>5</th>\n",
       "      <th>6</th>\n",
       "      <th>7</th>\n",
       "      <th>8</th>\n",
       "      <th>...</th>\n",
       "      <th>581</th>\n",
       "      <th>582</th>\n",
       "      <th>583</th>\n",
       "      <th>584</th>\n",
       "      <th>585</th>\n",
       "      <th>586</th>\n",
       "      <th>587</th>\n",
       "      <th>588</th>\n",
       "      <th>589</th>\n",
       "      <th>Pass/Fail</th>\n",
       "    </tr>\n",
       "  </thead>\n",
       "  <tbody>\n",
       "    <tr>\n",
       "      <th>0</th>\n",
       "      <td>2008-07-19 11:55:00</td>\n",
       "      <td>3030.93</td>\n",
       "      <td>2564.00</td>\n",
       "      <td>2187.7333</td>\n",
       "      <td>1411.1265</td>\n",
       "      <td>1.3602</td>\n",
       "      <td>100.0</td>\n",
       "      <td>97.6133</td>\n",
       "      <td>0.1242</td>\n",
       "      <td>1.5005</td>\n",
       "      <td>...</td>\n",
       "      <td>NaN</td>\n",
       "      <td>0.5005</td>\n",
       "      <td>0.0118</td>\n",
       "      <td>0.0035</td>\n",
       "      <td>2.3630</td>\n",
       "      <td>NaN</td>\n",
       "      <td>NaN</td>\n",
       "      <td>NaN</td>\n",
       "      <td>NaN</td>\n",
       "      <td>-1</td>\n",
       "    </tr>\n",
       "    <tr>\n",
       "      <th>1</th>\n",
       "      <td>2008-07-19 12:32:00</td>\n",
       "      <td>3095.78</td>\n",
       "      <td>2465.14</td>\n",
       "      <td>2230.4222</td>\n",
       "      <td>1463.6606</td>\n",
       "      <td>0.8294</td>\n",
       "      <td>100.0</td>\n",
       "      <td>102.3433</td>\n",
       "      <td>0.1247</td>\n",
       "      <td>1.4966</td>\n",
       "      <td>...</td>\n",
       "      <td>208.2045</td>\n",
       "      <td>0.5019</td>\n",
       "      <td>0.0223</td>\n",
       "      <td>0.0055</td>\n",
       "      <td>4.4447</td>\n",
       "      <td>0.0096</td>\n",
       "      <td>0.0201</td>\n",
       "      <td>0.0060</td>\n",
       "      <td>208.2045</td>\n",
       "      <td>-1</td>\n",
       "    </tr>\n",
       "    <tr>\n",
       "      <th>2</th>\n",
       "      <td>2008-07-19 13:17:00</td>\n",
       "      <td>2932.61</td>\n",
       "      <td>2559.94</td>\n",
       "      <td>2186.4111</td>\n",
       "      <td>1698.0172</td>\n",
       "      <td>1.5102</td>\n",
       "      <td>100.0</td>\n",
       "      <td>95.4878</td>\n",
       "      <td>0.1241</td>\n",
       "      <td>1.4436</td>\n",
       "      <td>...</td>\n",
       "      <td>82.8602</td>\n",
       "      <td>0.4958</td>\n",
       "      <td>0.0157</td>\n",
       "      <td>0.0039</td>\n",
       "      <td>3.1745</td>\n",
       "      <td>0.0584</td>\n",
       "      <td>0.0484</td>\n",
       "      <td>0.0148</td>\n",
       "      <td>82.8602</td>\n",
       "      <td>1</td>\n",
       "    </tr>\n",
       "    <tr>\n",
       "      <th>3</th>\n",
       "      <td>2008-07-19 14:43:00</td>\n",
       "      <td>2988.72</td>\n",
       "      <td>2479.90</td>\n",
       "      <td>2199.0333</td>\n",
       "      <td>909.7926</td>\n",
       "      <td>1.3204</td>\n",
       "      <td>100.0</td>\n",
       "      <td>104.2367</td>\n",
       "      <td>0.1217</td>\n",
       "      <td>1.4882</td>\n",
       "      <td>...</td>\n",
       "      <td>73.8432</td>\n",
       "      <td>0.4990</td>\n",
       "      <td>0.0103</td>\n",
       "      <td>0.0025</td>\n",
       "      <td>2.0544</td>\n",
       "      <td>0.0202</td>\n",
       "      <td>0.0149</td>\n",
       "      <td>0.0044</td>\n",
       "      <td>73.8432</td>\n",
       "      <td>-1</td>\n",
       "    </tr>\n",
       "    <tr>\n",
       "      <th>4</th>\n",
       "      <td>2008-07-19 15:22:00</td>\n",
       "      <td>3032.24</td>\n",
       "      <td>2502.87</td>\n",
       "      <td>2233.3667</td>\n",
       "      <td>1326.5200</td>\n",
       "      <td>1.5334</td>\n",
       "      <td>100.0</td>\n",
       "      <td>100.3967</td>\n",
       "      <td>0.1235</td>\n",
       "      <td>1.5031</td>\n",
       "      <td>...</td>\n",
       "      <td>NaN</td>\n",
       "      <td>0.4800</td>\n",
       "      <td>0.4766</td>\n",
       "      <td>0.1045</td>\n",
       "      <td>99.3032</td>\n",
       "      <td>0.0202</td>\n",
       "      <td>0.0149</td>\n",
       "      <td>0.0044</td>\n",
       "      <td>73.8432</td>\n",
       "      <td>-1</td>\n",
       "    </tr>\n",
       "  </tbody>\n",
       "</table>\n",
       "<p>5 rows × 592 columns</p>\n",
       "</div>"
      ],
      "text/plain": [
       "                  Time        0        1          2          3       4      5  \\\n",
       "0  2008-07-19 11:55:00  3030.93  2564.00  2187.7333  1411.1265  1.3602  100.0   \n",
       "1  2008-07-19 12:32:00  3095.78  2465.14  2230.4222  1463.6606  0.8294  100.0   \n",
       "2  2008-07-19 13:17:00  2932.61  2559.94  2186.4111  1698.0172  1.5102  100.0   \n",
       "3  2008-07-19 14:43:00  2988.72  2479.90  2199.0333   909.7926  1.3204  100.0   \n",
       "4  2008-07-19 15:22:00  3032.24  2502.87  2233.3667  1326.5200  1.5334  100.0   \n",
       "\n",
       "          6       7       8  ...       581     582     583     584      585  \\\n",
       "0   97.6133  0.1242  1.5005  ...       NaN  0.5005  0.0118  0.0035   2.3630   \n",
       "1  102.3433  0.1247  1.4966  ...  208.2045  0.5019  0.0223  0.0055   4.4447   \n",
       "2   95.4878  0.1241  1.4436  ...   82.8602  0.4958  0.0157  0.0039   3.1745   \n",
       "3  104.2367  0.1217  1.4882  ...   73.8432  0.4990  0.0103  0.0025   2.0544   \n",
       "4  100.3967  0.1235  1.5031  ...       NaN  0.4800  0.4766  0.1045  99.3032   \n",
       "\n",
       "      586     587     588       589  Pass/Fail  \n",
       "0     NaN     NaN     NaN       NaN         -1  \n",
       "1  0.0096  0.0201  0.0060  208.2045         -1  \n",
       "2  0.0584  0.0484  0.0148   82.8602          1  \n",
       "3  0.0202  0.0149  0.0044   73.8432         -1  \n",
       "4  0.0202  0.0149  0.0044   73.8432         -1  \n",
       "\n",
       "[5 rows x 592 columns]"
      ]
     },
     "execution_count": 85,
     "metadata": {},
     "output_type": "execute_result"
    }
   ],
   "source": [
    "df_signal.head()"
   ]
  },
  {
   "cell_type": "code",
   "execution_count": 86,
   "id": "38dbe0ef-e058-42ca-a281-5b793f009ae8",
   "metadata": {},
   "outputs": [
    {
     "data": {
      "text/plain": [
       "(1567, 592)"
      ]
     },
     "execution_count": 86,
     "metadata": {},
     "output_type": "execute_result"
    }
   ],
   "source": [
    "df_signal.shape"
   ]
  },
  {
   "cell_type": "markdown",
   "id": "6dbc0b15-6a3a-4a35-8a58-3468d9d4013d",
   "metadata": {},
   "source": [
    "## B. Print 5 point summary and share at least 2 observations"
   ]
  },
  {
   "cell_type": "code",
   "execution_count": 87,
   "id": "b28e357c-ba92-478f-8a84-e4a9fc43f3ff",
   "metadata": {},
   "outputs": [
    {
     "data": {
      "text/html": [
       "<div>\n",
       "<style scoped>\n",
       "    .dataframe tbody tr th:only-of-type {\n",
       "        vertical-align: middle;\n",
       "    }\n",
       "\n",
       "    .dataframe tbody tr th {\n",
       "        vertical-align: top;\n",
       "    }\n",
       "\n",
       "    .dataframe thead th {\n",
       "        text-align: right;\n",
       "    }\n",
       "</style>\n",
       "<table border=\"1\" class=\"dataframe\">\n",
       "  <thead>\n",
       "    <tr style=\"text-align: right;\">\n",
       "      <th></th>\n",
       "      <th>0</th>\n",
       "      <th>1</th>\n",
       "      <th>2</th>\n",
       "      <th>3</th>\n",
       "      <th>4</th>\n",
       "      <th>5</th>\n",
       "      <th>6</th>\n",
       "      <th>7</th>\n",
       "      <th>8</th>\n",
       "      <th>9</th>\n",
       "      <th>...</th>\n",
       "      <th>581</th>\n",
       "      <th>582</th>\n",
       "      <th>583</th>\n",
       "      <th>584</th>\n",
       "      <th>585</th>\n",
       "      <th>586</th>\n",
       "      <th>587</th>\n",
       "      <th>588</th>\n",
       "      <th>589</th>\n",
       "      <th>Pass/Fail</th>\n",
       "    </tr>\n",
       "  </thead>\n",
       "  <tbody>\n",
       "    <tr>\n",
       "      <th>min</th>\n",
       "      <td>2743.24</td>\n",
       "      <td>2158.7500</td>\n",
       "      <td>2060.6600</td>\n",
       "      <td>0.0000</td>\n",
       "      <td>0.6815</td>\n",
       "      <td>100.0</td>\n",
       "      <td>82.1311</td>\n",
       "      <td>0.0000</td>\n",
       "      <td>1.1910</td>\n",
       "      <td>-0.0534</td>\n",
       "      <td>...</td>\n",
       "      <td>0.00000</td>\n",
       "      <td>0.477800</td>\n",
       "      <td>0.0060</td>\n",
       "      <td>0.0017</td>\n",
       "      <td>1.197500</td>\n",
       "      <td>-0.016900</td>\n",
       "      <td>0.0032</td>\n",
       "      <td>0.0010</td>\n",
       "      <td>0.0000</td>\n",
       "      <td>-1.0</td>\n",
       "    </tr>\n",
       "    <tr>\n",
       "      <th>25%</th>\n",
       "      <td>2966.26</td>\n",
       "      <td>2452.2475</td>\n",
       "      <td>2181.0444</td>\n",
       "      <td>1081.8758</td>\n",
       "      <td>1.0177</td>\n",
       "      <td>100.0</td>\n",
       "      <td>97.9200</td>\n",
       "      <td>0.1211</td>\n",
       "      <td>1.4112</td>\n",
       "      <td>-0.0108</td>\n",
       "      <td>...</td>\n",
       "      <td>46.18490</td>\n",
       "      <td>0.497900</td>\n",
       "      <td>0.0116</td>\n",
       "      <td>0.0031</td>\n",
       "      <td>2.306500</td>\n",
       "      <td>0.013425</td>\n",
       "      <td>0.0106</td>\n",
       "      <td>0.0033</td>\n",
       "      <td>44.3686</td>\n",
       "      <td>-1.0</td>\n",
       "    </tr>\n",
       "    <tr>\n",
       "      <th>50%</th>\n",
       "      <td>3011.49</td>\n",
       "      <td>2499.4050</td>\n",
       "      <td>2201.0667</td>\n",
       "      <td>1285.2144</td>\n",
       "      <td>1.3168</td>\n",
       "      <td>100.0</td>\n",
       "      <td>101.5122</td>\n",
       "      <td>0.1224</td>\n",
       "      <td>1.4616</td>\n",
       "      <td>-0.0013</td>\n",
       "      <td>...</td>\n",
       "      <td>72.28890</td>\n",
       "      <td>0.500200</td>\n",
       "      <td>0.0138</td>\n",
       "      <td>0.0036</td>\n",
       "      <td>2.757650</td>\n",
       "      <td>0.020500</td>\n",
       "      <td>0.0148</td>\n",
       "      <td>0.0046</td>\n",
       "      <td>71.9005</td>\n",
       "      <td>-1.0</td>\n",
       "    </tr>\n",
       "    <tr>\n",
       "      <th>75%</th>\n",
       "      <td>3056.65</td>\n",
       "      <td>2538.8225</td>\n",
       "      <td>2218.0555</td>\n",
       "      <td>1591.2235</td>\n",
       "      <td>1.5257</td>\n",
       "      <td>100.0</td>\n",
       "      <td>104.5867</td>\n",
       "      <td>0.1238</td>\n",
       "      <td>1.5169</td>\n",
       "      <td>0.0084</td>\n",
       "      <td>...</td>\n",
       "      <td>116.53915</td>\n",
       "      <td>0.502375</td>\n",
       "      <td>0.0165</td>\n",
       "      <td>0.0041</td>\n",
       "      <td>3.295175</td>\n",
       "      <td>0.027600</td>\n",
       "      <td>0.0203</td>\n",
       "      <td>0.0064</td>\n",
       "      <td>114.7497</td>\n",
       "      <td>-1.0</td>\n",
       "    </tr>\n",
       "    <tr>\n",
       "      <th>max</th>\n",
       "      <td>3356.35</td>\n",
       "      <td>2846.4400</td>\n",
       "      <td>2315.2667</td>\n",
       "      <td>3715.0417</td>\n",
       "      <td>1114.5366</td>\n",
       "      <td>100.0</td>\n",
       "      <td>129.2522</td>\n",
       "      <td>0.1286</td>\n",
       "      <td>1.6564</td>\n",
       "      <td>0.0749</td>\n",
       "      <td>...</td>\n",
       "      <td>737.30480</td>\n",
       "      <td>0.509800</td>\n",
       "      <td>0.4766</td>\n",
       "      <td>0.1045</td>\n",
       "      <td>99.303200</td>\n",
       "      <td>0.102800</td>\n",
       "      <td>0.0799</td>\n",
       "      <td>0.0286</td>\n",
       "      <td>737.3048</td>\n",
       "      <td>1.0</td>\n",
       "    </tr>\n",
       "  </tbody>\n",
       "</table>\n",
       "<p>5 rows × 591 columns</p>\n",
       "</div>"
      ],
      "text/plain": [
       "           0          1          2          3          4      5         6  \\\n",
       "min  2743.24  2158.7500  2060.6600     0.0000     0.6815  100.0   82.1311   \n",
       "25%  2966.26  2452.2475  2181.0444  1081.8758     1.0177  100.0   97.9200   \n",
       "50%  3011.49  2499.4050  2201.0667  1285.2144     1.3168  100.0  101.5122   \n",
       "75%  3056.65  2538.8225  2218.0555  1591.2235     1.5257  100.0  104.5867   \n",
       "max  3356.35  2846.4400  2315.2667  3715.0417  1114.5366  100.0  129.2522   \n",
       "\n",
       "          7       8       9  ...        581       582     583     584  \\\n",
       "min  0.0000  1.1910 -0.0534  ...    0.00000  0.477800  0.0060  0.0017   \n",
       "25%  0.1211  1.4112 -0.0108  ...   46.18490  0.497900  0.0116  0.0031   \n",
       "50%  0.1224  1.4616 -0.0013  ...   72.28890  0.500200  0.0138  0.0036   \n",
       "75%  0.1238  1.5169  0.0084  ...  116.53915  0.502375  0.0165  0.0041   \n",
       "max  0.1286  1.6564  0.0749  ...  737.30480  0.509800  0.4766  0.1045   \n",
       "\n",
       "           585       586     587     588       589  Pass/Fail  \n",
       "min   1.197500 -0.016900  0.0032  0.0010    0.0000       -1.0  \n",
       "25%   2.306500  0.013425  0.0106  0.0033   44.3686       -1.0  \n",
       "50%   2.757650  0.020500  0.0148  0.0046   71.9005       -1.0  \n",
       "75%   3.295175  0.027600  0.0203  0.0064  114.7497       -1.0  \n",
       "max  99.303200  0.102800  0.0799  0.0286  737.3048        1.0  \n",
       "\n",
       "[5 rows x 591 columns]"
      ]
     },
     "execution_count": 87,
     "metadata": {},
     "output_type": "execute_result"
    }
   ],
   "source": [
    "# df_signal.describe() Gives the statistical summary.\n",
    "\n",
    "df_signal.describe().loc[['min','25%','50%','75%','max']] # Prints the 5 point summary"
   ]
  },
  {
   "cell_type": "markdown",
   "id": "90ae35bd-4354-4529-b35e-bd09c7d15e7d",
   "metadata": {},
   "source": [
    "### Observations\n",
    "\n",
    "1. There are certain features which have minimum values as 0, while the maximum value go as high as 3000s and above. All these features are floating point numbers.\n",
    "2. The target feature \"Pass/Fail\", has values for min, 25%, 50%, & 75% equals \"-1\". This indicates that at-least till Q3, target features have value as \"-1\". Less than or equal to last 25%ile of the values are \"1\". Hence, possible majority of the target feature has yield status as \"Pass\".\n",
    "3. Feature/Column \"5\" above, has all the values as 100."
   ]
  },
  {
   "cell_type": "markdown",
   "id": "d7b0184f-827c-4578-aeb9-25f9187ba30d",
   "metadata": {},
   "source": [
    "# Q2. Data cleansing"
   ]
  },
  {
   "cell_type": "markdown",
   "id": "2d3dd708-a1b7-4675-94c3-46fc7e5fa599",
   "metadata": {},
   "source": [
    "## A. Write a for loop which will remove all the features with 20%+ Null values and impute rest with mean of the feature"
   ]
  },
  {
   "cell_type": "code",
   "execution_count": 88,
   "id": "5485ba9e-3494-4263-aaba-bba7e77407fb",
   "metadata": {},
   "outputs": [
    {
     "data": {
      "text/plain": [
       "Time          0\n",
       "0             6\n",
       "1             7\n",
       "2            14\n",
       "3            14\n",
       "             ..\n",
       "586           1\n",
       "587           1\n",
       "588           1\n",
       "589           1\n",
       "Pass/Fail     0\n",
       "Length: 592, dtype: int64"
      ]
     },
     "execution_count": 88,
     "metadata": {},
     "output_type": "execute_result"
    }
   ],
   "source": [
    "df_signal.isna().sum()"
   ]
  },
  {
   "cell_type": "code",
   "execution_count": 89,
   "id": "90bcb22d-d254-4d0b-9ff5-19b8ff911176",
   "metadata": {},
   "outputs": [],
   "source": [
    "for col in df_signal.iloc[:,1:-1].columns:\n",
    "    if df_signal[col].isnull().sum()*100/len(df_signal[col]) < 20:\n",
    "        df_signal[col].fillna(df_signal[col].mean(), inplace=True)\n",
    "    else:\n",
    "        df_signal.drop(col, axis=1,inplace=True)"
   ]
  },
  {
   "cell_type": "code",
   "execution_count": 90,
   "id": "73ca5fea-904b-45fb-a057-8041bfbf357d",
   "metadata": {},
   "outputs": [
    {
     "data": {
      "text/plain": [
       "Time         0\n",
       "398          0\n",
       "392          0\n",
       "393          0\n",
       "394          0\n",
       "            ..\n",
       "188          0\n",
       "187          0\n",
       "186          0\n",
       "185          0\n",
       "Pass/Fail    0\n",
       "Length: 560, dtype: int64"
      ]
     },
     "execution_count": 90,
     "metadata": {},
     "output_type": "execute_result"
    }
   ],
   "source": [
    "df_signal.isnull().sum().sort_values(ascending=False)"
   ]
  },
  {
   "cell_type": "markdown",
   "id": "cd9c22db-7357-49a0-be39-b10f2f459bec",
   "metadata": {},
   "source": [
    "- Hence, 32 columns have been dropped, because they had more than 20% of the data as null values.\n",
    "- Remaining columns, the mean values have been imputed with mean."
   ]
  },
  {
   "cell_type": "markdown",
   "id": "07fa330b-ad90-47c7-9169-ff3fb2df836e",
   "metadata": {},
   "source": [
    "## B. Identify and drop the features which are having same value for all the rows"
   ]
  },
  {
   "cell_type": "code",
   "execution_count": 91,
   "id": "243d1292-14d4-4507-b7e4-ef35b6f8e2f0",
   "metadata": {},
   "outputs": [],
   "source": [
    "# For feature to have same value for all rows. There are several ways to fetch those.\n",
    "# The easiest way is to check if the feature's min and max value is same, that means all the \n",
    "# values in that feature are same.\n",
    "\n",
    "for col in df_signal.columns:\n",
    "    if df_signal[col].min()==df_signal[col].max():\n",
    "        df_signal.drop(col, axis=1, inplace=True)"
   ]
  },
  {
   "cell_type": "code",
   "execution_count": 92,
   "id": "9e098820-d3ef-4939-a50e-6f355648cae1",
   "metadata": {},
   "outputs": [
    {
     "data": {
      "text/plain": [
       "(1567, 444)"
      ]
     },
     "execution_count": 92,
     "metadata": {},
     "output_type": "execute_result"
    }
   ],
   "source": [
    "df_signal.shape"
   ]
  },
  {
   "cell_type": "markdown",
   "id": "c8b5fd49-ba9a-47c7-a34c-20adc9705bb0",
   "metadata": {},
   "source": [
    "- Hence, 116 columns have been removed as they had same values for all the rows"
   ]
  },
  {
   "cell_type": "markdown",
   "id": "b7989ea8-c578-4124-abbe-e94d675fbfac",
   "metadata": {},
   "source": [
    "## C. Drop other features if required using relevant functional knowledge. Clearly justify the same"
   ]
  },
  {
   "cell_type": "code",
   "execution_count": 93,
   "id": "a4afe0d9-8134-487a-b80c-04da7f0e8240",
   "metadata": {},
   "outputs": [
    {
     "data": {
      "text/html": [
       "<div>\n",
       "<style scoped>\n",
       "    .dataframe tbody tr th:only-of-type {\n",
       "        vertical-align: middle;\n",
       "    }\n",
       "\n",
       "    .dataframe tbody tr th {\n",
       "        vertical-align: top;\n",
       "    }\n",
       "\n",
       "    .dataframe thead th {\n",
       "        text-align: right;\n",
       "    }\n",
       "</style>\n",
       "<table border=\"1\" class=\"dataframe\">\n",
       "  <thead>\n",
       "    <tr style=\"text-align: right;\">\n",
       "      <th></th>\n",
       "      <th>Time</th>\n",
       "      <th>0</th>\n",
       "      <th>1</th>\n",
       "      <th>2</th>\n",
       "      <th>3</th>\n",
       "      <th>4</th>\n",
       "      <th>6</th>\n",
       "      <th>7</th>\n",
       "      <th>8</th>\n",
       "      <th>9</th>\n",
       "      <th>...</th>\n",
       "      <th>577</th>\n",
       "      <th>582</th>\n",
       "      <th>583</th>\n",
       "      <th>584</th>\n",
       "      <th>585</th>\n",
       "      <th>586</th>\n",
       "      <th>587</th>\n",
       "      <th>588</th>\n",
       "      <th>589</th>\n",
       "      <th>Pass/Fail</th>\n",
       "    </tr>\n",
       "  </thead>\n",
       "  <tbody>\n",
       "  </tbody>\n",
       "</table>\n",
       "<p>0 rows × 444 columns</p>\n",
       "</div>"
      ],
      "text/plain": [
       "Empty DataFrame\n",
       "Columns: [Time, 0, 1, 2, 3, 4, 6, 7, 8, 9, 10, 11, 12, 14, 15, 16, 17, 18, 19, 20, 21, 22, 23, 24, 25, 26, 27, 28, 29, 30, 31, 32, 33, 34, 35, 36, 37, 38, 39, 40, 41, 43, 44, 45, 46, 47, 48, 50, 51, 53, 54, 55, 56, 57, 58, 59, 60, 61, 62, 63, 64, 65, 66, 67, 68, 70, 71, 74, 75, 76, 77, 78, 79, 80, 81, 82, 83, 84, 86, 87, 88, 89, 90, 91, 92, 93, 94, 95, 96, 98, 99, 100, 101, 102, 103, 104, 105, 106, 107, 108, ...]\n",
       "Index: []\n",
       "\n",
       "[0 rows x 444 columns]"
      ]
     },
     "execution_count": 93,
     "metadata": {},
     "output_type": "execute_result"
    }
   ],
   "source": [
    "df_signal[df_signal.duplicated()]"
   ]
  },
  {
   "cell_type": "markdown",
   "id": "89190efb-fad0-4909-998e-caab949402d9",
   "metadata": {},
   "source": [
    "- Hence, there are no duplicate rows"
   ]
  },
  {
   "cell_type": "code",
   "execution_count": 94,
   "id": "80f05e7a-a4dd-4ff0-8fc5-525c727a8227",
   "metadata": {},
   "outputs": [],
   "source": [
    "for col in df_signal.columns[1:]:\n",
    "    if round(df_signal[col].std(),2)==0:\n",
    "        df_signal.drop(col, axis=1, inplace=True)\n",
    "    else:\n",
    "        pass"
   ]
  },
  {
   "cell_type": "code",
   "execution_count": 95,
   "id": "7e8fef69-3c0e-4806-9951-edf41d92ca9c",
   "metadata": {},
   "outputs": [
    {
     "data": {
      "text/plain": [
       "(1567, 410)"
      ]
     },
     "execution_count": 95,
     "metadata": {},
     "output_type": "execute_result"
    }
   ],
   "source": [
    "df_signal.shape"
   ]
  },
  {
   "cell_type": "markdown",
   "id": "ec7bbc44-3eed-400f-ad9b-97d095d062a6",
   "metadata": {
    "tags": []
   },
   "source": [
    "## D. Check for multi-collinearity in the data and take necessary action"
   ]
  },
  {
   "cell_type": "code",
   "execution_count": 96,
   "id": "fa9592a0-cea2-422a-a863-760cfd5d38ad",
   "metadata": {},
   "outputs": [],
   "source": [
    "threshold = 0.85\n",
    "corr_matrix = df_signal.corr().abs()\n",
    "upper = corr_matrix.where(np.triu(np.ones(corr_matrix.shape), k=1).astype(bool))\n",
    "high_correlation = [column for column in upper.columns if any(upper[column] > threshold)]\n",
    "df_signal.drop(high_correlation, axis=1, inplace = True)"
   ]
  },
  {
   "cell_type": "code",
   "execution_count": 97,
   "id": "9f229885-c2ac-4cdd-ad6a-af7d6ff81b05",
   "metadata": {},
   "outputs": [
    {
     "data": {
      "text/plain": [
       "(1567, 221)"
      ]
     },
     "execution_count": 97,
     "metadata": {},
     "output_type": "execute_result"
    }
   ],
   "source": [
    "df_signal.shape"
   ]
  },
  {
   "cell_type": "markdown",
   "id": "0e6a2d6a-701f-4f60-98c8-2b86b725b5ba",
   "metadata": {},
   "source": [
    "# Q3. Data analysis & visualisation"
   ]
  },
  {
   "cell_type": "markdown",
   "id": "1f56814e-fc86-4ed0-afde-72cc83e35840",
   "metadata": {},
   "source": [
    "## A. Perform a detailed univariate Analysis with appropriate detailed comments after each analysis"
   ]
  },
  {
   "cell_type": "code",
   "execution_count": 98,
   "id": "5a14522f-be6c-4128-b4a3-ad7300b951ea",
   "metadata": {},
   "outputs": [
    {
     "data": {
      "text/html": [
       "<div>\n",
       "<style scoped>\n",
       "    .dataframe tbody tr th:only-of-type {\n",
       "        vertical-align: middle;\n",
       "    }\n",
       "\n",
       "    .dataframe tbody tr th {\n",
       "        vertical-align: top;\n",
       "    }\n",
       "\n",
       "    .dataframe thead th {\n",
       "        text-align: right;\n",
       "    }\n",
       "</style>\n",
       "<table border=\"1\" class=\"dataframe\">\n",
       "  <thead>\n",
       "    <tr style=\"text-align: right;\">\n",
       "      <th></th>\n",
       "      <th>Time</th>\n",
       "      <th>0</th>\n",
       "      <th>1</th>\n",
       "      <th>2</th>\n",
       "      <th>3</th>\n",
       "      <th>4</th>\n",
       "      <th>6</th>\n",
       "      <th>7</th>\n",
       "      <th>8</th>\n",
       "      <th>9</th>\n",
       "      <th>...</th>\n",
       "      <th>565</th>\n",
       "      <th>570</th>\n",
       "      <th>571</th>\n",
       "      <th>572</th>\n",
       "      <th>573</th>\n",
       "      <th>583</th>\n",
       "      <th>586</th>\n",
       "      <th>587</th>\n",
       "      <th>589</th>\n",
       "      <th>Pass/Fail</th>\n",
       "    </tr>\n",
       "  </thead>\n",
       "  <tbody>\n",
       "    <tr>\n",
       "      <th>0</th>\n",
       "      <td>2008-07-19 11:55:00</td>\n",
       "      <td>3030.93</td>\n",
       "      <td>2564.00</td>\n",
       "      <td>2187.7333</td>\n",
       "      <td>1411.1265</td>\n",
       "      <td>1.3602</td>\n",
       "      <td>97.6133</td>\n",
       "      <td>0.1242</td>\n",
       "      <td>1.5005</td>\n",
       "      <td>0.0162</td>\n",
       "      <td>...</td>\n",
       "      <td>0.14561</td>\n",
       "      <td>533.8500</td>\n",
       "      <td>2.1113</td>\n",
       "      <td>8.95</td>\n",
       "      <td>0.3157</td>\n",
       "      <td>0.0118</td>\n",
       "      <td>0.021458</td>\n",
       "      <td>0.016475</td>\n",
       "      <td>99.670066</td>\n",
       "      <td>-1</td>\n",
       "    </tr>\n",
       "    <tr>\n",
       "      <th>1</th>\n",
       "      <td>2008-07-19 12:32:00</td>\n",
       "      <td>3095.78</td>\n",
       "      <td>2465.14</td>\n",
       "      <td>2230.4222</td>\n",
       "      <td>1463.6606</td>\n",
       "      <td>0.8294</td>\n",
       "      <td>102.3433</td>\n",
       "      <td>0.1247</td>\n",
       "      <td>1.4966</td>\n",
       "      <td>-0.0005</td>\n",
       "      <td>...</td>\n",
       "      <td>0.14561</td>\n",
       "      <td>535.0164</td>\n",
       "      <td>2.4335</td>\n",
       "      <td>5.92</td>\n",
       "      <td>0.2653</td>\n",
       "      <td>0.0223</td>\n",
       "      <td>0.009600</td>\n",
       "      <td>0.020100</td>\n",
       "      <td>208.204500</td>\n",
       "      <td>-1</td>\n",
       "    </tr>\n",
       "    <tr>\n",
       "      <th>2</th>\n",
       "      <td>2008-07-19 13:17:00</td>\n",
       "      <td>2932.61</td>\n",
       "      <td>2559.94</td>\n",
       "      <td>2186.4111</td>\n",
       "      <td>1698.0172</td>\n",
       "      <td>1.5102</td>\n",
       "      <td>95.4878</td>\n",
       "      <td>0.1241</td>\n",
       "      <td>1.4436</td>\n",
       "      <td>0.0041</td>\n",
       "      <td>...</td>\n",
       "      <td>0.62190</td>\n",
       "      <td>535.0245</td>\n",
       "      <td>2.0293</td>\n",
       "      <td>11.21</td>\n",
       "      <td>0.1882</td>\n",
       "      <td>0.0157</td>\n",
       "      <td>0.058400</td>\n",
       "      <td>0.048400</td>\n",
       "      <td>82.860200</td>\n",
       "      <td>1</td>\n",
       "    </tr>\n",
       "    <tr>\n",
       "      <th>3</th>\n",
       "      <td>2008-07-19 14:43:00</td>\n",
       "      <td>2988.72</td>\n",
       "      <td>2479.90</td>\n",
       "      <td>2199.0333</td>\n",
       "      <td>909.7926</td>\n",
       "      <td>1.3204</td>\n",
       "      <td>104.2367</td>\n",
       "      <td>0.1217</td>\n",
       "      <td>1.4882</td>\n",
       "      <td>-0.0124</td>\n",
       "      <td>...</td>\n",
       "      <td>0.16300</td>\n",
       "      <td>530.5682</td>\n",
       "      <td>2.0253</td>\n",
       "      <td>9.33</td>\n",
       "      <td>0.1738</td>\n",
       "      <td>0.0103</td>\n",
       "      <td>0.020200</td>\n",
       "      <td>0.014900</td>\n",
       "      <td>73.843200</td>\n",
       "      <td>-1</td>\n",
       "    </tr>\n",
       "    <tr>\n",
       "      <th>4</th>\n",
       "      <td>2008-07-19 15:22:00</td>\n",
       "      <td>3032.24</td>\n",
       "      <td>2502.87</td>\n",
       "      <td>2233.3667</td>\n",
       "      <td>1326.5200</td>\n",
       "      <td>1.5334</td>\n",
       "      <td>100.3967</td>\n",
       "      <td>0.1235</td>\n",
       "      <td>1.5031</td>\n",
       "      <td>-0.0031</td>\n",
       "      <td>...</td>\n",
       "      <td>0.14561</td>\n",
       "      <td>532.0155</td>\n",
       "      <td>2.0275</td>\n",
       "      <td>8.83</td>\n",
       "      <td>0.2224</td>\n",
       "      <td>0.4766</td>\n",
       "      <td>0.020200</td>\n",
       "      <td>0.014900</td>\n",
       "      <td>73.843200</td>\n",
       "      <td>-1</td>\n",
       "    </tr>\n",
       "  </tbody>\n",
       "</table>\n",
       "<p>5 rows × 221 columns</p>\n",
       "</div>"
      ],
      "text/plain": [
       "                  Time        0        1          2          3       4  \\\n",
       "0  2008-07-19 11:55:00  3030.93  2564.00  2187.7333  1411.1265  1.3602   \n",
       "1  2008-07-19 12:32:00  3095.78  2465.14  2230.4222  1463.6606  0.8294   \n",
       "2  2008-07-19 13:17:00  2932.61  2559.94  2186.4111  1698.0172  1.5102   \n",
       "3  2008-07-19 14:43:00  2988.72  2479.90  2199.0333   909.7926  1.3204   \n",
       "4  2008-07-19 15:22:00  3032.24  2502.87  2233.3667  1326.5200  1.5334   \n",
       "\n",
       "          6       7       8       9  ...      565       570     571    572  \\\n",
       "0   97.6133  0.1242  1.5005  0.0162  ...  0.14561  533.8500  2.1113   8.95   \n",
       "1  102.3433  0.1247  1.4966 -0.0005  ...  0.14561  535.0164  2.4335   5.92   \n",
       "2   95.4878  0.1241  1.4436  0.0041  ...  0.62190  535.0245  2.0293  11.21   \n",
       "3  104.2367  0.1217  1.4882 -0.0124  ...  0.16300  530.5682  2.0253   9.33   \n",
       "4  100.3967  0.1235  1.5031 -0.0031  ...  0.14561  532.0155  2.0275   8.83   \n",
       "\n",
       "      573     583       586       587         589  Pass/Fail  \n",
       "0  0.3157  0.0118  0.021458  0.016475   99.670066         -1  \n",
       "1  0.2653  0.0223  0.009600  0.020100  208.204500         -1  \n",
       "2  0.1882  0.0157  0.058400  0.048400   82.860200          1  \n",
       "3  0.1738  0.0103  0.020200  0.014900   73.843200         -1  \n",
       "4  0.2224  0.4766  0.020200  0.014900   73.843200         -1  \n",
       "\n",
       "[5 rows x 221 columns]"
      ]
     },
     "execution_count": 98,
     "metadata": {},
     "output_type": "execute_result"
    }
   ],
   "source": [
    "df_signal.head()"
   ]
  },
  {
   "cell_type": "code",
   "execution_count": 99,
   "id": "c1bfff95-9ed8-48a9-974a-2fd6e77f8e0a",
   "metadata": {},
   "outputs": [
    {
     "name": "stdout",
     "output_type": "stream",
     "text": [
      "AxesSubplot(0.125,0.125;0.775x0.755)\n"
     ]
    },
    {
     "data": {
      "image/png": "[encoded data removed]",
      "text/plain": [
       "<Figure size 432x288 with 1 Axes>"
      ]
     },
     "metadata": {
      "needs_background": "light"
     },
     "output_type": "display_data"
    }
   ],
   "source": [
    "# Univariate Boxplot for column 0\n",
    "print(df_signal.boxplot(column=['0'], return_type='axes'))"
   ]
  },
  {
   "cell_type": "markdown",
   "id": "1243097f-6bab-4984-9710-519e9c4e92b5",
   "metadata": {},
   "source": [
    "**Observations:**\n",
    "The above boxplot for column 0 shows the median at around ~3000 value, and there are multiple values that lie outside the Q1 and Q3 range. The maximum value is near ~3350, while the minimum value is less than ~2750."
   ]
  },
  {
   "cell_type": "code",
   "execution_count": 100,
   "id": "a344245e-3062-475a-9260-b6b74b622109",
   "metadata": {},
   "outputs": [
    {
     "data": {
      "image/png": "[encoded data removed]",
      "text/plain": [
       "<Figure size 432x288 with 1 Axes>"
      ]
     },
     "metadata": {
      "needs_background": "light"
     },
     "output_type": "display_data"
    }
   ],
   "source": [
    "# Univariate Scatterplot for column 1\n",
    "plt.scatter(df_signal.index,df_signal['1'])\n",
    "plt.show()"
   ]
  },
  {
   "cell_type": "markdown",
   "id": "fd2f1130-f6ed-4dd5-8e0b-08753f89c236",
   "metadata": {},
   "source": [
    "**Observations:**\n",
    "The above scatterplot for column 1 shows that there is no strong are where most of the datapoints are scattered. The distribution is failrly uniformly distributed from beginning to end."
   ]
  },
  {
   "cell_type": "code",
   "execution_count": 101,
   "id": "8c86a8ab-e131-441c-84af-3d885ddd0532",
   "metadata": {},
   "outputs": [
    {
     "data": {
      "image/png": "[encoded data removed]",
      "text/plain": [
       "<Figure size 432x288 with 1 Axes>"
      ]
     },
     "metadata": {
      "needs_background": "light"
     },
     "output_type": "display_data"
    }
   ],
   "source": [
    "# Univariate Scatterplot for column 2\n",
    "sns.scatterplot(x=df_signal.index,y=df_signal['2'], hue=df_signal['Pass/Fail'])\n",
    "plt.show()"
   ]
  },
  {
   "cell_type": "markdown",
   "id": "3ec340d3-90b3-4816-9ca6-95af80244965",
   "metadata": {},
   "source": [
    "**Observations:**\n",
    "The above scatterplot for column 2 shows that there is no strong are where most of the datapoints are scattered. The distribution is failrly uniformly distributed from beginning to end. However, most of the datapoints for \"Fail\" are scattered more to the right and left of the plot, whereas \"Pass\" is present throughout the distribution with more towards centre of the data"
   ]
  },
  {
   "cell_type": "code",
   "execution_count": 102,
   "id": "680b7fae-e481-4367-84d3-9ac0684c651d",
   "metadata": {},
   "outputs": [
    {
     "data": {
      "image/png": "[encoded data removed]",
      "text/plain": [
       "<Figure size 432x288 with 1 Axes>"
      ]
     },
     "metadata": {
      "needs_background": "light"
     },
     "output_type": "display_data"
    }
   ],
   "source": [
    "# Univariate Histogram for column 3\n",
    "\n",
    "sns.histplot(df_signal['3'],bins=20,kde=True)\n",
    "plt.show()"
   ]
  },
  {
   "cell_type": "markdown",
   "id": "8cf569c0-5574-49df-8521-fe4ca77bd590",
   "metadata": {},
   "source": [
    "**Observations:** The above histogram shows that 1000-1500 has the most frequency distributed, with almost negligible datapoints less than 1000. The graph is mostlly uniform distributed with a little rightly skewed."
   ]
  },
  {
   "cell_type": "markdown",
   "id": "b6106145-2c28-4095-b773-83b9a485cf74",
   "metadata": {},
   "source": [
    "## B. Perform bivariate and multivariate analysis with appropriate detailed comments after each analysis"
   ]
  },
  {
   "cell_type": "code",
   "execution_count": 103,
   "id": "6aa6f9e5-1010-4a23-86a7-9d16b8ad6eb4",
   "metadata": {},
   "outputs": [
    {
     "data": {
      "image/png": "[encoded data removed]",
      "text/plain": [
       "<Figure size 432x288 with 1 Axes>"
      ]
     },
     "metadata": {
      "needs_background": "light"
     },
     "output_type": "display_data"
    }
   ],
   "source": [
    "# Barplot for Columns 4 Vs Pass/Fail\n",
    "sns.barplot(x=df_signal['Pass/Fail'],y=df_signal['4'])\n",
    "plt.show()"
   ]
  },
  {
   "cell_type": "markdown",
   "id": "e4f3420a-28d2-4bc0-ac50-6b7f6daeeb42",
   "metadata": {},
   "source": [
    "**Observations:** The barplot for Column 4 Vs target feature, shows that there is more number of Pass, in comparison to Fail feature."
   ]
  },
  {
   "cell_type": "code",
   "execution_count": 104,
   "id": "375274e3-7e0d-4f65-a232-0f377311ecf4",
   "metadata": {},
   "outputs": [
    {
     "data": {
      "image/png": "[encoded data removed]",
      "text/plain": [
       "<Figure size 432x288 with 1 Axes>"
      ]
     },
     "metadata": {
      "needs_background": "light"
     },
     "output_type": "display_data"
    }
   ],
   "source": [
    "# ViolinPlot for Columns 6 Vs Pass/Fail\n",
    "sns.violinplot(x=df_signal['Pass/Fail'],y=df_signal['6'],palette='rainbow')\n",
    "plt.show()"
   ]
  },
  {
   "cell_type": "markdown",
   "id": "0fdb8dee-33da-4a2c-b888-48a7b371829a",
   "metadata": {},
   "source": [
    "**Observations:** The barplot for Column 6 Vs target feature, shows almost similar distribution. However, the edges of Pass is more scattered, whereas the Fail feature has most of the data within 90 to 110, with less scattering. There is negligible data for Fail feature after 120 value for Column 6"
   ]
  },
  {
   "cell_type": "code",
   "execution_count": 105,
   "id": "b2b1d023-ad0c-4bb0-b23a-40bfab12e83b",
   "metadata": {},
   "outputs": [
    {
     "data": {
      "image/png": "[encoded data removed]",
      "text/plain": [
       "<Figure size 1080x504 with 2 Axes>"
      ]
     },
     "metadata": {
      "needs_background": "light"
     },
     "output_type": "display_data"
    }
   ],
   "source": [
    "# Heatmap for columns corr > 0.98\n",
    "corr=df_signal.corr()\n",
    "plt.figure(figsize=(15,7))\n",
    "sns.heatmap(corr>=0.98)\n",
    "plt.show()"
   ]
  },
  {
   "cell_type": "markdown",
   "id": "02f1c77d-1d50-4fd3-b64b-3c89006c9c15",
   "metadata": {},
   "source": [
    "**Observations:** The heatmap shows columns for which correlation coefficient is 0.98. Hence, the remaining columns are not a part of the heatmap. Regardless, we see that almost whole of the heatmap is close to black color, which shows that there is very minimal absolute correlation, and the most columns are independent of each other."
   ]
  },
  {
   "cell_type": "markdown",
   "id": "a2bc387b-2bf7-4f92-a4b4-a208e840dff3",
   "metadata": {},
   "source": [
    "# Q4"
   ]
  },
  {
   "cell_type": "markdown",
   "id": "de062b9d-55de-4aee-9035-805b6b5ff5f5",
   "metadata": {},
   "source": [
    "## A. Segregate predictors vs target attributes"
   ]
  },
  {
   "cell_type": "code",
   "execution_count": 106,
   "id": "37e42ee0-aa6b-4a52-9590-776fe23128fd",
   "metadata": {},
   "outputs": [],
   "source": [
    "X = df_signal.drop(['Time','Pass/Fail'], axis=1) # Predictors\n",
    "y = df_signal[['Pass/Fail']] # Target Variable"
   ]
  },
  {
   "cell_type": "code",
   "execution_count": 107,
   "id": "b0595f15-d36f-4c00-8113-30d374dc74fb",
   "metadata": {},
   "outputs": [
    {
     "data": {
      "text/html": [
       "<div>\n",
       "<style scoped>\n",
       "    .dataframe tbody tr th:only-of-type {\n",
       "        vertical-align: middle;\n",
       "    }\n",
       "\n",
       "    .dataframe tbody tr th {\n",
       "        vertical-align: top;\n",
       "    }\n",
       "\n",
       "    .dataframe thead th {\n",
       "        text-align: right;\n",
       "    }\n",
       "</style>\n",
       "<table border=\"1\" class=\"dataframe\">\n",
       "  <thead>\n",
       "    <tr style=\"text-align: right;\">\n",
       "      <th></th>\n",
       "      <th>0</th>\n",
       "      <th>1</th>\n",
       "      <th>2</th>\n",
       "      <th>3</th>\n",
       "      <th>4</th>\n",
       "      <th>6</th>\n",
       "      <th>7</th>\n",
       "      <th>8</th>\n",
       "      <th>9</th>\n",
       "      <th>10</th>\n",
       "      <th>...</th>\n",
       "      <th>564</th>\n",
       "      <th>565</th>\n",
       "      <th>570</th>\n",
       "      <th>571</th>\n",
       "      <th>572</th>\n",
       "      <th>573</th>\n",
       "      <th>583</th>\n",
       "      <th>586</th>\n",
       "      <th>587</th>\n",
       "      <th>589</th>\n",
       "    </tr>\n",
       "  </thead>\n",
       "  <tbody>\n",
       "    <tr>\n",
       "      <th>0</th>\n",
       "      <td>3030.93</td>\n",
       "      <td>2564.00</td>\n",
       "      <td>2187.7333</td>\n",
       "      <td>1411.1265</td>\n",
       "      <td>1.3602</td>\n",
       "      <td>97.6133</td>\n",
       "      <td>0.1242</td>\n",
       "      <td>1.5005</td>\n",
       "      <td>0.0162</td>\n",
       "      <td>-0.0034</td>\n",
       "      <td>...</td>\n",
       "      <td>6.444985</td>\n",
       "      <td>0.14561</td>\n",
       "      <td>533.8500</td>\n",
       "      <td>2.1113</td>\n",
       "      <td>8.95</td>\n",
       "      <td>0.3157</td>\n",
       "      <td>0.0118</td>\n",
       "      <td>0.021458</td>\n",
       "      <td>0.016475</td>\n",
       "      <td>99.670066</td>\n",
       "    </tr>\n",
       "    <tr>\n",
       "      <th>1</th>\n",
       "      <td>3095.78</td>\n",
       "      <td>2465.14</td>\n",
       "      <td>2230.4222</td>\n",
       "      <td>1463.6606</td>\n",
       "      <td>0.8294</td>\n",
       "      <td>102.3433</td>\n",
       "      <td>0.1247</td>\n",
       "      <td>1.4966</td>\n",
       "      <td>-0.0005</td>\n",
       "      <td>-0.0148</td>\n",
       "      <td>...</td>\n",
       "      <td>6.444985</td>\n",
       "      <td>0.14561</td>\n",
       "      <td>535.0164</td>\n",
       "      <td>2.4335</td>\n",
       "      <td>5.92</td>\n",
       "      <td>0.2653</td>\n",
       "      <td>0.0223</td>\n",
       "      <td>0.009600</td>\n",
       "      <td>0.020100</td>\n",
       "      <td>208.204500</td>\n",
       "    </tr>\n",
       "    <tr>\n",
       "      <th>2</th>\n",
       "      <td>2932.61</td>\n",
       "      <td>2559.94</td>\n",
       "      <td>2186.4111</td>\n",
       "      <td>1698.0172</td>\n",
       "      <td>1.5102</td>\n",
       "      <td>95.4878</td>\n",
       "      <td>0.1241</td>\n",
       "      <td>1.4436</td>\n",
       "      <td>0.0041</td>\n",
       "      <td>0.0013</td>\n",
       "      <td>...</td>\n",
       "      <td>1.100000</td>\n",
       "      <td>0.62190</td>\n",
       "      <td>535.0245</td>\n",
       "      <td>2.0293</td>\n",
       "      <td>11.21</td>\n",
       "      <td>0.1882</td>\n",
       "      <td>0.0157</td>\n",
       "      <td>0.058400</td>\n",
       "      <td>0.048400</td>\n",
       "      <td>82.860200</td>\n",
       "    </tr>\n",
       "    <tr>\n",
       "      <th>3</th>\n",
       "      <td>2988.72</td>\n",
       "      <td>2479.90</td>\n",
       "      <td>2199.0333</td>\n",
       "      <td>909.7926</td>\n",
       "      <td>1.3204</td>\n",
       "      <td>104.2367</td>\n",
       "      <td>0.1217</td>\n",
       "      <td>1.4882</td>\n",
       "      <td>-0.0124</td>\n",
       "      <td>-0.0033</td>\n",
       "      <td>...</td>\n",
       "      <td>7.320000</td>\n",
       "      <td>0.16300</td>\n",
       "      <td>530.5682</td>\n",
       "      <td>2.0253</td>\n",
       "      <td>9.33</td>\n",
       "      <td>0.1738</td>\n",
       "      <td>0.0103</td>\n",
       "      <td>0.020200</td>\n",
       "      <td>0.014900</td>\n",
       "      <td>73.843200</td>\n",
       "    </tr>\n",
       "    <tr>\n",
       "      <th>4</th>\n",
       "      <td>3032.24</td>\n",
       "      <td>2502.87</td>\n",
       "      <td>2233.3667</td>\n",
       "      <td>1326.5200</td>\n",
       "      <td>1.5334</td>\n",
       "      <td>100.3967</td>\n",
       "      <td>0.1235</td>\n",
       "      <td>1.5031</td>\n",
       "      <td>-0.0031</td>\n",
       "      <td>-0.0072</td>\n",
       "      <td>...</td>\n",
       "      <td>6.444985</td>\n",
       "      <td>0.14561</td>\n",
       "      <td>532.0155</td>\n",
       "      <td>2.0275</td>\n",
       "      <td>8.83</td>\n",
       "      <td>0.2224</td>\n",
       "      <td>0.4766</td>\n",
       "      <td>0.020200</td>\n",
       "      <td>0.014900</td>\n",
       "      <td>73.843200</td>\n",
       "    </tr>\n",
       "  </tbody>\n",
       "</table>\n",
       "<p>5 rows × 219 columns</p>\n",
       "</div>"
      ],
      "text/plain": [
       "         0        1          2          3       4         6       7       8  \\\n",
       "0  3030.93  2564.00  2187.7333  1411.1265  1.3602   97.6133  0.1242  1.5005   \n",
       "1  3095.78  2465.14  2230.4222  1463.6606  0.8294  102.3433  0.1247  1.4966   \n",
       "2  2932.61  2559.94  2186.4111  1698.0172  1.5102   95.4878  0.1241  1.4436   \n",
       "3  2988.72  2479.90  2199.0333   909.7926  1.3204  104.2367  0.1217  1.4882   \n",
       "4  3032.24  2502.87  2233.3667  1326.5200  1.5334  100.3967  0.1235  1.5031   \n",
       "\n",
       "        9      10  ...       564      565       570     571    572     573  \\\n",
       "0  0.0162 -0.0034  ...  6.444985  0.14561  533.8500  2.1113   8.95  0.3157   \n",
       "1 -0.0005 -0.0148  ...  6.444985  0.14561  535.0164  2.4335   5.92  0.2653   \n",
       "2  0.0041  0.0013  ...  1.100000  0.62190  535.0245  2.0293  11.21  0.1882   \n",
       "3 -0.0124 -0.0033  ...  7.320000  0.16300  530.5682  2.0253   9.33  0.1738   \n",
       "4 -0.0031 -0.0072  ...  6.444985  0.14561  532.0155  2.0275   8.83  0.2224   \n",
       "\n",
       "      583       586       587         589  \n",
       "0  0.0118  0.021458  0.016475   99.670066  \n",
       "1  0.0223  0.009600  0.020100  208.204500  \n",
       "2  0.0157  0.058400  0.048400   82.860200  \n",
       "3  0.0103  0.020200  0.014900   73.843200  \n",
       "4  0.4766  0.020200  0.014900   73.843200  \n",
       "\n",
       "[5 rows x 219 columns]"
      ]
     },
     "execution_count": 107,
     "metadata": {},
     "output_type": "execute_result"
    }
   ],
   "source": [
    "X.head()"
   ]
  },
  {
   "cell_type": "code",
   "execution_count": 108,
   "id": "7afdc6bc-75aa-468d-89a4-5c5f0ae7061d",
   "metadata": {},
   "outputs": [
    {
     "data": {
      "text/html": [
       "<div>\n",
       "<style scoped>\n",
       "    .dataframe tbody tr th:only-of-type {\n",
       "        vertical-align: middle;\n",
       "    }\n",
       "\n",
       "    .dataframe tbody tr th {\n",
       "        vertical-align: top;\n",
       "    }\n",
       "\n",
       "    .dataframe thead th {\n",
       "        text-align: right;\n",
       "    }\n",
       "</style>\n",
       "<table border=\"1\" class=\"dataframe\">\n",
       "  <thead>\n",
       "    <tr style=\"text-align: right;\">\n",
       "      <th></th>\n",
       "      <th>Pass/Fail</th>\n",
       "    </tr>\n",
       "  </thead>\n",
       "  <tbody>\n",
       "    <tr>\n",
       "      <th>0</th>\n",
       "      <td>-1</td>\n",
       "    </tr>\n",
       "    <tr>\n",
       "      <th>1</th>\n",
       "      <td>-1</td>\n",
       "    </tr>\n",
       "    <tr>\n",
       "      <th>2</th>\n",
       "      <td>1</td>\n",
       "    </tr>\n",
       "    <tr>\n",
       "      <th>3</th>\n",
       "      <td>-1</td>\n",
       "    </tr>\n",
       "    <tr>\n",
       "      <th>4</th>\n",
       "      <td>-1</td>\n",
       "    </tr>\n",
       "  </tbody>\n",
       "</table>\n",
       "</div>"
      ],
      "text/plain": [
       "   Pass/Fail\n",
       "0         -1\n",
       "1         -1\n",
       "2          1\n",
       "3         -1\n",
       "4         -1"
      ]
     },
     "execution_count": 108,
     "metadata": {},
     "output_type": "execute_result"
    }
   ],
   "source": [
    "y.head()"
   ]
  },
  {
   "cell_type": "markdown",
   "id": "d3fbfa3c-c865-465c-a691-beed78b62c28",
   "metadata": {},
   "source": [
    "## B. Check for target balancing and fix it if found imbalanced"
   ]
  },
  {
   "cell_type": "code",
   "execution_count": 109,
   "id": "233bb1af-4a3d-4a8d-94f0-81917a607251",
   "metadata": {},
   "outputs": [
    {
     "name": "stdout",
     "output_type": "stream",
     "text": [
      "Pass/Fail\n",
      "-1           1463\n",
      " 1            104\n",
      "dtype: int64\n"
     ]
    }
   ],
   "source": [
    "print(y.value_counts())"
   ]
  },
  {
   "cell_type": "code",
   "execution_count": 110,
   "id": "0ee411ee-31c1-40fb-ba89-b35d614b6b8e",
   "metadata": {},
   "outputs": [
    {
     "data": {
      "text/plain": [
       "Pass/Fail\n",
       "-1           1463\n",
       " 1           1463\n",
       "dtype: int64"
      ]
     },
     "execution_count": 110,
     "metadata": {},
     "output_type": "execute_result"
    }
   ],
   "source": [
    "from imblearn.over_sampling import SMOTE\n",
    "oversample=SMOTE()\n",
    "X,Y=oversample.fit_resample(X,y)\n",
    "Y.value_counts()"
   ]
  },
  {
   "cell_type": "markdown",
   "id": "04c2749f-4d68-4297-a7ba-51cfe865e85a",
   "metadata": {},
   "source": [
    "## C. Perform train-test split and standardise the data or vice versa if required"
   ]
  },
  {
   "cell_type": "code",
   "execution_count": 111,
   "id": "9384db74-408b-4f07-89a6-8e9a30cadb15",
   "metadata": {},
   "outputs": [
    {
     "data": {
      "text/html": [
       "<div>\n",
       "<style scoped>\n",
       "    .dataframe tbody tr th:only-of-type {\n",
       "        vertical-align: middle;\n",
       "    }\n",
       "\n",
       "    .dataframe tbody tr th {\n",
       "        vertical-align: top;\n",
       "    }\n",
       "\n",
       "    .dataframe thead th {\n",
       "        text-align: right;\n",
       "    }\n",
       "</style>\n",
       "<table border=\"1\" class=\"dataframe\">\n",
       "  <thead>\n",
       "    <tr style=\"text-align: right;\">\n",
       "      <th></th>\n",
       "      <th>0</th>\n",
       "      <th>1</th>\n",
       "      <th>2</th>\n",
       "      <th>3</th>\n",
       "      <th>4</th>\n",
       "      <th>6</th>\n",
       "      <th>7</th>\n",
       "      <th>8</th>\n",
       "      <th>9</th>\n",
       "      <th>10</th>\n",
       "      <th>...</th>\n",
       "      <th>564</th>\n",
       "      <th>565</th>\n",
       "      <th>570</th>\n",
       "      <th>571</th>\n",
       "      <th>572</th>\n",
       "      <th>573</th>\n",
       "      <th>583</th>\n",
       "      <th>586</th>\n",
       "      <th>587</th>\n",
       "      <th>589</th>\n",
       "    </tr>\n",
       "  </thead>\n",
       "  <tbody>\n",
       "    <tr>\n",
       "      <th>0</th>\n",
       "      <td>0.303750</td>\n",
       "      <td>0.947651</td>\n",
       "      <td>-0.465999</td>\n",
       "      <td>0.079211</td>\n",
       "      <td>-0.036271</td>\n",
       "      <td>-0.675140</td>\n",
       "      <td>0.327026</td>\n",
       "      <td>0.524000</td>\n",
       "      <td>1.344471</td>\n",
       "      <td>-0.420610</td>\n",
       "      <td>...</td>\n",
       "      <td>-0.032018</td>\n",
       "      <td>-0.099245</td>\n",
       "      <td>0.199153</td>\n",
       "      <td>0.029293</td>\n",
       "      <td>-0.207883</td>\n",
       "      <td>-0.049883</td>\n",
       "      <td>-0.281063</td>\n",
       "      <td>-0.022273</td>\n",
       "      <td>-0.067951</td>\n",
       "      <td>-0.004427</td>\n",
       "    </tr>\n",
       "    <tr>\n",
       "      <th>1</th>\n",
       "      <td>1.192926</td>\n",
       "      <td>-0.442705</td>\n",
       "      <td>1.105731</td>\n",
       "      <td>0.220341</td>\n",
       "      <td>-0.049195</td>\n",
       "      <td>0.234284</td>\n",
       "      <td>0.402482</td>\n",
       "      <td>0.462152</td>\n",
       "      <td>0.090688</td>\n",
       "      <td>-1.734014</td>\n",
       "      <td>...</td>\n",
       "      <td>-0.032018</td>\n",
       "      <td>-0.099245</td>\n",
       "      <td>0.254124</td>\n",
       "      <td>1.154726</td>\n",
       "      <td>-0.250978</td>\n",
       "      <td>-0.307125</td>\n",
       "      <td>0.520744</td>\n",
       "      <td>-1.083597</td>\n",
       "      <td>0.375512</td>\n",
       "      <td>1.309319</td>\n",
       "    </tr>\n",
       "    <tr>\n",
       "      <th>2</th>\n",
       "      <td>-1.044342</td>\n",
       "      <td>0.890552</td>\n",
       "      <td>-0.514680</td>\n",
       "      <td>0.849929</td>\n",
       "      <td>-0.032619</td>\n",
       "      <td>-1.083804</td>\n",
       "      <td>0.311935</td>\n",
       "      <td>-0.378341</td>\n",
       "      <td>0.436042</td>\n",
       "      <td>0.120881</td>\n",
       "      <td>...</td>\n",
       "      <td>-2.463225</td>\n",
       "      <td>6.082150</td>\n",
       "      <td>0.254506</td>\n",
       "      <td>-0.257130</td>\n",
       "      <td>-0.175739</td>\n",
       "      <td>-0.700643</td>\n",
       "      <td>0.016751</td>\n",
       "      <td>3.283982</td>\n",
       "      <td>3.837489</td>\n",
       "      <td>-0.207900</td>\n",
       "    </tr>\n",
       "    <tr>\n",
       "      <th>3</th>\n",
       "      <td>-0.275003</td>\n",
       "      <td>-0.235122</td>\n",
       "      <td>-0.049953</td>\n",
       "      <td>-1.267598</td>\n",
       "      <td>-0.037240</td>\n",
       "      <td>0.598323</td>\n",
       "      <td>-0.050251</td>\n",
       "      <td>0.328942</td>\n",
       "      <td>-0.802726</td>\n",
       "      <td>-0.409089</td>\n",
       "      <td>...</td>\n",
       "      <td>0.365990</td>\n",
       "      <td>0.126453</td>\n",
       "      <td>0.044484</td>\n",
       "      <td>-0.271102</td>\n",
       "      <td>-0.202478</td>\n",
       "      <td>-0.774140</td>\n",
       "      <td>-0.395606</td>\n",
       "      <td>-0.134901</td>\n",
       "      <td>-0.260611</td>\n",
       "      <td>-0.317046</td>\n",
       "    </tr>\n",
       "    <tr>\n",
       "      <th>4</th>\n",
       "      <td>0.321712</td>\n",
       "      <td>0.087926</td>\n",
       "      <td>1.214142</td>\n",
       "      <td>-0.148080</td>\n",
       "      <td>-0.032054</td>\n",
       "      <td>-0.139983</td>\n",
       "      <td>0.221389</td>\n",
       "      <td>0.565232</td>\n",
       "      <td>-0.104512</td>\n",
       "      <td>-0.858411</td>\n",
       "      <td>...</td>\n",
       "      <td>-0.032018</td>\n",
       "      <td>-0.099245</td>\n",
       "      <td>0.112694</td>\n",
       "      <td>-0.263417</td>\n",
       "      <td>-0.209589</td>\n",
       "      <td>-0.526086</td>\n",
       "      <td>35.212251</td>\n",
       "      <td>-0.134901</td>\n",
       "      <td>-0.260611</td>\n",
       "      <td>-0.317046</td>\n",
       "    </tr>\n",
       "  </tbody>\n",
       "</table>\n",
       "<p>5 rows × 219 columns</p>\n",
       "</div>"
      ],
      "text/plain": [
       "          0         1         2         3         4         6         7  \\\n",
       "0  0.303750  0.947651 -0.465999  0.079211 -0.036271 -0.675140  0.327026   \n",
       "1  1.192926 -0.442705  1.105731  0.220341 -0.049195  0.234284  0.402482   \n",
       "2 -1.044342  0.890552 -0.514680  0.849929 -0.032619 -1.083804  0.311935   \n",
       "3 -0.275003 -0.235122 -0.049953 -1.267598 -0.037240  0.598323 -0.050251   \n",
       "4  0.321712  0.087926  1.214142 -0.148080 -0.032054 -0.139983  0.221389   \n",
       "\n",
       "          8         9        10  ...       564       565       570       571  \\\n",
       "0  0.524000  1.344471 -0.420610  ... -0.032018 -0.099245  0.199153  0.029293   \n",
       "1  0.462152  0.090688 -1.734014  ... -0.032018 -0.099245  0.254124  1.154726   \n",
       "2 -0.378341  0.436042  0.120881  ... -2.463225  6.082150  0.254506 -0.257130   \n",
       "3  0.328942 -0.802726 -0.409089  ...  0.365990  0.126453  0.044484 -0.271102   \n",
       "4  0.565232 -0.104512 -0.858411  ... -0.032018 -0.099245  0.112694 -0.263417   \n",
       "\n",
       "        572       573        583       586       587       589  \n",
       "0 -0.207883 -0.049883  -0.281063 -0.022273 -0.067951 -0.004427  \n",
       "1 -0.250978 -0.307125   0.520744 -1.083597  0.375512  1.309319  \n",
       "2 -0.175739 -0.700643   0.016751  3.283982  3.837489 -0.207900  \n",
       "3 -0.202478 -0.774140  -0.395606 -0.134901 -0.260611 -0.317046  \n",
       "4 -0.209589 -0.526086  35.212251 -0.134901 -0.260611 -0.317046  \n",
       "\n",
       "[5 rows x 219 columns]"
      ]
     },
     "execution_count": 111,
     "metadata": {},
     "output_type": "execute_result"
    }
   ],
   "source": [
    "from scipy.stats import zscore\n",
    "XScaled=X.apply(zscore)\n",
    "XScaled.head()"
   ]
  },
  {
   "cell_type": "code",
   "execution_count": 112,
   "id": "2584c7db-98e9-4119-b03c-158bb923265d",
   "metadata": {},
   "outputs": [],
   "source": [
    "from sklearn.model_selection import train_test_split\n",
    "X_train, X_test, y_train, y_test = train_test_split(XScaled, Y, train_size = .80, random_state=0)"
   ]
  },
  {
   "cell_type": "markdown",
   "id": "66a42836-3b25-46e4-8ab3-1ecd1579144b",
   "metadata": {},
   "source": [
    "## D. Check if the train and test data have similar statistical characteristics when compared with original data"
   ]
  },
  {
   "cell_type": "code",
   "execution_count": 113,
   "id": "2ca8f068-62dc-45fa-87f6-0df4eb083b21",
   "metadata": {},
   "outputs": [
    {
     "data": {
      "text/html": [
       "<div>\n",
       "<style scoped>\n",
       "    .dataframe tbody tr th:only-of-type {\n",
       "        vertical-align: middle;\n",
       "    }\n",
       "\n",
       "    .dataframe tbody tr th {\n",
       "        vertical-align: top;\n",
       "    }\n",
       "\n",
       "    .dataframe thead th {\n",
       "        text-align: right;\n",
       "    }\n",
       "</style>\n",
       "<table border=\"1\" class=\"dataframe\">\n",
       "  <thead>\n",
       "    <tr style=\"text-align: right;\">\n",
       "      <th></th>\n",
       "      <th>0</th>\n",
       "      <th>1</th>\n",
       "      <th>2</th>\n",
       "      <th>3</th>\n",
       "      <th>4</th>\n",
       "      <th>6</th>\n",
       "      <th>7</th>\n",
       "      <th>8</th>\n",
       "      <th>9</th>\n",
       "      <th>10</th>\n",
       "      <th>...</th>\n",
       "      <th>564</th>\n",
       "      <th>565</th>\n",
       "      <th>570</th>\n",
       "      <th>571</th>\n",
       "      <th>572</th>\n",
       "      <th>573</th>\n",
       "      <th>583</th>\n",
       "      <th>586</th>\n",
       "      <th>587</th>\n",
       "      <th>589</th>\n",
       "    </tr>\n",
       "  </thead>\n",
       "  <tbody>\n",
       "    <tr>\n",
       "      <th>min</th>\n",
       "      <td>2743.240000</td>\n",
       "      <td>2158.750000</td>\n",
       "      <td>2060.660000</td>\n",
       "      <td>0.000000</td>\n",
       "      <td>0.681500</td>\n",
       "      <td>82.131100</td>\n",
       "      <td>0.000000</td>\n",
       "      <td>1.191000</td>\n",
       "      <td>-0.053400</td>\n",
       "      <td>-0.034900</td>\n",
       "      <td>...</td>\n",
       "      <td>0.970000</td>\n",
       "      <td>0.022400</td>\n",
       "      <td>317.196400</td>\n",
       "      <td>0.980200</td>\n",
       "      <td>3.540000</td>\n",
       "      <td>0.066700</td>\n",
       "      <td>0.0060</td>\n",
       "      <td>-0.016900</td>\n",
       "      <td>0.003200</td>\n",
       "      <td>0.000000</td>\n",
       "    </tr>\n",
       "    <tr>\n",
       "      <th>25%</th>\n",
       "      <td>2960.587175</td>\n",
       "      <td>2457.536272</td>\n",
       "      <td>2182.622200</td>\n",
       "      <td>1111.476400</td>\n",
       "      <td>1.075174</td>\n",
       "      <td>98.712200</td>\n",
       "      <td>0.121195</td>\n",
       "      <td>1.427517</td>\n",
       "      <td>-0.009891</td>\n",
       "      <td>-0.004894</td>\n",
       "      <td>...</td>\n",
       "      <td>4.980000</td>\n",
       "      <td>0.095631</td>\n",
       "      <td>530.997453</td>\n",
       "      <td>1.994300</td>\n",
       "      <td>7.710000</td>\n",
       "      <td>0.234314</td>\n",
       "      <td>0.0118</td>\n",
       "      <td>0.014411</td>\n",
       "      <td>0.011300</td>\n",
       "      <td>48.705907</td>\n",
       "    </tr>\n",
       "    <tr>\n",
       "      <th>50%</th>\n",
       "      <td>2998.035000</td>\n",
       "      <td>2499.770000</td>\n",
       "      <td>2198.698308</td>\n",
       "      <td>1302.660700</td>\n",
       "      <td>1.309595</td>\n",
       "      <td>101.362425</td>\n",
       "      <td>0.122277</td>\n",
       "      <td>1.466131</td>\n",
       "      <td>-0.001900</td>\n",
       "      <td>0.000804</td>\n",
       "      <td>...</td>\n",
       "      <td>6.390000</td>\n",
       "      <td>0.145610</td>\n",
       "      <td>532.490194</td>\n",
       "      <td>2.144062</td>\n",
       "      <td>8.865433</td>\n",
       "      <td>0.291833</td>\n",
       "      <td>0.0141</td>\n",
       "      <td>0.020800</td>\n",
       "      <td>0.015773</td>\n",
       "      <td>75.744454</td>\n",
       "    </tr>\n",
       "    <tr>\n",
       "      <th>75%</th>\n",
       "      <td>3049.178807</td>\n",
       "      <td>2534.478138</td>\n",
       "      <td>2215.790906</td>\n",
       "      <td>1578.102105</td>\n",
       "      <td>1.489000</td>\n",
       "      <td>103.884833</td>\n",
       "      <td>0.123556</td>\n",
       "      <td>1.510726</td>\n",
       "      <td>0.005927</td>\n",
       "      <td>0.005700</td>\n",
       "      <td>...</td>\n",
       "      <td>7.470579</td>\n",
       "      <td>0.178265</td>\n",
       "      <td>534.273205</td>\n",
       "      <td>2.302658</td>\n",
       "      <td>10.095075</td>\n",
       "      <td>0.360600</td>\n",
       "      <td>0.0168</td>\n",
       "      <td>0.027669</td>\n",
       "      <td>0.021000</td>\n",
       "      <td>121.653250</td>\n",
       "    </tr>\n",
       "    <tr>\n",
       "      <th>max</th>\n",
       "      <td>3356.350000</td>\n",
       "      <td>2846.440000</td>\n",
       "      <td>2315.266700</td>\n",
       "      <td>3715.041700</td>\n",
       "      <td>1114.536600</td>\n",
       "      <td>129.252200</td>\n",
       "      <td>0.128600</td>\n",
       "      <td>1.656400</td>\n",
       "      <td>0.074900</td>\n",
       "      <td>0.053000</td>\n",
       "      <td>...</td>\n",
       "      <td>32.580000</td>\n",
       "      <td>0.689200</td>\n",
       "      <td>589.508200</td>\n",
       "      <td>2.739500</td>\n",
       "      <td>454.560000</td>\n",
       "      <td>2.196700</td>\n",
       "      <td>0.4766</td>\n",
       "      <td>0.102800</td>\n",
       "      <td>0.079900</td>\n",
       "      <td>737.304800</td>\n",
       "    </tr>\n",
       "  </tbody>\n",
       "</table>\n",
       "<p>5 rows × 219 columns</p>\n",
       "</div>"
      ],
      "text/plain": [
       "               0            1            2            3            4  \\\n",
       "min  2743.240000  2158.750000  2060.660000     0.000000     0.681500   \n",
       "25%  2960.587175  2457.536272  2182.622200  1111.476400     1.075174   \n",
       "50%  2998.035000  2499.770000  2198.698308  1302.660700     1.309595   \n",
       "75%  3049.178807  2534.478138  2215.790906  1578.102105     1.489000   \n",
       "max  3356.350000  2846.440000  2315.266700  3715.041700  1114.536600   \n",
       "\n",
       "              6         7         8         9        10  ...        564  \\\n",
       "min   82.131100  0.000000  1.191000 -0.053400 -0.034900  ...   0.970000   \n",
       "25%   98.712200  0.121195  1.427517 -0.009891 -0.004894  ...   4.980000   \n",
       "50%  101.362425  0.122277  1.466131 -0.001900  0.000804  ...   6.390000   \n",
       "75%  103.884833  0.123556  1.510726  0.005927  0.005700  ...   7.470579   \n",
       "max  129.252200  0.128600  1.656400  0.074900  0.053000  ...  32.580000   \n",
       "\n",
       "          565         570       571         572       573     583       586  \\\n",
       "min  0.022400  317.196400  0.980200    3.540000  0.066700  0.0060 -0.016900   \n",
       "25%  0.095631  530.997453  1.994300    7.710000  0.234314  0.0118  0.014411   \n",
       "50%  0.145610  532.490194  2.144062    8.865433  0.291833  0.0141  0.020800   \n",
       "75%  0.178265  534.273205  2.302658   10.095075  0.360600  0.0168  0.027669   \n",
       "max  0.689200  589.508200  2.739500  454.560000  2.196700  0.4766  0.102800   \n",
       "\n",
       "          587         589  \n",
       "min  0.003200    0.000000  \n",
       "25%  0.011300   48.705907  \n",
       "50%  0.015773   75.744454  \n",
       "75%  0.021000  121.653250  \n",
       "max  0.079900  737.304800  \n",
       "\n",
       "[5 rows x 219 columns]"
      ]
     },
     "execution_count": 113,
     "metadata": {},
     "output_type": "execute_result"
    }
   ],
   "source": [
    "# 5 point summary of the original data\n",
    "X.describe().loc[['min','25%','50%','75%','max']]"
   ]
  },
  {
   "cell_type": "code",
   "execution_count": 114,
   "id": "ce2ffc40-4b76-477f-a424-7a82f90ff061",
   "metadata": {},
   "outputs": [
    {
     "data": {
      "text/html": [
       "<div>\n",
       "<style scoped>\n",
       "    .dataframe tbody tr th:only-of-type {\n",
       "        vertical-align: middle;\n",
       "    }\n",
       "\n",
       "    .dataframe tbody tr th {\n",
       "        vertical-align: top;\n",
       "    }\n",
       "\n",
       "    .dataframe thead th {\n",
       "        text-align: right;\n",
       "    }\n",
       "</style>\n",
       "<table border=\"1\" class=\"dataframe\">\n",
       "  <thead>\n",
       "    <tr style=\"text-align: right;\">\n",
       "      <th></th>\n",
       "      <th>0</th>\n",
       "      <th>1</th>\n",
       "      <th>2</th>\n",
       "      <th>3</th>\n",
       "      <th>4</th>\n",
       "      <th>6</th>\n",
       "      <th>7</th>\n",
       "      <th>8</th>\n",
       "      <th>9</th>\n",
       "      <th>10</th>\n",
       "      <th>...</th>\n",
       "      <th>564</th>\n",
       "      <th>565</th>\n",
       "      <th>570</th>\n",
       "      <th>571</th>\n",
       "      <th>572</th>\n",
       "      <th>573</th>\n",
       "      <th>583</th>\n",
       "      <th>586</th>\n",
       "      <th>587</th>\n",
       "      <th>589</th>\n",
       "    </tr>\n",
       "  </thead>\n",
       "  <tbody>\n",
       "    <tr>\n",
       "      <th>count</th>\n",
       "      <td>2340.000000</td>\n",
       "      <td>2340.000000</td>\n",
       "      <td>2340.000000</td>\n",
       "      <td>2340.000000</td>\n",
       "      <td>2340.000000</td>\n",
       "      <td>2340.000000</td>\n",
       "      <td>2340.000000</td>\n",
       "      <td>2340.000000</td>\n",
       "      <td>2340.000000</td>\n",
       "      <td>2340.000000</td>\n",
       "      <td>...</td>\n",
       "      <td>2340.000000</td>\n",
       "      <td>2340.000000</td>\n",
       "      <td>2340.000000</td>\n",
       "      <td>2340.000000</td>\n",
       "      <td>2340.000000</td>\n",
       "      <td>2340.000000</td>\n",
       "      <td>2340.000000</td>\n",
       "      <td>2340.000000</td>\n",
       "      <td>2340.000000</td>\n",
       "      <td>2340.000000</td>\n",
       "    </tr>\n",
       "    <tr>\n",
       "      <th>mean</th>\n",
       "      <td>0.000988</td>\n",
       "      <td>0.004691</td>\n",
       "      <td>-0.010001</td>\n",
       "      <td>-0.010020</td>\n",
       "      <td>0.009438</td>\n",
       "      <td>-0.000620</td>\n",
       "      <td>-0.012190</td>\n",
       "      <td>0.018574</td>\n",
       "      <td>-0.012164</td>\n",
       "      <td>-0.012249</td>\n",
       "      <td>...</td>\n",
       "      <td>-0.001099</td>\n",
       "      <td>0.018057</td>\n",
       "      <td>-0.010527</td>\n",
       "      <td>0.007940</td>\n",
       "      <td>0.001426</td>\n",
       "      <td>-0.001827</td>\n",
       "      <td>0.007871</td>\n",
       "      <td>0.003421</td>\n",
       "      <td>0.006602</td>\n",
       "      <td>-0.002435</td>\n",
       "    </tr>\n",
       "    <tr>\n",
       "      <th>std</th>\n",
       "      <td>1.011123</td>\n",
       "      <td>0.985903</td>\n",
       "      <td>0.982061</td>\n",
       "      <td>0.981078</td>\n",
       "      <td>1.118255</td>\n",
       "      <td>0.994716</td>\n",
       "      <td>1.109311</td>\n",
       "      <td>0.984026</td>\n",
       "      <td>0.991069</td>\n",
       "      <td>1.009566</td>\n",
       "      <td>...</td>\n",
       "      <td>0.971454</td>\n",
       "      <td>1.022435</td>\n",
       "      <td>1.055517</td>\n",
       "      <td>0.994409</td>\n",
       "      <td>0.998569</td>\n",
       "      <td>0.965238</td>\n",
       "      <td>1.102499</td>\n",
       "      <td>1.000731</td>\n",
       "      <td>1.001266</td>\n",
       "      <td>0.997663</td>\n",
       "    </tr>\n",
       "    <tr>\n",
       "      <th>min</th>\n",
       "      <td>-3.640845</td>\n",
       "      <td>-4.751740</td>\n",
       "      <td>-5.144613</td>\n",
       "      <td>-3.711711</td>\n",
       "      <td>-0.052797</td>\n",
       "      <td>-3.651859</td>\n",
       "      <td>-18.416120</td>\n",
       "      <td>-4.384166</td>\n",
       "      <td>-3.880876</td>\n",
       "      <td>-4.049752</td>\n",
       "      <td>...</td>\n",
       "      <td>-2.463225</td>\n",
       "      <td>-1.698283</td>\n",
       "      <td>-10.011539</td>\n",
       "      <td>-3.921600</td>\n",
       "      <td>-0.266339</td>\n",
       "      <td>-1.320778</td>\n",
       "      <td>-0.723965</td>\n",
       "      <td>-3.455335</td>\n",
       "      <td>-1.691888</td>\n",
       "      <td>-1.210874</td>\n",
       "    </tr>\n",
       "    <tr>\n",
       "      <th>25%</th>\n",
       "      <td>-0.665911</td>\n",
       "      <td>-0.532087</td>\n",
       "      <td>-0.638936</td>\n",
       "      <td>-0.725855</td>\n",
       "      <td>-0.043099</td>\n",
       "      <td>-0.469625</td>\n",
       "      <td>-0.125707</td>\n",
       "      <td>-0.618275</td>\n",
       "      <td>-0.622542</td>\n",
       "      <td>-0.605475</td>\n",
       "      <td>...</td>\n",
       "      <td>-0.698377</td>\n",
       "      <td>-0.748852</td>\n",
       "      <td>0.064877</td>\n",
       "      <td>-0.379384</td>\n",
       "      <td>-0.225948</td>\n",
       "      <td>-0.472691</td>\n",
       "      <td>-0.281063</td>\n",
       "      <td>-0.650911</td>\n",
       "      <td>-0.688771</td>\n",
       "      <td>-0.617664</td>\n",
       "    </tr>\n",
       "    <tr>\n",
       "      <th>50%</th>\n",
       "      <td>-0.144994</td>\n",
       "      <td>0.051289</td>\n",
       "      <td>-0.062663</td>\n",
       "      <td>-0.217475</td>\n",
       "      <td>-0.037328</td>\n",
       "      <td>0.043734</td>\n",
       "      <td>0.036133</td>\n",
       "      <td>0.008097</td>\n",
       "      <td>-0.025259</td>\n",
       "      <td>0.053403</td>\n",
       "      <td>...</td>\n",
       "      <td>-0.057028</td>\n",
       "      <td>-0.099245</td>\n",
       "      <td>0.134380</td>\n",
       "      <td>0.144470</td>\n",
       "      <td>-0.209576</td>\n",
       "      <td>-0.166899</td>\n",
       "      <td>-0.105717</td>\n",
       "      <td>-0.058268</td>\n",
       "      <td>-0.140662</td>\n",
       "      <td>-0.295600</td>\n",
       "    </tr>\n",
       "    <tr>\n",
       "      <th>75%</th>\n",
       "      <td>0.544012</td>\n",
       "      <td>0.532126</td>\n",
       "      <td>0.556730</td>\n",
       "      <td>0.512652</td>\n",
       "      <td>-0.032831</td>\n",
       "      <td>0.519003</td>\n",
       "      <td>0.226139</td>\n",
       "      <td>0.695786</td>\n",
       "      <td>0.548657</td>\n",
       "      <td>0.608595</td>\n",
       "      <td>...</td>\n",
       "      <td>0.440256</td>\n",
       "      <td>0.350976</td>\n",
       "      <td>0.220321</td>\n",
       "      <td>0.707853</td>\n",
       "      <td>-0.192522</td>\n",
       "      <td>0.180441</td>\n",
       "      <td>0.106530</td>\n",
       "      <td>0.536345</td>\n",
       "      <td>0.485610</td>\n",
       "      <td>0.278644</td>\n",
       "    </tr>\n",
       "    <tr>\n",
       "      <th>max</th>\n",
       "      <td>4.765671</td>\n",
       "      <td>4.919856</td>\n",
       "      <td>4.229555</td>\n",
       "      <td>6.268567</td>\n",
       "      <td>27.068461</td>\n",
       "      <td>5.407983</td>\n",
       "      <td>0.991035</td>\n",
       "      <td>2.956674</td>\n",
       "      <td>5.751482</td>\n",
       "      <td>6.077283</td>\n",
       "      <td>...</td>\n",
       "      <td>5.956190</td>\n",
       "      <td>6.955583</td>\n",
       "      <td>2.822274</td>\n",
       "      <td>2.223574</td>\n",
       "      <td>6.130029</td>\n",
       "      <td>9.550733</td>\n",
       "      <td>35.212251</td>\n",
       "      <td>7.257763</td>\n",
       "      <td>7.690926</td>\n",
       "      <td>7.713766</td>\n",
       "    </tr>\n",
       "  </tbody>\n",
       "</table>\n",
       "<p>8 rows × 219 columns</p>\n",
       "</div>"
      ],
      "text/plain": [
       "                 0            1            2            3            4  \\\n",
       "count  2340.000000  2340.000000  2340.000000  2340.000000  2340.000000   \n",
       "mean      0.000988     0.004691    -0.010001    -0.010020     0.009438   \n",
       "std       1.011123     0.985903     0.982061     0.981078     1.118255   \n",
       "min      -3.640845    -4.751740    -5.144613    -3.711711    -0.052797   \n",
       "25%      -0.665911    -0.532087    -0.638936    -0.725855    -0.043099   \n",
       "50%      -0.144994     0.051289    -0.062663    -0.217475    -0.037328   \n",
       "75%       0.544012     0.532126     0.556730     0.512652    -0.032831   \n",
       "max       4.765671     4.919856     4.229555     6.268567    27.068461   \n",
       "\n",
       "                 6            7            8            9           10  ...  \\\n",
       "count  2340.000000  2340.000000  2340.000000  2340.000000  2340.000000  ...   \n",
       "mean     -0.000620    -0.012190     0.018574    -0.012164    -0.012249  ...   \n",
       "std       0.994716     1.109311     0.984026     0.991069     1.009566  ...   \n",
       "min      -3.651859   -18.416120    -4.384166    -3.880876    -4.049752  ...   \n",
       "25%      -0.469625    -0.125707    -0.618275    -0.622542    -0.605475  ...   \n",
       "50%       0.043734     0.036133     0.008097    -0.025259     0.053403  ...   \n",
       "75%       0.519003     0.226139     0.695786     0.548657     0.608595  ...   \n",
       "max       5.407983     0.991035     2.956674     5.751482     6.077283  ...   \n",
       "\n",
       "               564          565          570          571          572  \\\n",
       "count  2340.000000  2340.000000  2340.000000  2340.000000  2340.000000   \n",
       "mean     -0.001099     0.018057    -0.010527     0.007940     0.001426   \n",
       "std       0.971454     1.022435     1.055517     0.994409     0.998569   \n",
       "min      -2.463225    -1.698283   -10.011539    -3.921600    -0.266339   \n",
       "25%      -0.698377    -0.748852     0.064877    -0.379384    -0.225948   \n",
       "50%      -0.057028    -0.099245     0.134380     0.144470    -0.209576   \n",
       "75%       0.440256     0.350976     0.220321     0.707853    -0.192522   \n",
       "max       5.956190     6.955583     2.822274     2.223574     6.130029   \n",
       "\n",
       "               573          583          586          587          589  \n",
       "count  2340.000000  2340.000000  2340.000000  2340.000000  2340.000000  \n",
       "mean     -0.001827     0.007871     0.003421     0.006602    -0.002435  \n",
       "std       0.965238     1.102499     1.000731     1.001266     0.997663  \n",
       "min      -1.320778    -0.723965    -3.455335    -1.691888    -1.210874  \n",
       "25%      -0.472691    -0.281063    -0.650911    -0.688771    -0.617664  \n",
       "50%      -0.166899    -0.105717    -0.058268    -0.140662    -0.295600  \n",
       "75%       0.180441     0.106530     0.536345     0.485610     0.278644  \n",
       "max       9.550733    35.212251     7.257763     7.690926     7.713766  \n",
       "\n",
       "[8 rows x 219 columns]"
      ]
     },
     "execution_count": 114,
     "metadata": {},
     "output_type": "execute_result"
    }
   ],
   "source": [
    "# summary of the Training data\n",
    "X_train.describe()"
   ]
  },
  {
   "cell_type": "code",
   "execution_count": 115,
   "id": "9d0a211c-8de1-4515-b44e-fb6b3e9f7b28",
   "metadata": {},
   "outputs": [
    {
     "data": {
      "text/html": [
       "<div>\n",
       "<style scoped>\n",
       "    .dataframe tbody tr th:only-of-type {\n",
       "        vertical-align: middle;\n",
       "    }\n",
       "\n",
       "    .dataframe tbody tr th {\n",
       "        vertical-align: top;\n",
       "    }\n",
       "\n",
       "    .dataframe thead th {\n",
       "        text-align: right;\n",
       "    }\n",
       "</style>\n",
       "<table border=\"1\" class=\"dataframe\">\n",
       "  <thead>\n",
       "    <tr style=\"text-align: right;\">\n",
       "      <th></th>\n",
       "      <th>0</th>\n",
       "      <th>1</th>\n",
       "      <th>2</th>\n",
       "      <th>3</th>\n",
       "      <th>4</th>\n",
       "      <th>6</th>\n",
       "      <th>7</th>\n",
       "      <th>8</th>\n",
       "      <th>9</th>\n",
       "      <th>10</th>\n",
       "      <th>...</th>\n",
       "      <th>564</th>\n",
       "      <th>565</th>\n",
       "      <th>570</th>\n",
       "      <th>571</th>\n",
       "      <th>572</th>\n",
       "      <th>573</th>\n",
       "      <th>583</th>\n",
       "      <th>586</th>\n",
       "      <th>587</th>\n",
       "      <th>589</th>\n",
       "    </tr>\n",
       "  </thead>\n",
       "  <tbody>\n",
       "    <tr>\n",
       "      <th>count</th>\n",
       "      <td>586.000000</td>\n",
       "      <td>586.000000</td>\n",
       "      <td>586.000000</td>\n",
       "      <td>586.000000</td>\n",
       "      <td>586.000000</td>\n",
       "      <td>586.000000</td>\n",
       "      <td>586.000000</td>\n",
       "      <td>586.000000</td>\n",
       "      <td>586.000000</td>\n",
       "      <td>586.000000</td>\n",
       "      <td>...</td>\n",
       "      <td>586.000000</td>\n",
       "      <td>586.000000</td>\n",
       "      <td>586.000000</td>\n",
       "      <td>586.000000</td>\n",
       "      <td>586.000000</td>\n",
       "      <td>586.000000</td>\n",
       "      <td>586.000000</td>\n",
       "      <td>586.000000</td>\n",
       "      <td>586.000000</td>\n",
       "      <td>586.000000</td>\n",
       "    </tr>\n",
       "    <tr>\n",
       "      <th>mean</th>\n",
       "      <td>-0.003944</td>\n",
       "      <td>-0.018733</td>\n",
       "      <td>0.039936</td>\n",
       "      <td>0.040013</td>\n",
       "      <td>-0.037687</td>\n",
       "      <td>0.002474</td>\n",
       "      <td>0.048678</td>\n",
       "      <td>-0.074167</td>\n",
       "      <td>0.048571</td>\n",
       "      <td>0.048910</td>\n",
       "      <td>...</td>\n",
       "      <td>0.004387</td>\n",
       "      <td>-0.072107</td>\n",
       "      <td>0.042036</td>\n",
       "      <td>-0.031707</td>\n",
       "      <td>-0.005694</td>\n",
       "      <td>0.007296</td>\n",
       "      <td>-0.031429</td>\n",
       "      <td>-0.013661</td>\n",
       "      <td>-0.026361</td>\n",
       "      <td>0.009724</td>\n",
       "    </tr>\n",
       "    <tr>\n",
       "      <th>std</th>\n",
       "      <td>0.956013</td>\n",
       "      <td>1.055894</td>\n",
       "      <td>1.069385</td>\n",
       "      <td>1.072984</td>\n",
       "      <td>0.009547</td>\n",
       "      <td>1.022521</td>\n",
       "      <td>0.280293</td>\n",
       "      <td>1.059835</td>\n",
       "      <td>1.035163</td>\n",
       "      <td>0.961022</td>\n",
       "      <td>...</td>\n",
       "      <td>1.108337</td>\n",
       "      <td>0.903045</td>\n",
       "      <td>0.738199</td>\n",
       "      <td>1.023106</td>\n",
       "      <td>1.007379</td>\n",
       "      <td>1.129822</td>\n",
       "      <td>0.374877</td>\n",
       "      <td>0.998667</td>\n",
       "      <td>0.996201</td>\n",
       "      <td>1.010922</td>\n",
       "    </tr>\n",
       "    <tr>\n",
       "      <th>min</th>\n",
       "      <td>-2.632107</td>\n",
       "      <td>-4.693796</td>\n",
       "      <td>-5.144613</td>\n",
       "      <td>-1.801575</td>\n",
       "      <td>-0.052797</td>\n",
       "      <td>-3.651859</td>\n",
       "      <td>-0.910444</td>\n",
       "      <td>-4.233512</td>\n",
       "      <td>-2.822293</td>\n",
       "      <td>-3.358487</td>\n",
       "      <td>...</td>\n",
       "      <td>-2.522356</td>\n",
       "      <td>-1.695687</td>\n",
       "      <td>-9.315659</td>\n",
       "      <td>-3.844056</td>\n",
       "      <td>-0.284829</td>\n",
       "      <td>-1.320778</td>\n",
       "      <td>-0.662875</td>\n",
       "      <td>-2.363441</td>\n",
       "      <td>-1.533593</td>\n",
       "      <td>-1.210874</td>\n",
       "    </tr>\n",
       "    <tr>\n",
       "      <th>25%</th>\n",
       "      <td>-0.649964</td>\n",
       "      <td>-0.624182</td>\n",
       "      <td>-0.703066</td>\n",
       "      <td>-0.723181</td>\n",
       "      <td>-0.043613</td>\n",
       "      <td>-0.400718</td>\n",
       "      <td>-0.132529</td>\n",
       "      <td>-0.741498</td>\n",
       "      <td>-0.560103</td>\n",
       "      <td>-0.535821</td>\n",
       "      <td>...</td>\n",
       "      <td>-0.698377</td>\n",
       "      <td>-0.744142</td>\n",
       "      <td>0.063946</td>\n",
       "      <td>-0.413615</td>\n",
       "      <td>-0.224666</td>\n",
       "      <td>-0.454783</td>\n",
       "      <td>-0.281063</td>\n",
       "      <td>-0.658208</td>\n",
       "      <td>-0.746878</td>\n",
       "      <td>-0.641112</td>\n",
       "    </tr>\n",
       "    <tr>\n",
       "      <th>50%</th>\n",
       "      <td>-0.167369</td>\n",
       "      <td>0.012895</td>\n",
       "      <td>-0.061407</td>\n",
       "      <td>-0.197446</td>\n",
       "      <td>-0.037922</td>\n",
       "      <td>0.074491</td>\n",
       "      <td>0.040296</td>\n",
       "      <td>-0.095159</td>\n",
       "      <td>0.025019</td>\n",
       "      <td>0.107648</td>\n",
       "      <td>...</td>\n",
       "      <td>-0.053946</td>\n",
       "      <td>-0.112377</td>\n",
       "      <td>0.136428</td>\n",
       "      <td>0.137575</td>\n",
       "      <td>-0.207477</td>\n",
       "      <td>-0.176889</td>\n",
       "      <td>-0.091871</td>\n",
       "      <td>-0.131625</td>\n",
       "      <td>-0.219084</td>\n",
       "      <td>-0.277787</td>\n",
       "    </tr>\n",
       "    <tr>\n",
       "      <th>75%</th>\n",
       "      <td>0.579312</td>\n",
       "      <td>0.534349</td>\n",
       "      <td>0.613668</td>\n",
       "      <td>0.552470</td>\n",
       "      <td>-0.034167</td>\n",
       "      <td>0.563503</td>\n",
       "      <td>0.236480</td>\n",
       "      <td>0.572741</td>\n",
       "      <td>0.690784</td>\n",
       "      <td>0.685415</td>\n",
       "      <td>...</td>\n",
       "      <td>0.395522</td>\n",
       "      <td>0.171552</td>\n",
       "      <td>0.214126</td>\n",
       "      <td>0.650841</td>\n",
       "      <td>-0.189393</td>\n",
       "      <td>0.177245</td>\n",
       "      <td>0.092094</td>\n",
       "      <td>0.509495</td>\n",
       "      <td>0.473232</td>\n",
       "      <td>0.194555</td>\n",
       "    </tr>\n",
       "    <tr>\n",
       "      <th>max</th>\n",
       "      <td>4.540532</td>\n",
       "      <td>4.821690</td>\n",
       "      <td>4.229555</td>\n",
       "      <td>5.772096</td>\n",
       "      <td>0.032803</td>\n",
       "      <td>5.407983</td>\n",
       "      <td>0.840124</td>\n",
       "      <td>2.996320</td>\n",
       "      <td>3.761946</td>\n",
       "      <td>3.243096</td>\n",
       "      <td>...</td>\n",
       "      <td>11.855693</td>\n",
       "      <td>5.571719</td>\n",
       "      <td>0.494737</td>\n",
       "      <td>2.223574</td>\n",
       "      <td>6.005436</td>\n",
       "      <td>9.550733</td>\n",
       "      <td>2.250459</td>\n",
       "      <td>7.257763</td>\n",
       "      <td>6.492079</td>\n",
       "      <td>5.799779</td>\n",
       "    </tr>\n",
       "  </tbody>\n",
       "</table>\n",
       "<p>8 rows × 219 columns</p>\n",
       "</div>"
      ],
      "text/plain": [
       "                0           1           2           3           4           6  \\\n",
       "count  586.000000  586.000000  586.000000  586.000000  586.000000  586.000000   \n",
       "mean    -0.003944   -0.018733    0.039936    0.040013   -0.037687    0.002474   \n",
       "std      0.956013    1.055894    1.069385    1.072984    0.009547    1.022521   \n",
       "min     -2.632107   -4.693796   -5.144613   -1.801575   -0.052797   -3.651859   \n",
       "25%     -0.649964   -0.624182   -0.703066   -0.723181   -0.043613   -0.400718   \n",
       "50%     -0.167369    0.012895   -0.061407   -0.197446   -0.037922    0.074491   \n",
       "75%      0.579312    0.534349    0.613668    0.552470   -0.034167    0.563503   \n",
       "max      4.540532    4.821690    4.229555    5.772096    0.032803    5.407983   \n",
       "\n",
       "                7           8           9          10  ...         564  \\\n",
       "count  586.000000  586.000000  586.000000  586.000000  ...  586.000000   \n",
       "mean     0.048678   -0.074167    0.048571    0.048910  ...    0.004387   \n",
       "std      0.280293    1.059835    1.035163    0.961022  ...    1.108337   \n",
       "min     -0.910444   -4.233512   -2.822293   -3.358487  ...   -2.522356   \n",
       "25%     -0.132529   -0.741498   -0.560103   -0.535821  ...   -0.698377   \n",
       "50%      0.040296   -0.095159    0.025019    0.107648  ...   -0.053946   \n",
       "75%      0.236480    0.572741    0.690784    0.685415  ...    0.395522   \n",
       "max      0.840124    2.996320    3.761946    3.243096  ...   11.855693   \n",
       "\n",
       "              565         570         571         572         573         583  \\\n",
       "count  586.000000  586.000000  586.000000  586.000000  586.000000  586.000000   \n",
       "mean    -0.072107    0.042036   -0.031707   -0.005694    0.007296   -0.031429   \n",
       "std      0.903045    0.738199    1.023106    1.007379    1.129822    0.374877   \n",
       "min     -1.695687   -9.315659   -3.844056   -0.284829   -1.320778   -0.662875   \n",
       "25%     -0.744142    0.063946   -0.413615   -0.224666   -0.454783   -0.281063   \n",
       "50%     -0.112377    0.136428    0.137575   -0.207477   -0.176889   -0.091871   \n",
       "75%      0.171552    0.214126    0.650841   -0.189393    0.177245    0.092094   \n",
       "max      5.571719    0.494737    2.223574    6.005436    9.550733    2.250459   \n",
       "\n",
       "              586         587         589  \n",
       "count  586.000000  586.000000  586.000000  \n",
       "mean    -0.013661   -0.026361    0.009724  \n",
       "std      0.998667    0.996201    1.010922  \n",
       "min     -2.363441   -1.533593   -1.210874  \n",
       "25%     -0.658208   -0.746878   -0.641112  \n",
       "50%     -0.131625   -0.219084   -0.277787  \n",
       "75%      0.509495    0.473232    0.194555  \n",
       "max      7.257763    6.492079    5.799779  \n",
       "\n",
       "[8 rows x 219 columns]"
      ]
     },
     "execution_count": 115,
     "metadata": {},
     "output_type": "execute_result"
    }
   ],
   "source": [
    "# 5 point summary of the Training data\n",
    "X_test.describe()"
   ]
  },
  {
   "cell_type": "markdown",
   "id": "dd42d2c6-586f-44be-971c-8e9b07f82ea2",
   "metadata": {},
   "source": [
    "### Observations\n",
    "1. The training and testing data are scaled. Whereas the original data isn't scaled. Hence, even on splitting the training and testing data, the mean of train and test is close to 0, whereas Standard deviation is close to 1 for both of these. However, for the original data, the mean and Standard Deviation is way scattered for all columns.\n",
    "2. The datapoints for all columns in the training and testing data have for most columns, min values near -3, and max values near +5/6. Whereas for most columns in the original dataset, the min and max values are in 1000s.\n",
    "3. The original dataset has 591 predictor columns, whereas the training and testing data has 219 predictor columns and 1 target column"
   ]
  },
  {
   "cell_type": "markdown",
   "id": "92be1198-b9d1-4b18-b0bf-10510c67fbaa",
   "metadata": {},
   "source": [
    "# Q5. Model training, testing and tuning"
   ]
  },
  {
   "cell_type": "markdown",
   "id": "6d5607ec-9f45-4a9a-9c2c-723640174375",
   "metadata": {},
   "source": [
    "## A. Use any Supervised Learning technique to train a model"
   ]
  },
  {
   "cell_type": "code",
   "execution_count": 36,
   "id": "fbf50050-e1d9-49fe-a21c-f1fa09f075ea",
   "metadata": {},
   "outputs": [
    {
     "name": "stderr",
     "output_type": "stream",
     "text": [
      "/root/mambaforge/lib/python3.9/site-packages/sklearn/neighbors/_classification.py:200: DataConversionWarning: A column-vector y was passed when a 1d array was expected. Please change the shape of y to (n_samples,), for example using ravel().\n",
      "  return self._fit(X, y)\n"
     ]
    },
    {
     "data": {
      "text/html": [
       "<style>#sk-container-id-1 {color: black;background-color: white;}#sk-container-id-1 pre{padding: 0;}#sk-container-id-1 div.sk-toggleable {background-color: white;}#sk-container-id-1 label.sk-toggleable__label {cursor: pointer;display: block;width: 100%;margin-bottom: 0;padding: 0.3em;box-sizing: border-box;text-align: center;}#sk-container-id-1 label.sk-toggleable__label-arrow:before {content: \"▸\";float: left;margin-right: 0.25em;color: #696969;}#sk-container-id-1 label.sk-toggleable__label-arrow:hover:before {color: black;}#sk-container-id-1 div.sk-estimator:hover label.sk-toggleable__label-arrow:before {color: black;}#sk-container-id-1 div.sk-toggleable__content {max-height: 0;max-width: 0;overflow: hidden;text-align: left;background-color: #f0f8ff;}#sk-container-id-1 div.sk-toggleable__content pre {margin: 0.2em;color: black;border-radius: 0.25em;background-color: #f0f8ff;}#sk-container-id-1 input.sk-toggleable__control:checked~div.sk-toggleable__content {max-height: 200px;max-width: 100%;overflow: auto;}#sk-container-id-1 input.sk-toggleable__control:checked~label.sk-toggleable__label-arrow:before {content: \"▾\";}#sk-container-id-1 div.sk-estimator input.sk-toggleable__control:checked~label.sk-toggleable__label {background-color: #d4ebff;}#sk-container-id-1 div.sk-label input.sk-toggleable__control:checked~label.sk-toggleable__label {background-color: #d4ebff;}#sk-container-id-1 input.sk-hidden--visually {border: 0;clip: rect(1px 1px 1px 1px);clip: rect(1px, 1px, 1px, 1px);height: 1px;margin: -1px;overflow: hidden;padding: 0;position: absolute;width: 1px;}#sk-container-id-1 div.sk-estimator {font-family: monospace;background-color: #f0f8ff;border: 1px dotted black;border-radius: 0.25em;box-sizing: border-box;margin-bottom: 0.5em;}#sk-container-id-1 div.sk-estimator:hover {background-color: #d4ebff;}#sk-container-id-1 div.sk-parallel-item::after {content: \"\";width: 100%;border-bottom: 1px solid gray;flex-grow: 1;}#sk-container-id-1 div.sk-label:hover label.sk-toggleable__label {background-color: #d4ebff;}#sk-container-id-1 div.sk-serial::before {content: \"\";position: absolute;border-left: 1px solid gray;box-sizing: border-box;top: 0;bottom: 0;left: 50%;z-index: 0;}#sk-container-id-1 div.sk-serial {display: flex;flex-direction: column;align-items: center;background-color: white;padding-right: 0.2em;padding-left: 0.2em;position: relative;}#sk-container-id-1 div.sk-item {position: relative;z-index: 1;}#sk-container-id-1 div.sk-parallel {display: flex;align-items: stretch;justify-content: center;background-color: white;position: relative;}#sk-container-id-1 div.sk-item::before, #sk-container-id-1 div.sk-parallel-item::before {content: \"\";position: absolute;border-left: 1px solid gray;box-sizing: border-box;top: 0;bottom: 0;left: 50%;z-index: -1;}#sk-container-id-1 div.sk-parallel-item {display: flex;flex-direction: column;z-index: 1;position: relative;background-color: white;}#sk-container-id-1 div.sk-parallel-item:first-child::after {align-self: flex-end;width: 50%;}#sk-container-id-1 div.sk-parallel-item:last-child::after {align-self: flex-start;width: 50%;}#sk-container-id-1 div.sk-parallel-item:only-child::after {width: 0;}#sk-container-id-1 div.sk-dashed-wrapped {border: 1px dashed gray;margin: 0 0.4em 0.5em 0.4em;box-sizing: border-box;padding-bottom: 0.4em;background-color: white;}#sk-container-id-1 div.sk-label label {font-family: monospace;font-weight: bold;display: inline-block;line-height: 1.2em;}#sk-container-id-1 div.sk-label-container {text-align: center;}#sk-container-id-1 div.sk-container {/* jupyter's `normalize.less` sets `[hidden] { display: none; }` but bootstrap.min.css set `[hidden] { display: none !important; }` so we also need the `!important` here to be able to override the default hidden behavior on the sphinx rendered scikit-learn.org. See: https://github.com/scikit-learn/scikit-learn/issues/21755 */display: inline-block !important;position: relative;}#sk-container-id-1 div.sk-text-repr-fallback {display: none;}</style><div id=\"sk-container-id-1\" class=\"sk-top-container\"><div class=\"sk-text-repr-fallback\"><pre>KNeighborsClassifier(weights=&#x27;distance&#x27;)</pre><b>In a Jupyter environment, please rerun this cell to show the HTML representation or trust the notebook. <br />On GitHub, the HTML representation is unable to render, please try loading this page with nbviewer.org.</b></div><div class=\"sk-container\" hidden><div class=\"sk-item\"><div class=\"sk-estimator sk-toggleable\"><input class=\"sk-toggleable__control sk-hidden--visually\" id=\"sk-estimator-id-1\" type=\"checkbox\" checked><label for=\"sk-estimator-id-1\" class=\"sk-toggleable__label sk-toggleable__label-arrow\">KNeighborsClassifier</label><div class=\"sk-toggleable__content\"><pre>KNeighborsClassifier(weights=&#x27;distance&#x27;)</pre></div></div></div></div></div>"
      ],
      "text/plain": [
       "KNeighborsClassifier(weights='distance')"
      ]
     },
     "execution_count": 36,
     "metadata": {},
     "output_type": "execute_result"
    }
   ],
   "source": [
    "from sklearn.neighbors import KNeighborsClassifier\n",
    "NNH = KNeighborsClassifier(weights = 'distance')\n",
    "NNH.fit(X_train, y_train)"
   ]
  },
  {
   "cell_type": "markdown",
   "id": "eb601e5d-0077-45b5-9f3c-9dbaadd3c62a",
   "metadata": {},
   "source": [
    "## B. Use cross validation techniques"
   ]
  },
  {
   "cell_type": "code",
   "execution_count": 37,
   "id": "be893535-5a72-40f2-8baa-4b857d389776",
   "metadata": {},
   "outputs": [],
   "source": [
    "from sklearn.model_selection import StratifiedKFold, cross_val_score, GridSearchCV, RandomizedSearchCV"
   ]
  },
  {
   "cell_type": "markdown",
   "id": "cff721dc-d06b-4640-a25d-39bd066a6f11",
   "metadata": {},
   "source": [
    "### Using GridSearch & K fold cross validation"
   ]
  },
  {
   "cell_type": "code",
   "execution_count": 38,
   "id": "8cb80b33-e93a-4e14-b9ff-f0b8b961afdc",
   "metadata": {},
   "outputs": [
    {
     "name": "stdout",
     "output_type": "stream",
     "text": [
      "Fitting 10 folds for each of 30 candidates, totalling 300 fits\n"
     ]
    }
   ],
   "source": [
    "knn = KNeighborsClassifier()\n",
    "k_range = list(range(1, 31))\n",
    "param_grid = dict(n_neighbors=k_range)\n",
    "\n",
    "# defining parameter range\n",
    "grid = GridSearchCV(knn, param_grid, cv=10, scoring='accuracy', return_train_score=False,verbose=1)\n",
    "\n",
    "# fitting the model for grid search\n",
    "grid_search=grid.fit(X_train, y_train.values.ravel())"
   ]
  },
  {
   "cell_type": "code",
   "execution_count": 39,
   "id": "7616f675-7651-407d-b4cc-144d44f44210",
   "metadata": {},
   "outputs": [
    {
     "name": "stdout",
     "output_type": "stream",
     "text": [
      "{'n_neighbors': 2}\n"
     ]
    }
   ],
   "source": [
    "print(grid_search.best_params_)"
   ]
  },
  {
   "cell_type": "code",
   "execution_count": 40,
   "id": "90e32606-2fa0-41d1-bd44-97bf83342e46",
   "metadata": {},
   "outputs": [
    {
     "name": "stdout",
     "output_type": "stream",
     "text": [
      "Accuracy for our training dataset is : 75.17%\n",
      "Accuracy for our testing dataset is : 77.30%\n"
     ]
    }
   ],
   "source": [
    "from sklearn.metrics import accuracy_score\n",
    "\n",
    "accuracy = grid_search.best_score_ *100\n",
    "print(\"Accuracy for our training dataset is : {:.2f}%\".format(accuracy))\n",
    "\n",
    "knn = KNeighborsClassifier(**grid_search.best_params_)\n",
    "knn.fit(X_train, y_train.values.ravel())\n",
    "\n",
    "y_test_predicted=knn.predict(X_test) \n",
    "\n",
    "test_accuracy=accuracy_score(y_test,y_test_predicted)*100\n",
    "\n",
    "print(\"Accuracy for our testing dataset is : {:.2f}%\".format(test_accuracy) )"
   ]
  },
  {
   "cell_type": "markdown",
   "id": "3c69c29e-9001-4e1d-84d9-4f0d25163a87",
   "metadata": {},
   "source": [
    "### Using RandomSearchCV"
   ]
  },
  {
   "cell_type": "code",
   "execution_count": 41,
   "id": "8fbfc1a0-7831-4c20-8f97-b5a6694c5deb",
   "metadata": {},
   "outputs": [
    {
     "name": "stdout",
     "output_type": "stream",
     "text": [
      "{'n_neighbors': 2}\n"
     ]
    }
   ],
   "source": [
    "# set search parameters\n",
    "n_neighbors = list(range(1, 51))\n",
    "random_grid = {\n",
    "    'n_neighbors': n_neighbors\n",
    "}\n",
    "\n",
    "# run search\n",
    "knn = KNeighborsClassifier() \n",
    "knn_random_search = RandomizedSearchCV(estimator = knn, random_state = 42,param_distributions = random_grid,n_iter = 50, cv=3)\n",
    "knn_random_search.fit(X_train,y_train.values.ravel())\n",
    "print(knn_random_search.best_params_)"
   ]
  },
  {
   "cell_type": "code",
   "execution_count": 42,
   "id": "4c9ba4a2-a765-449b-b741-6943f6541867",
   "metadata": {},
   "outputs": [
    {
     "name": "stdout",
     "output_type": "stream",
     "text": [
      "Accuracy for our training dataset is : 73.63%\n",
      "Accuracy for our testing dataset is : 77.30%\n"
     ]
    }
   ],
   "source": [
    "from sklearn.metrics import accuracy_score\n",
    "\n",
    "accuracy = knn_random_search.best_score_ *100\n",
    "print(\"Accuracy for our training dataset is : {:.2f}%\".format(accuracy))\n",
    "\n",
    "knn = KNeighborsClassifier(**knn_random_search.best_params_)\n",
    "knn.fit(X_train, y_train.values.ravel())\n",
    "\n",
    "y_test_predicted=knn.predict(X_test) \n",
    "\n",
    "test_accuracy=accuracy_score(y_test,y_test_predicted)*100\n",
    "\n",
    "print(\"Accuracy for our testing dataset is : {:.2f}%\".format(test_accuracy) )"
   ]
  },
  {
   "cell_type": "markdown",
   "id": "641e0a3a-f778-4ced-8f93-6b20da93f696",
   "metadata": {
    "tags": []
   },
   "source": [
    "## C. Apply hyper-parameter tuning techniques to get the best accuracy"
   ]
  },
  {
   "cell_type": "code",
   "execution_count": 43,
   "id": "5a02b9e6-af27-4525-9f63-e3b590c487b8",
   "metadata": {
    "tags": []
   },
   "outputs": [],
   "source": [
    "n_neighbors = list(range(1, 21))\n",
    "weights = ['uniform','distance']\n",
    "# ,'chebyshev','seuclidean','minkowski'\n",
    "metric = ['euclidean','manhattan','chebyshev','minkowski']\n",
    "param_grid = {\n",
    "    'n_neighbors': n_neighbors,\n",
    "    'weights': weights,\n",
    "    'metric': metric,\n",
    "}\n",
    "\n",
    "# defining parameter range\n",
    "grid = GridSearchCV(knn, param_grid, cv=2, scoring='accuracy', return_train_score=False,verbose=0)\n",
    "\n",
    "# fitting the model for grid search\n",
    "grid_search=grid.fit(X_train, y_train.values.ravel())"
   ]
  },
  {
   "cell_type": "code",
   "execution_count": 44,
   "id": "94e0f129-de8a-466c-a224-da5d92c6e6f8",
   "metadata": {},
   "outputs": [
    {
     "name": "stdout",
     "output_type": "stream",
     "text": [
      "{'metric': 'manhattan', 'n_neighbors': 2, 'weights': 'uniform'}\n"
     ]
    }
   ],
   "source": [
    "print(grid_search.best_params_)"
   ]
  },
  {
   "cell_type": "code",
   "execution_count": 45,
   "id": "aa2c4b07-f792-4017-aad6-baa635af4239",
   "metadata": {},
   "outputs": [
    {
     "name": "stdout",
     "output_type": "stream",
     "text": [
      "Accuracy for our training dataset is : 84.91%\n",
      "Accuracy for our testing dataset is : 89.93%\n"
     ]
    }
   ],
   "source": [
    "accuracy = grid_search.best_score_ *100\n",
    "print(\"Accuracy for our training dataset is : {:.2f}%\".format(accuracy))\n",
    "\n",
    "knn = KNeighborsClassifier(**grid_search.best_params_)\n",
    "knn.fit(X_train, y_train.values.ravel())\n",
    "\n",
    "y_test_predicted=knn.predict(X_test) \n",
    "\n",
    "test_accuracy=accuracy_score(y_test,y_test_predicted)*100\n",
    "\n",
    "print(\"Accuracy for our testing dataset is : {:.2f}%\".format(test_accuracy) )"
   ]
  },
  {
   "cell_type": "markdown",
   "id": "c3c37870-631e-4e12-a8be-a5823adbbfbf",
   "metadata": {},
   "source": [
    "- Hence, accuracy for the testing data improved from 77.13% to 89.42%"
   ]
  },
  {
   "cell_type": "markdown",
   "id": "00ca756f-8978-45a9-b200-ba24d25f7f67",
   "metadata": {},
   "source": [
    "## D. Use any other technique/method which can enhance the model performance"
   ]
  },
  {
   "cell_type": "markdown",
   "id": "ffbda815-a688-40fe-a1f1-56e902737654",
   "metadata": {},
   "source": [
    "#### Using PCA"
   ]
  },
  {
   "cell_type": "code",
   "execution_count": 46,
   "id": "7ea93749-7696-4fe4-933d-239fbb72e851",
   "metadata": {},
   "outputs": [],
   "source": [
    "from sklearn.decomposition import PCA"
   ]
  },
  {
   "cell_type": "code",
   "execution_count": 47,
   "id": "faad930b-d08a-4f5f-8243-f216d7f76d66",
   "metadata": {
    "tags": []
   },
   "outputs": [
    {
     "data": {
      "text/html": [
       "<style>#sk-container-id-2 {color: black;background-color: white;}#sk-container-id-2 pre{padding: 0;}#sk-container-id-2 div.sk-toggleable {background-color: white;}#sk-container-id-2 label.sk-toggleable__label {cursor: pointer;display: block;width: 100%;margin-bottom: 0;padding: 0.3em;box-sizing: border-box;text-align: center;}#sk-container-id-2 label.sk-toggleable__label-arrow:before {content: \"▸\";float: left;margin-right: 0.25em;color: #696969;}#sk-container-id-2 label.sk-toggleable__label-arrow:hover:before {color: black;}#sk-container-id-2 div.sk-estimator:hover label.sk-toggleable__label-arrow:before {color: black;}#sk-container-id-2 div.sk-toggleable__content {max-height: 0;max-width: 0;overflow: hidden;text-align: left;background-color: #f0f8ff;}#sk-container-id-2 div.sk-toggleable__content pre {margin: 0.2em;color: black;border-radius: 0.25em;background-color: #f0f8ff;}#sk-container-id-2 input.sk-toggleable__control:checked~div.sk-toggleable__content {max-height: 200px;max-width: 100%;overflow: auto;}#sk-container-id-2 input.sk-toggleable__control:checked~label.sk-toggleable__label-arrow:before {content: \"▾\";}#sk-container-id-2 div.sk-estimator input.sk-toggleable__control:checked~label.sk-toggleable__label {background-color: #d4ebff;}#sk-container-id-2 div.sk-label input.sk-toggleable__control:checked~label.sk-toggleable__label {background-color: #d4ebff;}#sk-container-id-2 input.sk-hidden--visually {border: 0;clip: rect(1px 1px 1px 1px);clip: rect(1px, 1px, 1px, 1px);height: 1px;margin: -1px;overflow: hidden;padding: 0;position: absolute;width: 1px;}#sk-container-id-2 div.sk-estimator {font-family: monospace;background-color: #f0f8ff;border: 1px dotted black;border-radius: 0.25em;box-sizing: border-box;margin-bottom: 0.5em;}#sk-container-id-2 div.sk-estimator:hover {background-color: #d4ebff;}#sk-container-id-2 div.sk-parallel-item::after {content: \"\";width: 100%;border-bottom: 1px solid gray;flex-grow: 1;}#sk-container-id-2 div.sk-label:hover label.sk-toggleable__label {background-color: #d4ebff;}#sk-container-id-2 div.sk-serial::before {content: \"\";position: absolute;border-left: 1px solid gray;box-sizing: border-box;top: 0;bottom: 0;left: 50%;z-index: 0;}#sk-container-id-2 div.sk-serial {display: flex;flex-direction: column;align-items: center;background-color: white;padding-right: 0.2em;padding-left: 0.2em;position: relative;}#sk-container-id-2 div.sk-item {position: relative;z-index: 1;}#sk-container-id-2 div.sk-parallel {display: flex;align-items: stretch;justify-content: center;background-color: white;position: relative;}#sk-container-id-2 div.sk-item::before, #sk-container-id-2 div.sk-parallel-item::before {content: \"\";position: absolute;border-left: 1px solid gray;box-sizing: border-box;top: 0;bottom: 0;left: 50%;z-index: -1;}#sk-container-id-2 div.sk-parallel-item {display: flex;flex-direction: column;z-index: 1;position: relative;background-color: white;}#sk-container-id-2 div.sk-parallel-item:first-child::after {align-self: flex-end;width: 50%;}#sk-container-id-2 div.sk-parallel-item:last-child::after {align-self: flex-start;width: 50%;}#sk-container-id-2 div.sk-parallel-item:only-child::after {width: 0;}#sk-container-id-2 div.sk-dashed-wrapped {border: 1px dashed gray;margin: 0 0.4em 0.5em 0.4em;box-sizing: border-box;padding-bottom: 0.4em;background-color: white;}#sk-container-id-2 div.sk-label label {font-family: monospace;font-weight: bold;display: inline-block;line-height: 1.2em;}#sk-container-id-2 div.sk-label-container {text-align: center;}#sk-container-id-2 div.sk-container {/* jupyter's `normalize.less` sets `[hidden] { display: none; }` but bootstrap.min.css set `[hidden] { display: none !important; }` so we also need the `!important` here to be able to override the default hidden behavior on the sphinx rendered scikit-learn.org. See: https://github.com/scikit-learn/scikit-learn/issues/21755 */display: inline-block !important;position: relative;}#sk-container-id-2 div.sk-text-repr-fallback {display: none;}</style><div id=\"sk-container-id-2\" class=\"sk-top-container\"><div class=\"sk-text-repr-fallback\"><pre>PCA()</pre><b>In a Jupyter environment, please rerun this cell to show the HTML representation or trust the notebook. <br />On GitHub, the HTML representation is unable to render, please try loading this page with nbviewer.org.</b></div><div class=\"sk-container\" hidden><div class=\"sk-item\"><div class=\"sk-estimator sk-toggleable\"><input class=\"sk-toggleable__control sk-hidden--visually\" id=\"sk-estimator-id-2\" type=\"checkbox\" checked><label for=\"sk-estimator-id-2\" class=\"sk-toggleable__label sk-toggleable__label-arrow\">PCA</label><div class=\"sk-toggleable__content\"><pre>PCA()</pre></div></div></div></div></div>"
      ],
      "text/plain": [
       "PCA()"
      ]
     },
     "execution_count": 47,
     "metadata": {},
     "output_type": "execute_result"
    }
   ],
   "source": [
    "# independant variables\n",
    "X = df_signal.drop(['Time','Pass/Fail'], axis=1)\n",
    "# the dependent variable\n",
    "y = df_signal[['Pass/Fail']]\n",
    "\n",
    "# Scaling the data\n",
    "from scipy.stats import zscore\n",
    "XScaled=X.apply(zscore)\n",
    "XScaled.head()\n",
    "\n",
    "X_train_Scaled, X_test_Scaled, y_train, y_test = train_test_split(XScaled, y, train_size = .80, random_state=0)\n",
    "\n",
    "pca = PCA()\n",
    "pca.fit(X_train_Scaled)"
   ]
  },
  {
   "cell_type": "code",
   "execution_count": 48,
   "id": "ce4bc000-b112-4344-aaf8-0011c7e2dcfb",
   "metadata": {},
   "outputs": [
    {
     "data": {
      "text/plain": [
       "((1253, 219), (314, 219), (1253, 1), (314, 1))"
      ]
     },
     "execution_count": 48,
     "metadata": {},
     "output_type": "execute_result"
    }
   ],
   "source": [
    "X_train_Scaled.shape, X_test_Scaled.shape, y_train.shape, y_test.shape"
   ]
  },
  {
   "cell_type": "code",
   "execution_count": 49,
   "id": "dcc9d3ee-e1a3-4aef-b5a1-bf00669fe15d",
   "metadata": {},
   "outputs": [
    {
     "data": {
      "image/png": "[encoded data removed]",
      "text/plain": [
       "<Figure size 432x288 with 1 Axes>"
      ]
     },
     "metadata": {
      "needs_background": "light"
     },
     "output_type": "display_data"
    }
   ],
   "source": [
    "plt.step(list(range(1,220)),np.cumsum(pca.explained_variance_ratio_), where='mid')\n",
    "plt.ylabel('Cum of variation explained')\n",
    "plt.xlabel('eigen Value')\n",
    "plt.show()"
   ]
  },
  {
   "cell_type": "markdown",
   "id": "11a948ce-772a-4b2c-88bc-c475a9955799",
   "metadata": {},
   "source": [
    "- Hence, 150 seems a reasonable number as it provides details for more than 90% of the data."
   ]
  },
  {
   "cell_type": "code",
   "execution_count": 50,
   "id": "cd4a9612-c1eb-476c-b8c9-e67775e64930",
   "metadata": {
    "tags": []
   },
   "outputs": [
    {
     "name": "stdout",
     "output_type": "stream",
     "text": [
      "[[ 0.03938479 -0.00962393 -0.00831935 ...  0.04095677 -0.02262124\n",
      "  -0.02406935]\n",
      " [-0.03202975  0.00375315 -0.0026834  ... -0.03325954  0.01490864\n",
      "   0.04304356]\n",
      " [-0.0142449   0.01896111  0.01300556 ...  0.02364228 -0.0181542\n",
      "   0.00191123]\n",
      " ...\n",
      " [-0.04338855 -0.03769048 -0.12696734 ...  0.00747138 -0.01306392\n",
      "   0.02485897]\n",
      " [-0.11371288 -0.05893558  0.03160337 ...  0.03596548  0.01682052\n",
      "   0.11448289]\n",
      " [ 0.00503752  0.0012111  -0.06212179 ... -0.02756968 -0.00319345\n",
      "   0.04359276]]\n",
      "[0.0370038  0.03450443 0.02603429 0.02377904 0.02068867 0.01882757\n",
      " 0.01749734 0.01705101 0.01633056 0.01515553 0.01477653 0.0138589\n",
      " 0.01349541 0.01308603 0.0123518  0.01202757 0.01153699 0.01118827\n",
      " 0.01095144 0.01064651 0.0104699  0.01014938 0.01002054 0.00986464\n",
      " 0.00963785 0.00936522 0.00920846 0.0089866  0.00892498 0.0087549\n",
      " 0.00863545 0.00837104 0.00829717 0.00821941 0.00806974 0.00797659\n",
      " 0.00785637 0.00782897 0.00759071 0.00756261 0.00733198 0.00723833\n",
      " 0.00703627 0.00699853 0.00690608 0.0068113  0.00663966 0.00656817\n",
      " 0.00640558 0.00637213 0.0062181  0.00616637 0.00602233 0.0059265\n",
      " 0.0058663  0.00580148 0.0057187  0.0056413  0.00558692 0.0054691\n",
      " 0.00546114 0.00534963 0.00524832 0.00522674 0.00510006 0.00503965\n",
      " 0.00499511 0.00497757 0.00486902 0.00483147 0.00481512 0.00478103\n",
      " 0.00474463 0.00458248 0.00453756 0.00449839 0.00444766 0.00439482\n",
      " 0.00433793 0.00426739 0.00426244 0.00416934 0.00415997 0.00414733\n",
      " 0.00407816 0.0040365  0.00397064 0.00395675 0.00386878 0.00383371\n",
      " 0.00379375 0.00377355 0.00370793 0.00366804 0.00360056 0.00359344\n",
      " 0.00356027 0.00352344 0.00346675 0.0034159  0.00335451 0.00329097\n",
      " 0.00328503 0.00323567 0.00319627 0.0031652  0.00312032 0.00307902\n",
      " 0.00306405 0.00298322 0.00298051 0.00291885 0.00285646 0.00284202\n",
      " 0.00281463 0.0027693  0.00274943 0.00269303 0.00264399 0.00256934\n",
      " 0.00254754 0.00252876 0.00250861 0.00244676 0.00242878 0.00238322\n",
      " 0.00235651 0.00231763 0.00227693 0.00223354 0.00220577 0.00217134\n",
      " 0.00213081 0.00211738 0.00208823 0.00206284 0.00205128 0.00201749\n",
      " 0.00195435 0.00193237 0.00190086 0.00183959 0.00181241 0.0017445\n",
      " 0.00172531 0.00169588 0.00167287 0.00165556 0.00160906 0.00157944]\n"
     ]
    }
   ],
   "source": [
    "pca_150 = PCA(n_components=150)\n",
    "pca_150.fit(X_train_Scaled)\n",
    "print(pca_150.components_)\n",
    "print(pca_150.explained_variance_ratio_)\n",
    "X_train_pca_150 = pca_150.transform(X_train_Scaled)\n",
    "X_test_pca_150 = pca_150.transform(X_test_Scaled)"
   ]
  },
  {
   "cell_type": "code",
   "execution_count": 51,
   "id": "c7fe2d9a-25fc-4ec5-98e4-df4b583a4388",
   "metadata": {},
   "outputs": [],
   "source": [
    "n_neighbors = list(range(1, 21))\n",
    "weights = ['uniform','distance']\n",
    "# ,'chebyshev','seuclidean','minkowski'\n",
    "metric = ['euclidean','manhattan','chebyshev','minkowski']\n",
    "param_grid = {\n",
    "    'n_neighbors': n_neighbors,\n",
    "    'weights': weights,\n",
    "    'metric': metric,\n",
    "}\n",
    "\n",
    "# defining parameter range\n",
    "grid_knn = GridSearchCV(knn, param_grid, cv=2, scoring='accuracy', return_train_score=False,verbose=0)\n",
    "\n",
    "# fitting the model for grid search\n",
    "grid_search_knn=grid_knn.fit(X_train_pca_150, y_train.values.ravel())"
   ]
  },
  {
   "cell_type": "code",
   "execution_count": 52,
   "id": "be46fa1f-089e-4f43-bb50-a50e7954921f",
   "metadata": {},
   "outputs": [
    {
     "name": "stdout",
     "output_type": "stream",
     "text": [
      "Accuracy for our training dataset is : 92.82%\n",
      "Accuracy for our testing dataset is : 95.54%\n"
     ]
    }
   ],
   "source": [
    "accuracy_knn_train = grid_search_knn.best_score_ *100\n",
    "print(\"Accuracy for our training dataset is : {:.2f}%\".format(accuracy_knn_train))\n",
    "\n",
    "knn = KNeighborsClassifier(**grid_search_knn.best_params_)\n",
    "knn.fit(X_train_pca_150, y_train.values.ravel())\n",
    "\n",
    "y_test_predicted_knn=knn.predict(X_test_pca_150) \n",
    "\n",
    "test_accuracy_knn=accuracy_score(y_test,y_test_predicted_knn)*100\n",
    "\n",
    "print(\"Accuracy for our testing dataset is : {:.2f}%\".format(test_accuracy_knn) )"
   ]
  },
  {
   "cell_type": "markdown",
   "id": "a887bdf3-3238-4750-ba4d-54f8a88f5df2",
   "metadata": {},
   "source": [
    "- Hence, by performing (1) Scaling, (2) Dimensionality Reduction using PCA, (3) GridSearch K- Cross Validation, we were able to bring the accuracy score of our testing data to 95.54%"
   ]
  },
  {
   "cell_type": "markdown",
   "id": "c0b50319-74dc-433a-a762-27cd8d5a243b",
   "metadata": {
    "tags": []
   },
   "source": [
    "## E. Display and explain the classification report in detail"
   ]
  },
  {
   "cell_type": "code",
   "execution_count": 53,
   "id": "c2c81166-0b58-4dfd-ae0b-bb1b272019e5",
   "metadata": {
    "tags": []
   },
   "outputs": [
    {
     "name": "stdout",
     "output_type": "stream",
     "text": [
      "              precision    recall  f1-score   support\n",
      "\n",
      "          -1       0.96      1.00      0.98       301\n",
      "           1       0.00      0.00      0.00        13\n",
      "\n",
      "    accuracy                           0.96       314\n",
      "   macro avg       0.48      0.50      0.49       314\n",
      "weighted avg       0.92      0.96      0.94       314\n",
      "\n"
     ]
    }
   ],
   "source": [
    "from sklearn.metrics import classification_report\n",
    "print(classification_report(y_test, y_test_predicted_knn))"
   ]
  },
  {
   "cell_type": "markdown",
   "id": "286039c0-6dc3-4494-a9ca-888387f0533c",
   "metadata": {},
   "source": [
    "### Observations\n",
    "1. The model provided precision score of 96% for Passed student and 100% recall. Hence, 98% of correct positive predictions relative to total positive predictions were correctly predicted. The F1-score, which is the harmonic mean of precision and recall is 98%, which indicates model did a good job.\n",
    "2. Out of 314 test data points, 301 were passed data, and 13 were failed. Weighted average for precision recall and f1-score are 92%, 96% and 94%. This indicated the model has done a good job.\n",
    "3. However, model wasn't able to predict most fail values, hence, it didn't do a good job to predict fail target feature value."
   ]
  },
  {
   "cell_type": "markdown",
   "id": "a9ae4610-4822-454f-953b-39db55573e9d",
   "metadata": {},
   "source": [
    "## F. Apply the above steps for all possible models that you have learnt so far\n",
    "\n",
    "Note:\n",
    "1. Since the dataset is based on classification, we will only create Supervised Machine Learning models\n",
    "2. PCA and Scaling will be same for all the models, hence, this is already done ahead of other steps"
   ]
  },
  {
   "cell_type": "markdown",
   "id": "5677efbe-1705-47c4-ac31-6645bb7c9b15",
   "metadata": {
    "jp-MarkdownHeadingCollapsed": true,
    "tags": []
   },
   "source": [
    "### Logistic Regression"
   ]
  },
  {
   "cell_type": "code",
   "execution_count": 54,
   "id": "9bbbec91-56ec-491d-a05a-613b1b9c31a7",
   "metadata": {},
   "outputs": [
    {
     "name": "stdout",
     "output_type": "stream",
     "text": [
      "Accuracy: 0.9171974522292994\n"
     ]
    }
   ],
   "source": [
    "from sklearn.linear_model import LogisticRegression\n",
    "logreg = LogisticRegression()\n",
    "logreg.fit(X_train_pca_150,y_train.values.ravel())\n",
    "y_pred = logreg.predict(X_test_pca_150)\n",
    "from sklearn import metrics\n",
    "print(\"Accuracy:\",metrics.accuracy_score(y_test, y_pred))"
   ]
  },
  {
   "cell_type": "code",
   "execution_count": 55,
   "id": "15c1708f-e849-45ca-8f9c-57b23caa5925",
   "metadata": {},
   "outputs": [
    {
     "name": "stdout",
     "output_type": "stream",
     "text": [
      "{'C': 0.001, 'penalty': 'l1', 'solver': 'liblinear'}\n"
     ]
    }
   ],
   "source": [
    "import warnings\n",
    "warnings.filterwarnings('ignore')\n",
    "\n",
    "# parameter grid\n",
    "parameters = {\n",
    "    'penalty' : ['l1','l2'], \n",
    "    'C'       : np.logspace(-3,3,7),\n",
    "    'solver'  : ['newton-cg', 'lbfgs', 'liblinear'],\n",
    "}\n",
    "\n",
    "logreg = LogisticRegression()\n",
    "grid_log = GridSearchCV(logreg,                    # model\n",
    "                   param_grid = parameters,   # hyperparameters\n",
    "                   scoring='accuracy',        # metric for scoring\n",
    "                   cv=3)                     # number of folds\n",
    "grid_search_log = grid_log.fit(X_train_pca_150,y_train.values.ravel())\n",
    "print(grid_search_log.best_params_)"
   ]
  },
  {
   "cell_type": "code",
   "execution_count": 56,
   "id": "7a0c2fc6-f8d9-40db-a46e-9970e0701b8f",
   "metadata": {},
   "outputs": [
    {
     "name": "stdout",
     "output_type": "stream",
     "text": [
      "Accuracy for our training dataset is : 92.74%\n",
      "Accuracy for our testing dataset is : 95.86%\n",
      "\n",
      "Classification Report Shown Below:\n",
      "\n",
      "              precision    recall  f1-score   support\n",
      "\n",
      "          -1       0.96      1.00      0.98       301\n",
      "           1       0.00      0.00      0.00        13\n",
      "\n",
      "    accuracy                           0.96       314\n",
      "   macro avg       0.48      0.50      0.49       314\n",
      "weighted avg       0.92      0.96      0.94       314\n",
      "\n"
     ]
    }
   ],
   "source": [
    "accuracy_log = grid_search_log.best_score_ *100\n",
    "print(\"Accuracy for our training dataset is : {:.2f}%\".format(accuracy_log))\n",
    "\n",
    "lr = LogisticRegression(**grid_search_log.best_params_)\n",
    "lr.fit(X_train_pca_150, y_train.values.ravel())\n",
    "\n",
    "y_test_predicted_log=lr.predict(X_test_pca_150) \n",
    "\n",
    "test_accuracy_log=accuracy_score(y_test,y_test_predicted_log)*100\n",
    "\n",
    "print(\"Accuracy for our testing dataset is : {:.2f}%\".format(test_accuracy_log) )\n",
    "\n",
    "print(\"\\nClassification Report Shown Below:\\n\")\n",
    "print(classification_report(y_test, y_test_predicted_log))"
   ]
  },
  {
   "cell_type": "markdown",
   "id": "f8d653d2-57d2-49ae-b9ff-d4e78520a592",
   "metadata": {
    "tags": []
   },
   "source": [
    "### Random Forest Classifier"
   ]
  },
  {
   "cell_type": "code",
   "execution_count": 57,
   "id": "51773743-5cd8-4f4f-a05a-8f6bac239040",
   "metadata": {},
   "outputs": [
    {
     "name": "stdout",
     "output_type": "stream",
     "text": [
      "{'bootstrap': False, 'criterion': 'gini', 'max_depth': None, 'max_features': 8, 'min_samples_leaf': 6, 'min_samples_split': 9}\n"
     ]
    }
   ],
   "source": [
    "from sklearn.ensemble import RandomForestClassifier\n",
    "rfc = RandomForestClassifier(n_estimators=50)\n",
    "\n",
    "# parameters and distributions to sample from\n",
    "param_dist = {\"max_depth\": [3, None],\n",
    "              \"max_features\": sp_randint(1, 11),\n",
    "              \"min_samples_split\": sp_randint(2, 11),\n",
    "              \"min_samples_leaf\": sp_randint(1, 11),\n",
    "              \"bootstrap\": [True, False],\n",
    "              \"criterion\": [\"gini\", \"entropy\"]}\n",
    "\n",
    "# run randomized search\n",
    "samples = 10  # number of random samples \n",
    "randomCV = RandomizedSearchCV(rfc, param_distributions=param_dist, n_iter=samples, cv=3) #default cv = 3\n",
    "\n",
    "random_search_rfc = randomCV.fit(X_train_pca_150, y_train.values.ravel())\n",
    "print(random_search_rfc.best_params_)"
   ]
  },
  {
   "cell_type": "code",
   "execution_count": 58,
   "id": "d9677567-c58d-41ba-a090-b781b868fad0",
   "metadata": {},
   "outputs": [
    {
     "name": "stdout",
     "output_type": "stream",
     "text": [
      "Accuracy for our training dataset is : 92.74%\n",
      "Accuracy for our testing dataset is : 95.86%\n",
      "\n",
      "Classification Report Shown Below:\n",
      "\n",
      "              precision    recall  f1-score   support\n",
      "\n",
      "          -1       0.96      1.00      0.98       301\n",
      "           1       0.00      0.00      0.00        13\n",
      "\n",
      "    accuracy                           0.96       314\n",
      "   macro avg       0.48      0.50      0.49       314\n",
      "weighted avg       0.92      0.96      0.94       314\n",
      "\n"
     ]
    }
   ],
   "source": [
    "accuracy_rfc = random_search_rfc.best_score_ *100\n",
    "print(\"Accuracy for our training dataset is : {:.2f}%\".format(accuracy_rfc))\n",
    "\n",
    "rfc = RandomForestClassifier(**random_search_rfc.best_params_)\n",
    "rfc.fit(X_train_pca_150, y_train.values.ravel())\n",
    "\n",
    "y_test_predicted_rfc=rfc.predict(X_test_pca_150) \n",
    "\n",
    "test_accuracy_rfc=accuracy_score(y_test,y_test_predicted_rfc)*100\n",
    "\n",
    "print(\"Accuracy for our testing dataset is : {:.2f}%\".format(test_accuracy_rfc) )\n",
    "\n",
    "print(\"\\nClassification Report Shown Below:\\n\")\n",
    "print(classification_report(y_test, y_test_predicted_rfc))"
   ]
  },
  {
   "cell_type": "code",
   "execution_count": 77,
   "id": "b4f9462a-f1ef-4b06-9e46-d9d0cc4b9065",
   "metadata": {},
   "outputs": [
    {
     "name": "stdout",
     "output_type": "stream",
     "text": [
      "{'criterion': 'gini', 'max_depth': 4, 'max_features': 'auto', 'n_estimators': 200}\n"
     ]
    }
   ],
   "source": [
    "param_grid = { \n",
    "    'n_estimators': [200],\n",
    "    'max_features': ['auto', 'sqrt', 'log2'],\n",
    "    'max_depth' : [4,5],\n",
    "    'criterion' :['gini', 'entropy']\n",
    "}\n",
    "rfc_grid_clf=RandomForestClassifier(random_state=42)\n",
    "grid_CV_rfc = GridSearchCV(estimator=rfc_grid_clf, param_grid=param_grid, cv= 5)\n",
    "grid_CV_rfc_search = grid_CV_rfc.fit(X_train_pca_150, y_train.values.ravel())\n",
    "print(grid_CV_rfc_search.best_params_)"
   ]
  },
  {
   "cell_type": "code",
   "execution_count": 79,
   "id": "90d95751-654b-4668-b8b8-d0bb3da382e8",
   "metadata": {},
   "outputs": [
    {
     "name": "stdout",
     "output_type": "stream",
     "text": [
      "Accuracy for our training dataset is : 92.74%\n",
      "Accuracy for our testing dataset is : 95.86%\n",
      "\n",
      "Classification Report Shown Below:\n",
      "\n",
      "              precision    recall  f1-score   support\n",
      "\n",
      "          -1       0.96      1.00      0.98       301\n",
      "           1       0.00      0.00      0.00        13\n",
      "\n",
      "    accuracy                           0.96       314\n",
      "   macro avg       0.48      0.50      0.49       314\n",
      "weighted avg       0.92      0.96      0.94       314\n",
      "\n"
     ]
    }
   ],
   "source": [
    "accuracy_rfc_grid = grid_CV_rfc_search.best_score_ *100\n",
    "print(\"Accuracy for our training dataset is : {:.2f}%\".format(accuracy_rfc_grid))\n",
    "\n",
    "rfc_grid = RandomForestClassifier(**grid_CV_rfc_search.best_params_)\n",
    "rfc_grid.fit(X_train_pca_150, y_train.values.ravel())\n",
    "\n",
    "y_test_predicted_rfc_grid=rfc_grid.predict(X_test_pca_150) \n",
    "\n",
    "test_accuracy_rfc_grid=accuracy_score(y_test,y_test_predicted_rfc_grid)*100\n",
    "\n",
    "print(\"Accuracy for our testing dataset is : {:.2f}%\".format(test_accuracy_rfc_grid) )\n",
    "\n",
    "print(\"\\nClassification Report Shown Below:\\n\")\n",
    "print(classification_report(y_test, y_test_predicted_rfc_grid))"
   ]
  },
  {
   "cell_type": "markdown",
   "id": "26bc0f59-4cf2-4de6-b803-37f55ebc33fd",
   "metadata": {
    "jp-MarkdownHeadingCollapsed": true,
    "tags": []
   },
   "source": [
    "### Support Vector Classifier"
   ]
  },
  {
   "cell_type": "code",
   "execution_count": 59,
   "id": "9b92f0b6-b55a-46a7-be94-b64fa1a4d7d8",
   "metadata": {},
   "outputs": [
    {
     "name": "stdout",
     "output_type": "stream",
     "text": [
      "{'C': 0.1, 'gamma': 1, 'kernel': 'rbf'}\n"
     ]
    }
   ],
   "source": [
    "from sklearn.svm import SVC\n",
    "model = SVC()\n",
    "\n",
    "param_grid = {'C': [0.1, 1, 10, 100, 1000], \n",
    "              'gamma': [1, 0.1, 0.01, 0.001, 0.0001],\n",
    "              'kernel': ['rbf']} \n",
    "  \n",
    "grid = GridSearchCV(model, param_grid, refit = True, verbose = 0)\n",
    "  \n",
    "# fitting the model for grid search\n",
    "grid_search_svc = grid.fit(X_train_pca_150, y_train.values.ravel())\n",
    "print(grid_search_svc.best_params_)"
   ]
  },
  {
   "cell_type": "code",
   "execution_count": 60,
   "id": "382f1722-4528-4e07-a90c-aae1eaa6c051",
   "metadata": {},
   "outputs": [
    {
     "name": "stdout",
     "output_type": "stream",
     "text": [
      "Accuracy for our training dataset is : 92.74%\n",
      "Accuracy for our testing dataset is : 95.86%\n",
      "\n",
      "Classification Report Shown Below:\n",
      "\n",
      "              precision    recall  f1-score   support\n",
      "\n",
      "          -1       0.96      1.00      0.98       301\n",
      "           1       0.00      0.00      0.00        13\n",
      "\n",
      "    accuracy                           0.96       314\n",
      "   macro avg       0.48      0.50      0.49       314\n",
      "weighted avg       0.92      0.96      0.94       314\n",
      "\n"
     ]
    }
   ],
   "source": [
    "accuracy_svc = grid_search_svc.best_score_ *100\n",
    "print(\"Accuracy for our training dataset is : {:.2f}%\".format(accuracy_svc))\n",
    "\n",
    "svc_model = SVC(**grid_search_svc.best_params_)\n",
    "svc_model.fit(X_train_pca_150, y_train.values.ravel())\n",
    "\n",
    "y_test_predicted_svc=svc_model.predict(X_test_pca_150) \n",
    "\n",
    "test_accuracy_svc=accuracy_score(y_test,y_test_predicted_svc)*100\n",
    "\n",
    "print(\"Accuracy for our testing dataset is : {:.2f}%\".format(test_accuracy_svc) )\n",
    "\n",
    "print(\"\\nClassification Report Shown Below:\\n\")\n",
    "print(classification_report(y_test, y_test_predicted_svc))"
   ]
  },
  {
   "cell_type": "markdown",
   "id": "71776ef1-5d1f-4621-bb43-d5e3902df706",
   "metadata": {
    "jp-MarkdownHeadingCollapsed": true,
    "tags": []
   },
   "source": [
    "### XGBoost Classifier"
   ]
  },
  {
   "cell_type": "code",
   "execution_count": 61,
   "id": "25fc395b-e8d1-4511-a03c-586bf2a57ec2",
   "metadata": {},
   "outputs": [],
   "source": [
    "from xgboost import XGBClassifier\n",
    "\n",
    "# Define the search space\n",
    "param_grid = { \n",
    "    # Percentage of columns to be randomly samples for each tree.\n",
    "    \"colsample_bytree\": [ 0.3, 0.5 , 0.8 ],\n",
    "    # reg_alpha provides l1 regularization to the weight, higher values result in more conservative models\n",
    "    \"reg_alpha\": [0, 0.5, 1, 5],\n",
    "    # reg_lambda provides l2 regularization to the weight, higher values result in more conservative models\n",
    "    \"reg_lambda\": [0, 0.5, 1, 5]\n",
    "    }\n",
    "# Set up score\n",
    "scoring = ['accuracy']\n",
    "# Set up the k-fold cross-validation\n",
    "kfold = StratifiedKFold(n_splits=3, shuffle=True, random_state=0)"
   ]
  },
  {
   "cell_type": "markdown",
   "id": "11d0fa47-0de9-4f20-83ba-402f3687b6c4",
   "metadata": {},
   "source": [
    "- XGB requires target class column to have values as 0,1,2. But our target class has value -1,1. Hence, using label encoder to train xgb."
   ]
  },
  {
   "cell_type": "code",
   "execution_count": 62,
   "id": "4825a4d5-c88c-418f-acb6-3cef9d94da9a",
   "metadata": {},
   "outputs": [],
   "source": [
    "from sklearn.preprocessing import LabelEncoder\n",
    "le = LabelEncoder()\n",
    "y_train_le = le.fit_transform(y_train)\n",
    "y_test_le = le.fit_transform(y_test)"
   ]
  },
  {
   "cell_type": "code",
   "execution_count": 63,
   "id": "5d9d55ee-3ee1-43e2-8fad-3fcbd286e544",
   "metadata": {},
   "outputs": [
    {
     "name": "stdout",
     "output_type": "stream",
     "text": [
      "{'colsample_bytree': 0.3, 'reg_alpha': 0, 'reg_lambda': 0.5}\n"
     ]
    }
   ],
   "source": [
    "# Define grid search\n",
    "\n",
    "grid_search_xgb = GridSearchCV(estimator=XGBClassifier(),\n",
    "                           param_grid=param_grid,\n",
    "                           scoring='roc_auc',\n",
    "                           n_jobs=-1, refit='recall',\n",
    "                           cv=kfold,\n",
    "                           verbose=0)\n",
    "# Fit grid search\n",
    "grid_result_xgb = grid_search_xgb.fit(X_train_pca_150, y_train_le)\n",
    "# Print grid search summary\n",
    "print(grid_result_xgb.best_params_)"
   ]
  },
  {
   "cell_type": "code",
   "execution_count": 64,
   "id": "bffa66f8-6d0e-425e-84da-4ed203021106",
   "metadata": {},
   "outputs": [
    {
     "name": "stdout",
     "output_type": "stream",
     "text": [
      "Accuracy for our training dataset is : 68.75%\n",
      "Accuracy for our testing dataset is : 95.22%\n",
      "\n",
      "Classification Report Shown Below:\n",
      "\n",
      "              precision    recall  f1-score   support\n",
      "\n",
      "           0       0.96      0.99      0.98       301\n",
      "           1       0.00      0.00      0.00        13\n",
      "\n",
      "    accuracy                           0.95       314\n",
      "   macro avg       0.48      0.50      0.49       314\n",
      "weighted avg       0.92      0.95      0.94       314\n",
      "\n"
     ]
    }
   ],
   "source": [
    "accuracy_xgb = grid_result_xgb.best_score_ *100\n",
    "print(\"Accuracy for our training dataset is : {:.2f}%\".format(accuracy_xgb))\n",
    "\n",
    "xgb_model = XGBClassifier(**grid_result_xgb.best_params_)\n",
    "xgb_model.fit(X_train_pca_150, y_train_le)\n",
    "\n",
    "y_test_predicted_xgb=xgb_model.predict(X_test_pca_150) \n",
    "\n",
    "test_accuracy_xgb=accuracy_score(y_test_le,y_test_predicted_xgb)*100\n",
    "\n",
    "print(\"Accuracy for our testing dataset is : {:.2f}%\".format(test_accuracy_xgb) )\n",
    "\n",
    "print(\"\\nClassification Report Shown Below:\\n\")\n",
    "print(classification_report(y_test_le, y_test_predicted_xgb))"
   ]
  },
  {
   "cell_type": "markdown",
   "id": "dc64a32d-2966-4681-bb90-2142a6775b69",
   "metadata": {},
   "source": [
    "# Q6.Post Training and Conclusion"
   ]
  },
  {
   "cell_type": "markdown",
   "id": "5ddd4775-9d36-461b-abd6-2f80b8fc09d9",
   "metadata": {},
   "source": [
    "## A. Display and compare all the models designed with their train and test accuracies"
   ]
  },
  {
   "cell_type": "code",
   "execution_count": 80,
   "id": "2b7964c8-2a2c-4a65-b399-4eee139e3262",
   "metadata": {},
   "outputs": [
    {
     "data": {
      "text/html": [
       "<div>\n",
       "<style scoped>\n",
       "    .dataframe tbody tr th:only-of-type {\n",
       "        vertical-align: middle;\n",
       "    }\n",
       "\n",
       "    .dataframe tbody tr th {\n",
       "        vertical-align: top;\n",
       "    }\n",
       "\n",
       "    .dataframe thead th {\n",
       "        text-align: right;\n",
       "    }\n",
       "</style>\n",
       "<table border=\"1\" class=\"dataframe\">\n",
       "  <thead>\n",
       "    <tr style=\"text-align: right;\">\n",
       "      <th></th>\n",
       "      <th>Training Accuracy</th>\n",
       "      <th>Testing Accuracy</th>\n",
       "    </tr>\n",
       "  </thead>\n",
       "  <tbody>\n",
       "    <tr>\n",
       "      <th>KNN</th>\n",
       "      <td>92.817107</td>\n",
       "      <td>95.541401</td>\n",
       "    </tr>\n",
       "    <tr>\n",
       "      <th>Logistic Regression</th>\n",
       "      <td>92.737485</td>\n",
       "      <td>95.859873</td>\n",
       "    </tr>\n",
       "    <tr>\n",
       "      <th>Random Forest RandomSearchCV</th>\n",
       "      <td>92.737485</td>\n",
       "      <td>95.859873</td>\n",
       "    </tr>\n",
       "    <tr>\n",
       "      <th>Random Forest GridSearchCV</th>\n",
       "      <td>92.737530</td>\n",
       "      <td>95.859873</td>\n",
       "    </tr>\n",
       "    <tr>\n",
       "      <th>Support Vector Classifier</th>\n",
       "      <td>92.737530</td>\n",
       "      <td>95.859873</td>\n",
       "    </tr>\n",
       "    <tr>\n",
       "      <th>XGBoost</th>\n",
       "      <td>68.748535</td>\n",
       "      <td>95.222930</td>\n",
       "    </tr>\n",
       "  </tbody>\n",
       "</table>\n",
       "</div>"
      ],
      "text/plain": [
       "                              Training Accuracy  Testing Accuracy\n",
       "KNN                                   92.817107         95.541401\n",
       "Logistic Regression                   92.737485         95.859873\n",
       "Random Forest RandomSearchCV          92.737485         95.859873\n",
       "Random Forest GridSearchCV            92.737530         95.859873\n",
       "Support Vector Classifier             92.737530         95.859873\n",
       "XGBoost                               68.748535         95.222930"
      ]
     },
     "execution_count": 80,
     "metadata": {},
     "output_type": "execute_result"
    }
   ],
   "source": [
    "training_accuracies=[accuracy_knn_train, accuracy_log, accuracy_rfc, accuracy_rfc_grid, accuracy_svc, accuracy_xgb]\n",
    "testing_accuracies=[test_accuracy_knn, test_accuracy_log, test_accuracy_rfc, test_accuracy_rfc_grid, test_accuracy_svc, test_accuracy_xgb]\n",
    "\n",
    "data = {'Training Accuracy' : training_accuracies, 'Testing Accuracy': testing_accuracies}\n",
    "index =['KNN ', 'Logistic Regression','Random Forest RandomSearchCV', 'Random Forest GridSearchCV', 'Support Vector Classifier','XGBoost']\n",
    "pd.DataFrame(data, index=index)"
   ]
  },
  {
   "cell_type": "markdown",
   "id": "53fccbe3-bfce-41fb-9d14-3b38fae7fc73",
   "metadata": {},
   "source": [
    "## B. Select the final best trained model along with your detailed comments for selecting this model\n",
    "\n",
    "As observed from the above dataframe for training and testing accuracies, we find that all the models produced Fairly similarly good on the testing data with 95%+ testing accuracy. For training, XGBoost performed way worse with ~68%, however, the remaining models produced accuracies of ~92% on training data. The top 2 performing models on both training and test data are \"Random Forest\" & \"Support Vector Classifier\". The testing accuracy for both of these is same with the currrent optimisation, the training accuracy for SVC is slightly better than Random Forest. Regardless, on increasing depth of random forest and n_estimators, we can improve it's accuracy, but due to heavy GPU computation, I couldn't perform it on the current system. Hence, choosing Random Forest Model RandomisedSearch as the best trained model"
   ]
  },
  {
   "cell_type": "markdown",
   "id": "861a7bc5-9f3f-41ed-8342-32fbeb612740",
   "metadata": {},
   "source": [
    "## C. Pickle the selected model for future use"
   ]
  },
  {
   "cell_type": "code",
   "execution_count": 81,
   "id": "534722a0-05f4-48e7-af48-6004e01c54bd",
   "metadata": {},
   "outputs": [],
   "source": [
    "import pickle\n",
    "pickle.dump(rfc_grid, open('model_random_forest.pkl', 'wb'))"
   ]
  },
  {
   "cell_type": "markdown",
   "id": "0a610d6a-99da-4280-abd2-dbf51b6c67fc",
   "metadata": {},
   "source": [
    "## D. Write your conclusion on the results\n",
    "Detailed suggestions on the data points collected by the bank to do better Analysis in the future\n",
    "1. The results of the model indicated that they did a good job in predicting passed status. However, none of them did a good job in predicted failed values.\n",
    "2. There was high imbalance the data, and hence, upsampling was required to perform on the data\n",
    "3. Suggestion would be to provide metadata on the features present in the dataset. The current columns were just a bunch of numerical numbers, which didn't meant anything to the human eye. Hence, understanding what is the function of each column, will help the data scientist to logically infer which columns can be proved more useful than the other.\n",
    "4. The data had multiple null values, and 450+ columns with no meaning. The data wasn't well prepared to provide to a data scientist, and hence, required a lot of "
   ]
  },
  {
   "cell_type": "markdown",
   "id": "d4e80927-ddd4-421d-89bc-b43391e45ec8",
   "metadata": {},
   "source": [
    "# THE End"
   ]
  }
 ],
 "metadata": {
  "kernelspec": {
   "display_name": "Python 3 (ipykernel)",
   "language": "python",
   "name": "python3"
  },
  "language_info": {
   "codemirror_mode": {
    "name": "ipython",
    "version": 3
   },
   "file_extension": ".py",
   "mimetype": "text/x-python",
   "name": "python",
   "nbconvert_exporter": "python",
   "pygments_lexer": "ipython3",
   "version": "3.9.13"
  }
 },
 "nbformat": 4,
 "nbformat_minor": 5
}
